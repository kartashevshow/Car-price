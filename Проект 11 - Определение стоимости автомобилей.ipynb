{
 "cells": [
  {
   "cell_type": "markdown",
   "metadata": {},
   "source": [
    "# Определение стоимости автомобилей"
   ]
  },
  {
   "cell_type": "markdown",
   "metadata": {},
   "source": [
    "Сервис по продаже автомобилей с пробегом «Не бит, не крашен» разрабатывает приложение для привлечения новых клиентов. В нём можно быстро узнать рыночную стоимость своего автомобиля. В вашем распоряжении исторические данные: технические характеристики, комплектации и цены автомобилей. Вам нужно построить модель для определения стоимости. \n",
    "\n",
    "Заказчику важны:\n",
    "\n",
    "- качество предсказания;\n",
    "- скорость предсказания;\n",
    "- время обучения."
   ]
  },
  {
   "cell_type": "markdown",
   "metadata": {},
   "source": [
    "Признаки\n",
    "* **DateCrawled** — дата скачивания анкеты из базы\n",
    "* **VehicleType** — тип автомобильного кузова\n",
    "* **RegistrationYear** — год регистрации автомобиля\n",
    "* **Gearbox** — тип коробки передач\n",
    "* **Power** — мощность (л. с.)\n",
    "* **Model** — модель автомобиля\n",
    "* **Kilometer** — пробег (км)\n",
    "* **RegistrationMonth** — месяц регистрации автомобиля\n",
    "* **FuelType** — тип топлива\n",
    "* **Brand** — марка автомобиля\n",
    "* **Repaired** — была машина в ремонте или нет\n",
    "* **DateCreated** — дата создания анкеты\n",
    "* **NumberOfPictures** — количество фотографий автомобиля\n",
    "* **PostalCode** — почтовый индекс владельца анкеты (пользователя)\n",
    "* **LastSeen** — дата последней активности пользователя\n",
    "\n",
    "Целевой признак\n",
    "* **Price** — цена (евро)"
   ]
  },
  {
   "cell_type": "markdown",
   "metadata": {},
   "source": [
    "## Подготовка данных"
   ]
  },
  {
   "cell_type": "code",
   "execution_count": 1,
   "metadata": {},
   "outputs": [
    {
     "name": "stdout",
     "output_type": "stream",
     "text": [
      "Requirement already satisfied: catboost in c:\\users\\admin\\anaconda3\\lib\\site-packages (1.1.1)\n",
      "Requirement already satisfied: scipy in c:\\users\\admin\\anaconda3\\lib\\site-packages (from catboost) (1.7.3)\n",
      "Requirement already satisfied: pandas>=0.24.0 in c:\\users\\admin\\anaconda3\\lib\\site-packages (from catboost) (1.4.2)\n",
      "Requirement already satisfied: matplotlib in c:\\users\\admin\\anaconda3\\lib\\site-packages (from catboost) (3.5.1)\n",
      "Requirement already satisfied: numpy>=1.16.0 in c:\\users\\admin\\anaconda3\\lib\\site-packages (from catboost) (1.21.5)\n",
      "Requirement already satisfied: six in c:\\users\\admin\\anaconda3\\lib\\site-packages (from catboost) (1.16.0)\n",
      "Requirement already satisfied: plotly in c:\\users\\admin\\anaconda3\\lib\\site-packages (from catboost) (5.6.0)\n",
      "Requirement already satisfied: graphviz in c:\\users\\admin\\anaconda3\\lib\\site-packages (from catboost) (0.20.1)\n",
      "Requirement already satisfied: python-dateutil>=2.8.1 in c:\\users\\admin\\anaconda3\\lib\\site-packages (from pandas>=0.24.0->catboost) (2.8.2)\n",
      "Requirement already satisfied: pytz>=2020.1 in c:\\users\\admin\\anaconda3\\lib\\site-packages (from pandas>=0.24.0->catboost) (2021.3)\n",
      "Requirement already satisfied: pyparsing>=2.2.1 in c:\\users\\admin\\anaconda3\\lib\\site-packages (from matplotlib->catboost) (3.0.4)\n",
      "Requirement already satisfied: cycler>=0.10 in c:\\users\\admin\\anaconda3\\lib\\site-packages (from matplotlib->catboost) (0.11.0)\n",
      "Requirement already satisfied: fonttools>=4.22.0 in c:\\users\\admin\\anaconda3\\lib\\site-packages (from matplotlib->catboost) (4.25.0)\n",
      "Requirement already satisfied: pillow>=6.2.0 in c:\\users\\admin\\anaconda3\\lib\\site-packages (from matplotlib->catboost) (9.0.1)\n",
      "Requirement already satisfied: packaging>=20.0 in c:\\users\\admin\\anaconda3\\lib\\site-packages (from matplotlib->catboost) (21.3)\n",
      "Requirement already satisfied: kiwisolver>=1.0.1 in c:\\users\\admin\\anaconda3\\lib\\site-packages (from matplotlib->catboost) (1.3.2)\n",
      "Requirement already satisfied: tenacity>=6.2.0 in c:\\users\\admin\\anaconda3\\lib\\site-packages (from plotly->catboost) (8.0.1)\n",
      "Requirement already satisfied: lightgbm in c:\\users\\admin\\anaconda3\\lib\\site-packages (3.3.5)\n",
      "Requirement already satisfied: scipy in c:\\users\\admin\\anaconda3\\lib\\site-packages (from lightgbm) (1.7.3)\n",
      "Requirement already satisfied: wheel in c:\\users\\admin\\anaconda3\\lib\\site-packages (from lightgbm) (0.37.1)\n",
      "Requirement already satisfied: numpy in c:\\users\\admin\\anaconda3\\lib\\site-packages (from lightgbm) (1.21.5)\n",
      "Requirement already satisfied: scikit-learn!=0.22.0 in c:\\users\\admin\\anaconda3\\lib\\site-packages (from lightgbm) (1.0.2)\n",
      "Requirement already satisfied: threadpoolctl>=2.0.0 in c:\\users\\admin\\anaconda3\\lib\\site-packages (from scikit-learn!=0.22.0->lightgbm) (2.2.0)\n",
      "Requirement already satisfied: joblib>=0.11 in c:\\users\\admin\\anaconda3\\lib\\site-packages (from scikit-learn!=0.22.0->lightgbm) (1.1.0)\n"
     ]
    }
   ],
   "source": [
    "!pip3 install catboost\n",
    "!pip3 install lightgbm\n",
    "\n",
    "\n",
    "import pandas as pd\n",
    "import numpy as np\n",
    "import seaborn as sns\n",
    "import matplotlib.pyplot as plt\n",
    "from sklearn.model_selection import train_test_split\n",
    "from catboost import CatBoostRegressor, Pool, cv\n",
    "from sklearn.model_selection import GridSearchCV\n",
    "from sklearn.ensemble import RandomForestRegressor\n",
    "import lightgbm as lgb\n",
    "from sklearn.metrics import mean_squared_error\n",
    "from sklearn.model_selection import cross_val_score\n",
    "from sklearn.preprocessing import OrdinalEncoder\n",
    "import time\n",
    "\n",
    "\n",
    "RANDOM = 42"
   ]
  },
  {
   "cell_type": "code",
   "execution_count": 2,
   "metadata": {},
   "outputs": [],
   "source": [
    "try:\n",
    "    df = pd.read_csv('/datasets/autos.csv')\n",
    "except:\n",
    "    df = pd.read_csv('autos.csv')"
   ]
  },
  {
   "cell_type": "code",
   "execution_count": 3,
   "metadata": {},
   "outputs": [
    {
     "data": {
      "text/html": [
       "<div>\n",
       "<style scoped>\n",
       "    .dataframe tbody tr th:only-of-type {\n",
       "        vertical-align: middle;\n",
       "    }\n",
       "\n",
       "    .dataframe tbody tr th {\n",
       "        vertical-align: top;\n",
       "    }\n",
       "\n",
       "    .dataframe thead th {\n",
       "        text-align: right;\n",
       "    }\n",
       "</style>\n",
       "<table border=\"1\" class=\"dataframe\">\n",
       "  <thead>\n",
       "    <tr style=\"text-align: right;\">\n",
       "      <th></th>\n",
       "      <th>DateCrawled</th>\n",
       "      <th>Price</th>\n",
       "      <th>VehicleType</th>\n",
       "      <th>RegistrationYear</th>\n",
       "      <th>Gearbox</th>\n",
       "      <th>Power</th>\n",
       "      <th>Model</th>\n",
       "      <th>Kilometer</th>\n",
       "      <th>RegistrationMonth</th>\n",
       "      <th>FuelType</th>\n",
       "      <th>Brand</th>\n",
       "      <th>Repaired</th>\n",
       "      <th>DateCreated</th>\n",
       "      <th>NumberOfPictures</th>\n",
       "      <th>PostalCode</th>\n",
       "      <th>LastSeen</th>\n",
       "    </tr>\n",
       "  </thead>\n",
       "  <tbody>\n",
       "    <tr>\n",
       "      <th>0</th>\n",
       "      <td>2016-03-24 11:52:17</td>\n",
       "      <td>480</td>\n",
       "      <td>NaN</td>\n",
       "      <td>1993</td>\n",
       "      <td>manual</td>\n",
       "      <td>0</td>\n",
       "      <td>golf</td>\n",
       "      <td>150000</td>\n",
       "      <td>0</td>\n",
       "      <td>petrol</td>\n",
       "      <td>volkswagen</td>\n",
       "      <td>NaN</td>\n",
       "      <td>2016-03-24 00:00:00</td>\n",
       "      <td>0</td>\n",
       "      <td>70435</td>\n",
       "      <td>2016-04-07 03:16:57</td>\n",
       "    </tr>\n",
       "    <tr>\n",
       "      <th>1</th>\n",
       "      <td>2016-03-24 10:58:45</td>\n",
       "      <td>18300</td>\n",
       "      <td>coupe</td>\n",
       "      <td>2011</td>\n",
       "      <td>manual</td>\n",
       "      <td>190</td>\n",
       "      <td>NaN</td>\n",
       "      <td>125000</td>\n",
       "      <td>5</td>\n",
       "      <td>gasoline</td>\n",
       "      <td>audi</td>\n",
       "      <td>yes</td>\n",
       "      <td>2016-03-24 00:00:00</td>\n",
       "      <td>0</td>\n",
       "      <td>66954</td>\n",
       "      <td>2016-04-07 01:46:50</td>\n",
       "    </tr>\n",
       "    <tr>\n",
       "      <th>2</th>\n",
       "      <td>2016-03-14 12:52:21</td>\n",
       "      <td>9800</td>\n",
       "      <td>suv</td>\n",
       "      <td>2004</td>\n",
       "      <td>auto</td>\n",
       "      <td>163</td>\n",
       "      <td>grand</td>\n",
       "      <td>125000</td>\n",
       "      <td>8</td>\n",
       "      <td>gasoline</td>\n",
       "      <td>jeep</td>\n",
       "      <td>NaN</td>\n",
       "      <td>2016-03-14 00:00:00</td>\n",
       "      <td>0</td>\n",
       "      <td>90480</td>\n",
       "      <td>2016-04-05 12:47:46</td>\n",
       "    </tr>\n",
       "    <tr>\n",
       "      <th>3</th>\n",
       "      <td>2016-03-17 16:54:04</td>\n",
       "      <td>1500</td>\n",
       "      <td>small</td>\n",
       "      <td>2001</td>\n",
       "      <td>manual</td>\n",
       "      <td>75</td>\n",
       "      <td>golf</td>\n",
       "      <td>150000</td>\n",
       "      <td>6</td>\n",
       "      <td>petrol</td>\n",
       "      <td>volkswagen</td>\n",
       "      <td>no</td>\n",
       "      <td>2016-03-17 00:00:00</td>\n",
       "      <td>0</td>\n",
       "      <td>91074</td>\n",
       "      <td>2016-03-17 17:40:17</td>\n",
       "    </tr>\n",
       "    <tr>\n",
       "      <th>4</th>\n",
       "      <td>2016-03-31 17:25:20</td>\n",
       "      <td>3600</td>\n",
       "      <td>small</td>\n",
       "      <td>2008</td>\n",
       "      <td>manual</td>\n",
       "      <td>69</td>\n",
       "      <td>fabia</td>\n",
       "      <td>90000</td>\n",
       "      <td>7</td>\n",
       "      <td>gasoline</td>\n",
       "      <td>skoda</td>\n",
       "      <td>no</td>\n",
       "      <td>2016-03-31 00:00:00</td>\n",
       "      <td>0</td>\n",
       "      <td>60437</td>\n",
       "      <td>2016-04-06 10:17:21</td>\n",
       "    </tr>\n",
       "  </tbody>\n",
       "</table>\n",
       "</div>"
      ],
      "text/plain": [
       "           DateCrawled  Price VehicleType  RegistrationYear Gearbox  Power  \\\n",
       "0  2016-03-24 11:52:17    480         NaN              1993  manual      0   \n",
       "1  2016-03-24 10:58:45  18300       coupe              2011  manual    190   \n",
       "2  2016-03-14 12:52:21   9800         suv              2004    auto    163   \n",
       "3  2016-03-17 16:54:04   1500       small              2001  manual     75   \n",
       "4  2016-03-31 17:25:20   3600       small              2008  manual     69   \n",
       "\n",
       "   Model  Kilometer  RegistrationMonth  FuelType       Brand Repaired  \\\n",
       "0   golf     150000                  0    petrol  volkswagen      NaN   \n",
       "1    NaN     125000                  5  gasoline        audi      yes   \n",
       "2  grand     125000                  8  gasoline        jeep      NaN   \n",
       "3   golf     150000                  6    petrol  volkswagen       no   \n",
       "4  fabia      90000                  7  gasoline       skoda       no   \n",
       "\n",
       "           DateCreated  NumberOfPictures  PostalCode             LastSeen  \n",
       "0  2016-03-24 00:00:00                 0       70435  2016-04-07 03:16:57  \n",
       "1  2016-03-24 00:00:00                 0       66954  2016-04-07 01:46:50  \n",
       "2  2016-03-14 00:00:00                 0       90480  2016-04-05 12:47:46  \n",
       "3  2016-03-17 00:00:00                 0       91074  2016-03-17 17:40:17  \n",
       "4  2016-03-31 00:00:00                 0       60437  2016-04-06 10:17:21  "
      ]
     },
     "execution_count": 3,
     "metadata": {},
     "output_type": "execute_result"
    }
   ],
   "source": [
    "df.head()"
   ]
  },
  {
   "cell_type": "code",
   "execution_count": 4,
   "metadata": {},
   "outputs": [
    {
     "name": "stdout",
     "output_type": "stream",
     "text": [
      "<class 'pandas.core.frame.DataFrame'>\n",
      "RangeIndex: 354369 entries, 0 to 354368\n",
      "Data columns (total 16 columns):\n",
      " #   Column             Non-Null Count   Dtype \n",
      "---  ------             --------------   ----- \n",
      " 0   DateCrawled        354369 non-null  object\n",
      " 1   Price              354369 non-null  int64 \n",
      " 2   VehicleType        316879 non-null  object\n",
      " 3   RegistrationYear   354369 non-null  int64 \n",
      " 4   Gearbox            334536 non-null  object\n",
      " 5   Power              354369 non-null  int64 \n",
      " 6   Model              334664 non-null  object\n",
      " 7   Kilometer          354369 non-null  int64 \n",
      " 8   RegistrationMonth  354369 non-null  int64 \n",
      " 9   FuelType           321474 non-null  object\n",
      " 10  Brand              354369 non-null  object\n",
      " 11  Repaired           283215 non-null  object\n",
      " 12  DateCreated        354369 non-null  object\n",
      " 13  NumberOfPictures   354369 non-null  int64 \n",
      " 14  PostalCode         354369 non-null  int64 \n",
      " 15  LastSeen           354369 non-null  object\n",
      "dtypes: int64(7), object(9)\n",
      "memory usage: 43.3+ MB\n"
     ]
    }
   ],
   "source": [
    "df.info()"
   ]
  },
  {
   "cell_type": "code",
   "execution_count": 5,
   "metadata": {},
   "outputs": [
    {
     "data": {
      "text/html": [
       "<div>\n",
       "<style scoped>\n",
       "    .dataframe tbody tr th:only-of-type {\n",
       "        vertical-align: middle;\n",
       "    }\n",
       "\n",
       "    .dataframe tbody tr th {\n",
       "        vertical-align: top;\n",
       "    }\n",
       "\n",
       "    .dataframe thead th {\n",
       "        text-align: right;\n",
       "    }\n",
       "</style>\n",
       "<table border=\"1\" class=\"dataframe\">\n",
       "  <thead>\n",
       "    <tr style=\"text-align: right;\">\n",
       "      <th></th>\n",
       "      <th>Price</th>\n",
       "      <th>RegistrationYear</th>\n",
       "      <th>Power</th>\n",
       "      <th>Kilometer</th>\n",
       "      <th>RegistrationMonth</th>\n",
       "      <th>NumberOfPictures</th>\n",
       "      <th>PostalCode</th>\n",
       "    </tr>\n",
       "  </thead>\n",
       "  <tbody>\n",
       "    <tr>\n",
       "      <th>count</th>\n",
       "      <td>354369.000000</td>\n",
       "      <td>354369.000000</td>\n",
       "      <td>354369.000000</td>\n",
       "      <td>354369.000000</td>\n",
       "      <td>354369.000000</td>\n",
       "      <td>354369.0</td>\n",
       "      <td>354369.000000</td>\n",
       "    </tr>\n",
       "    <tr>\n",
       "      <th>mean</th>\n",
       "      <td>4416.656776</td>\n",
       "      <td>2004.234448</td>\n",
       "      <td>110.094337</td>\n",
       "      <td>128211.172535</td>\n",
       "      <td>5.714645</td>\n",
       "      <td>0.0</td>\n",
       "      <td>50508.689087</td>\n",
       "    </tr>\n",
       "    <tr>\n",
       "      <th>std</th>\n",
       "      <td>4514.158514</td>\n",
       "      <td>90.227958</td>\n",
       "      <td>189.850405</td>\n",
       "      <td>37905.341530</td>\n",
       "      <td>3.726421</td>\n",
       "      <td>0.0</td>\n",
       "      <td>25783.096248</td>\n",
       "    </tr>\n",
       "    <tr>\n",
       "      <th>min</th>\n",
       "      <td>0.000000</td>\n",
       "      <td>1000.000000</td>\n",
       "      <td>0.000000</td>\n",
       "      <td>5000.000000</td>\n",
       "      <td>0.000000</td>\n",
       "      <td>0.0</td>\n",
       "      <td>1067.000000</td>\n",
       "    </tr>\n",
       "    <tr>\n",
       "      <th>25%</th>\n",
       "      <td>1050.000000</td>\n",
       "      <td>1999.000000</td>\n",
       "      <td>69.000000</td>\n",
       "      <td>125000.000000</td>\n",
       "      <td>3.000000</td>\n",
       "      <td>0.0</td>\n",
       "      <td>30165.000000</td>\n",
       "    </tr>\n",
       "    <tr>\n",
       "      <th>50%</th>\n",
       "      <td>2700.000000</td>\n",
       "      <td>2003.000000</td>\n",
       "      <td>105.000000</td>\n",
       "      <td>150000.000000</td>\n",
       "      <td>6.000000</td>\n",
       "      <td>0.0</td>\n",
       "      <td>49413.000000</td>\n",
       "    </tr>\n",
       "    <tr>\n",
       "      <th>75%</th>\n",
       "      <td>6400.000000</td>\n",
       "      <td>2008.000000</td>\n",
       "      <td>143.000000</td>\n",
       "      <td>150000.000000</td>\n",
       "      <td>9.000000</td>\n",
       "      <td>0.0</td>\n",
       "      <td>71083.000000</td>\n",
       "    </tr>\n",
       "    <tr>\n",
       "      <th>max</th>\n",
       "      <td>20000.000000</td>\n",
       "      <td>9999.000000</td>\n",
       "      <td>20000.000000</td>\n",
       "      <td>150000.000000</td>\n",
       "      <td>12.000000</td>\n",
       "      <td>0.0</td>\n",
       "      <td>99998.000000</td>\n",
       "    </tr>\n",
       "  </tbody>\n",
       "</table>\n",
       "</div>"
      ],
      "text/plain": [
       "               Price  RegistrationYear          Power      Kilometer  \\\n",
       "count  354369.000000     354369.000000  354369.000000  354369.000000   \n",
       "mean     4416.656776       2004.234448     110.094337  128211.172535   \n",
       "std      4514.158514         90.227958     189.850405   37905.341530   \n",
       "min         0.000000       1000.000000       0.000000    5000.000000   \n",
       "25%      1050.000000       1999.000000      69.000000  125000.000000   \n",
       "50%      2700.000000       2003.000000     105.000000  150000.000000   \n",
       "75%      6400.000000       2008.000000     143.000000  150000.000000   \n",
       "max     20000.000000       9999.000000   20000.000000  150000.000000   \n",
       "\n",
       "       RegistrationMonth  NumberOfPictures     PostalCode  \n",
       "count      354369.000000          354369.0  354369.000000  \n",
       "mean            5.714645               0.0   50508.689087  \n",
       "std             3.726421               0.0   25783.096248  \n",
       "min             0.000000               0.0    1067.000000  \n",
       "25%             3.000000               0.0   30165.000000  \n",
       "50%             6.000000               0.0   49413.000000  \n",
       "75%             9.000000               0.0   71083.000000  \n",
       "max            12.000000               0.0   99998.000000  "
      ]
     },
     "execution_count": 5,
     "metadata": {},
     "output_type": "execute_result"
    }
   ],
   "source": [
    "df.describe()"
   ]
  },
  {
   "cell_type": "code",
   "execution_count": 6,
   "metadata": {
    "scrolled": true
   },
   "outputs": [
    {
     "data": {
      "text/plain": [
       "Repaired             71154\n",
       "VehicleType          37490\n",
       "FuelType             32895\n",
       "Gearbox              19833\n",
       "Model                19705\n",
       "DateCrawled              0\n",
       "Price                    0\n",
       "RegistrationYear         0\n",
       "Power                    0\n",
       "Kilometer                0\n",
       "RegistrationMonth        0\n",
       "Brand                    0\n",
       "DateCreated              0\n",
       "NumberOfPictures         0\n",
       "PostalCode               0\n",
       "LastSeen                 0\n",
       "dtype: int64"
      ]
     },
     "execution_count": 6,
     "metadata": {},
     "output_type": "execute_result"
    }
   ],
   "source": [
    "(df\n",
    "    .isna()\n",
    "    .sum()\n",
    "    .sort_values(ascending = False))"
   ]
  },
  {
   "cell_type": "code",
   "execution_count": 7,
   "metadata": {},
   "outputs": [
    {
     "data": {
      "text/plain": [
       "<AxesSubplot:>"
      ]
     },
     "execution_count": 7,
     "metadata": {},
     "output_type": "execute_result"
    },
    {
     "data": {
      "image/png": "[encoded data removed]",
      "text/plain": [
       "<Figure size 1440x504 with 2 Axes>"
      ]
     },
     "metadata": {
      "needs_background": "light"
     },
     "output_type": "display_data"
    }
   ],
   "source": [
    "#Визаулизируем пропуски\n",
    "plt.figure(figsize = (20,7))\n",
    "sns.heatmap(df[df.columns].isnull())"
   ]
  },
  {
   "cell_type": "markdown",
   "metadata": {},
   "source": [
    "Пропуски в данных присутствуют только в категориальных переменных. Те, кто продают автомобили, часто не указывают была ли машина в ремонте - **`Repaired`**, тип топлива **`FuelType`**, модель автомобиля **`Model`**, тип коробки передач **`Gearbox`** и тип кузова **`VehicleType`**.\n",
    "Поскольку пропусков много, то удаление всех строк, содержащих их, снесет ощутимую часть данных. Восстановить данные по косвенных признакам не удастся, единственным корректным решением кажется заполнение пропусков нулями. Однако я попробую заполнить пропуски модой в признаках **`FuelType`**, **`Gearbox`** и **`Repaired`**, поскольку уникальных признаков в этих переменных не так много, и один из признаков встречается явно чаще, чем остальные. В остальных переменных пропуски заполним нулями."
   ]
  },
  {
   "cell_type": "code",
   "execution_count": 3,
   "metadata": {},
   "outputs": [],
   "source": [
    "df['FuelType'] = df['FuelType'].fillna(df['FuelType'].mode()[0])\n",
    "df['Gearbox'] = df['Gearbox'].fillna(df['Gearbox'].mode()[0])\n",
    "df['Repaired'] = df['Repaired'].fillna(df['Repaired'].mode()[0])\n",
    "df = df.fillna(0)"
   ]
  },
  {
   "cell_type": "code",
   "execution_count": 4,
   "metadata": {},
   "outputs": [
    {
     "data": {
      "text/plain": [
       "5"
      ]
     },
     "execution_count": 4,
     "metadata": {},
     "output_type": "execute_result"
    }
   ],
   "source": [
    "#Проверим наличие дубликатов\n",
    "df.duplicated().sum()"
   ]
  },
  {
   "cell_type": "code",
   "execution_count": 5,
   "metadata": {},
   "outputs": [
    {
     "data": {
      "text/plain": [
       "0"
      ]
     },
     "execution_count": 5,
     "metadata": {},
     "output_type": "execute_result"
    }
   ],
   "source": [
    "df = df.drop_duplicates()\n",
    "df.duplicated().sum()"
   ]
  },
  {
   "cell_type": "code",
   "execution_count": 6,
   "metadata": {},
   "outputs": [],
   "source": [
    "#Уберем колонки, которые не влияют на стоимость автомобиля\n",
    "df = df.drop([\"DateCrawled\",\"DateCreated\",\"LastSeen\",\"NumberOfPictures\",\"PostalCode\", \"RegistrationMonth\"], axis = 1)"
   ]
  },
  {
   "cell_type": "markdown",
   "metadata": {},
   "source": [
    "### Очистка данных от аномалий"
   ]
  },
  {
   "cell_type": "code",
   "execution_count": 56,
   "metadata": {},
   "outputs": [
    {
     "data": {
      "text/plain": [
       "Text(0.5, 1.0, 'Пробег')"
      ]
     },
     "execution_count": 56,
     "metadata": {},
     "output_type": "execute_result"
    },
    {
     "data": {
      "image/png": "[encoded data removed]",
      "text/plain": [
       "<Figure size 1440x360 with 4 Axes>"
      ]
     },
     "metadata": {
      "needs_background": "light"
     },
     "output_type": "display_data"
    }
   ],
   "source": [
    "#Помсотрим на распределение на численных переменных\n",
    "fig, axs = plt.subplots(1, 4, figsize=(20,5))\n",
    "\n",
    "axs[0].hist(df['Price'])\n",
    "axs[0].set_title('Цена')\n",
    "\n",
    "axs[1].hist(df['RegistrationYear'])\n",
    "axs[1].set_title('Год регистрации автомобиля')\n",
    "\n",
    "axs[2].hist(df['Power'])\n",
    "axs[2].set_title('Мощность')\n",
    "\n",
    "axs[3].hist(df['Kilometer'])\n",
    "axs[3].set_title(\"Пробег\")\n",
    "\n"
   ]
  },
  {
   "cell_type": "markdown",
   "metadata": {},
   "source": [
    "* **`Price`** - Будем считать аномалиями то, что выходит за пределы 1,5 межквартильного размаха.\n",
    "* **`RegistrationYear`** - В даных о годе регистрации автомобиля встречаются явно не корректные значения. Отбросим значения, не входящие в промежуток межу 1930 и 2016 годом.\n",
    "* **`Power`** - В данны о мощности также есть аномалии. Ограничимся можностью в диапазоне 10 - 500 л.с.\n",
    "* **`Kilometer`** - В данных о пробегах заметных ывбросов нет. Могут встречаться как маленькие так и большие пробеги. Верхняя граница пробега выглядит достаточно реальной. Оставляем колонку как есть."
   ]
  },
  {
   "cell_type": "code",
   "execution_count": 7,
   "metadata": {},
   "outputs": [],
   "source": [
    "len_before = len(df)"
   ]
  },
  {
   "cell_type": "code",
   "execution_count": 8,
   "metadata": {},
   "outputs": [],
   "source": [
    "def get_clean_data(col):\n",
    "    q1 = df[col].quantile(0.25)\n",
    "    q3 = df[col].quantile(0.75)\n",
    "    iqr = q3 - q1\n",
    "    df_clean = df.loc[(df[col]  < q3 + 1.5*iqr) & (df[col]  > q1 - 1.5*iqr)]\n",
    "    return df_clean"
   ]
  },
  {
   "cell_type": "code",
   "execution_count": 9,
   "metadata": {},
   "outputs": [
    {
     "name": "stdout",
     "output_type": "stream",
     "text": [
      "Изначальная длинна датасета 354364, в ходе чистки данных от аномалий удалено 69784 строк\n"
     ]
    }
   ],
   "source": [
    "df = get_clean_data('Price')\n",
    "df = df.loc[(df['RegistrationYear'] >= 1930) & (df['RegistrationYear'] <= 2016), :]\n",
    "df = df.loc[(df['Power'] >= 10) & (df['Power'] <= 500), :]\n",
    "\n",
    "print(f'Изначальная длинна датасета {len_before}, в ходе чистки данных от аномалий удалено {len_before- len(df)} строк')"
   ]
  },
  {
   "cell_type": "markdown",
   "metadata": {},
   "source": [
    "### Выводы по предобработке данных.\n",
    "* Из данных отбросили колонки, которые не влияют на стоимость автомобиля.\n",
    "\n",
    "* Пропуски в категориальных признаках заменены на моду в тех колнках, где уникальных значений не так много и наблюдается явный \"перекос\" в сторону одного из признаков. В остальных колонках пропуски заменены на нули.\n",
    "\n",
    "* Аномальные значения в колонке **`Price`** отброшены, если не попадают в диапазон +-1,5 межквартильных размахов. \n",
    "\n",
    "* Из колонки **`RegistrationYear`** взяты только строки, где год регистрации попадает в диапазон 1930 - 2016 год. \n",
    "\n",
    "* Из колонки **`Power`** взяты только автомобили, с мощностью двигателя 10 - 500 л.с.\n",
    "\n",
    "* Суммарно из данных отброшено 69784 строк, т.е. почти 20%. Это достаточно большой объем, однако выбросы помешали бы модели корректно обучаться.\n"
   ]
  },
  {
   "cell_type": "markdown",
   "metadata": {},
   "source": [
    "## Обучение моделей"
   ]
  },
  {
   "cell_type": "code",
   "execution_count": 10,
   "metadata": {},
   "outputs": [
    {
     "data": {
      "text/html": [
       "<div>\n",
       "<style scoped>\n",
       "    .dataframe tbody tr th:only-of-type {\n",
       "        vertical-align: middle;\n",
       "    }\n",
       "\n",
       "    .dataframe tbody tr th {\n",
       "        vertical-align: top;\n",
       "    }\n",
       "\n",
       "    .dataframe thead th {\n",
       "        text-align: right;\n",
       "    }\n",
       "</style>\n",
       "<table border=\"1\" class=\"dataframe\">\n",
       "  <thead>\n",
       "    <tr style=\"text-align: right;\">\n",
       "      <th></th>\n",
       "      <th>Price</th>\n",
       "      <th>VehicleType</th>\n",
       "      <th>RegistrationYear</th>\n",
       "      <th>Gearbox</th>\n",
       "      <th>Power</th>\n",
       "      <th>Model</th>\n",
       "      <th>Kilometer</th>\n",
       "      <th>FuelType</th>\n",
       "      <th>Brand</th>\n",
       "      <th>Repaired</th>\n",
       "    </tr>\n",
       "  </thead>\n",
       "  <tbody>\n",
       "    <tr>\n",
       "      <th>2</th>\n",
       "      <td>9800</td>\n",
       "      <td>suv</td>\n",
       "      <td>2004</td>\n",
       "      <td>auto</td>\n",
       "      <td>163</td>\n",
       "      <td>grand</td>\n",
       "      <td>125000</td>\n",
       "      <td>gasoline</td>\n",
       "      <td>jeep</td>\n",
       "      <td>no</td>\n",
       "    </tr>\n",
       "    <tr>\n",
       "      <th>3</th>\n",
       "      <td>1500</td>\n",
       "      <td>small</td>\n",
       "      <td>2001</td>\n",
       "      <td>manual</td>\n",
       "      <td>75</td>\n",
       "      <td>golf</td>\n",
       "      <td>150000</td>\n",
       "      <td>petrol</td>\n",
       "      <td>volkswagen</td>\n",
       "      <td>no</td>\n",
       "    </tr>\n",
       "    <tr>\n",
       "      <th>4</th>\n",
       "      <td>3600</td>\n",
       "      <td>small</td>\n",
       "      <td>2008</td>\n",
       "      <td>manual</td>\n",
       "      <td>69</td>\n",
       "      <td>fabia</td>\n",
       "      <td>90000</td>\n",
       "      <td>gasoline</td>\n",
       "      <td>skoda</td>\n",
       "      <td>no</td>\n",
       "    </tr>\n",
       "    <tr>\n",
       "      <th>5</th>\n",
       "      <td>650</td>\n",
       "      <td>sedan</td>\n",
       "      <td>1995</td>\n",
       "      <td>manual</td>\n",
       "      <td>102</td>\n",
       "      <td>3er</td>\n",
       "      <td>150000</td>\n",
       "      <td>petrol</td>\n",
       "      <td>bmw</td>\n",
       "      <td>yes</td>\n",
       "    </tr>\n",
       "    <tr>\n",
       "      <th>6</th>\n",
       "      <td>2200</td>\n",
       "      <td>convertible</td>\n",
       "      <td>2004</td>\n",
       "      <td>manual</td>\n",
       "      <td>109</td>\n",
       "      <td>2_reihe</td>\n",
       "      <td>150000</td>\n",
       "      <td>petrol</td>\n",
       "      <td>peugeot</td>\n",
       "      <td>no</td>\n",
       "    </tr>\n",
       "  </tbody>\n",
       "</table>\n",
       "</div>"
      ],
      "text/plain": [
       "   Price  VehicleType  RegistrationYear Gearbox  Power    Model  Kilometer  \\\n",
       "2   9800          suv              2004    auto    163    grand     125000   \n",
       "3   1500        small              2001  manual     75     golf     150000   \n",
       "4   3600        small              2008  manual     69    fabia      90000   \n",
       "5    650        sedan              1995  manual    102      3er     150000   \n",
       "6   2200  convertible              2004  manual    109  2_reihe     150000   \n",
       "\n",
       "   FuelType       Brand Repaired  \n",
       "2  gasoline        jeep       no  \n",
       "3    petrol  volkswagen       no  \n",
       "4  gasoline       skoda       no  \n",
       "5    petrol         bmw      yes  \n",
       "6    petrol     peugeot       no  "
      ]
     },
     "execution_count": 10,
     "metadata": {},
     "output_type": "execute_result"
    }
   ],
   "source": [
    "#Датасет для LightGBM\n",
    "df_lightgbm= df.astype({\"VehicleType\":'category',\n",
    "                      \"Gearbox\":'category',\n",
    "                      \"Model\":'category',\n",
    "                      \"FuelType\":'category',\n",
    "                      \"Brand\":'category',\n",
    "                      \"Repaired\":'category'})\n",
    "df_lightgbm.head()"
   ]
  },
  {
   "cell_type": "code",
   "execution_count": 11,
   "metadata": {},
   "outputs": [],
   "source": [
    "#Разделим данные на тренировочные и тестовые выброки\n",
    "#Для оригинального датасета\n",
    "features_train, features_test, target_train, target_test = train_test_split(df.drop(\"Price\",axis = 1),\n",
    "                                                                            df['Price'],\n",
    "                                                                            test_size=0.25,\n",
    "                                                                            random_state=RANDOM)\n",
    "\n",
    "#Для датасета под LightGBM\n",
    "features_train_light, features_test_light, target_train_light, target_test_light = train_test_split(df_lightgbm.drop(\"Price\",axis = 1),\n",
    "                                                                                                    df_lightgbm['Price'],\n",
    "                                                                                                    test_size=0.25,\n",
    "                                                                                                    random_state=RANDOM)"
   ]
  },
  {
   "cell_type": "code",
   "execution_count": 12,
   "metadata": {},
   "outputs": [],
   "source": [
    "encoder = OrdinalEncoder(handle_unknown='use_encoded_value', unknown_value=9999)\n",
    "cat_columns = ['VehicleType', 'Gearbox', 'Model', 'FuelType', 'Brand', 'Repaired']\n",
    "#тк у нас в пропусках нули, то поставим костыль))): \n",
    "features_train[cat_columns] = features_train[cat_columns].astype('str')\n",
    "\n",
    "encoder.fit(features_train[cat_columns])\n",
    "\n",
    "features_train_ord = features_train.copy()\n",
    "features_test_ord = features_test.copy()\n",
    "\n",
    "features_train_ord[cat_columns] = encoder.transform(features_train_ord[cat_columns])\n",
    "features_test_ord[cat_columns] = encoder.transform(features_test_ord[cat_columns])"
   ]
  },
  {
   "cell_type": "markdown",
   "metadata": {},
   "source": [
    "```python\n",
    "# порядковое кодирование\n",
    "encoder = OrdinalEncoder(handle_unknown='use_encoded_value', unknown_value=9999)\n",
    "cat_columns = [список всех категориальных признаков]\n",
    "encoder.fit(features_train[cat_columns])\n",
    "\n",
    "features_train_ord = features_train.copy()\n",
    "features_valid_ord = features_valid.copy()\n",
    "features_test_ord = features_test.copy()\n",
    "\n",
    "features_train_ord[cat_columns] = encoder.transform(features_train_ord[cat_columns])\n",
    "features_valid_ord[cat_columns] = encoder.transform(features_valid_ord[cat_columns])\n",
    "features_test_ord[cat_columns] = encoder.transform(features_test_ord[cat_columns])\n",
    "```"
   ]
  },
  {
   "cell_type": "code",
   "execution_count": null,
   "metadata": {},
   "outputs": [],
   "source": [
    "%%time\n",
    "#Для поиска оптимальных гиперпараметров для градиентного бустинга, воспользуемся gridsearch\n",
    "\n",
    "catboost = CatBoostRegressor(loss_function='RMSE')\n",
    "\n",
    "params_cat = {'depth':np.arange(1,10,2), \n",
    "              'learning_rate':np.arange(0.1,1,0.2)}\n",
    "\n",
    "catboost_grid = catboost.grid_search(params_cat,\n",
    "            Pool(features_train, target_train, cat_features=[\"VehicleType\",\n",
    "                                                             \"Gearbox\",\n",
    "                                                             \"Model\",\n",
    "                                                             \"FuelType\",\n",
    "                                                             \"Brand\",\n",
    "                                                             \"Repaired\"]),\n",
    "            cv=3,\n",
    "            verbose=True)"
   ]
  },
  {
   "cell_type": "code",
   "execution_count": 15,
   "metadata": {},
   "outputs": [
    {
     "ename": "NameError",
     "evalue": "name 'catboost_grid' is not defined",
     "output_type": "error",
     "traceback": [
      "\u001b[1;31m---------------------------------------------------------------------------\u001b[0m",
      "\u001b[1;31mNameError\u001b[0m                                 Traceback (most recent call last)",
      "Input \u001b[1;32mIn [15]\u001b[0m, in \u001b[0;36m<cell line: 2>\u001b[1;34m()\u001b[0m\n\u001b[0;32m      1\u001b[0m \u001b[38;5;66;03m#Проверим лучшие параметры\u001b[39;00m\n\u001b[1;32m----> 2\u001b[0m \u001b[43mcatboost_grid\u001b[49m[\u001b[38;5;124m\"\u001b[39m\u001b[38;5;124mparams\u001b[39m\u001b[38;5;124m\"\u001b[39m]\n",
      "\u001b[1;31mNameError\u001b[0m: name 'catboost_grid' is not defined"
     ]
    }
   ],
   "source": [
    "#Проверим лучшие параметры\n",
    "catboost_grid[\"params\"]"
   ]
  },
  {
   "cell_type": "code",
   "execution_count": 16,
   "metadata": {},
   "outputs": [
    {
     "name": "stdout",
     "output_type": "stream",
     "text": [
      "0:\tlearn: 3298.0806900\ttotal: 848ms\tremaining: 14m 7s\n",
      "100:\tlearn: 1420.0206155\ttotal: 1m 33s\tremaining: 13m 56s\n",
      "200:\tlearn: 1361.8315611\ttotal: 3m 13s\tremaining: 12m 48s\n",
      "300:\tlearn: 1328.0030684\ttotal: 5m 6s\tremaining: 11m 52s\n",
      "400:\tlearn: 1301.5137580\ttotal: 6m 55s\tremaining: 10m 20s\n",
      "500:\tlearn: 1281.8542414\ttotal: 8m 19s\tremaining: 8m 17s\n",
      "600:\tlearn: 1263.7944325\ttotal: 9m 41s\tremaining: 6m 26s\n",
      "700:\tlearn: 1249.2794416\ttotal: 11m 5s\tremaining: 4m 43s\n",
      "800:\tlearn: 1236.0913809\ttotal: 12m 28s\tremaining: 3m 5s\n",
      "900:\tlearn: 1222.8256320\ttotal: 13m 50s\tremaining: 1m 31s\n",
      "999:\tlearn: 1213.2992100\ttotal: 15m 17s\tremaining: 0us\n",
      "CPU times: total: 26min 5s\n",
      "Wall time: 15min 23s\n"
     ]
    }
   ],
   "source": [
    "%%time\n",
    "#Обучим модель и сохраним время\n",
    "meow = CatBoostRegressor(depth=10,\n",
    "                         learning_rate=0.1,\n",
    "                         loss_function='RMSE',\n",
    "                         verbose=100)\n",
    "start = time.time()\n",
    "meow.fit(Pool(features_train, target_train,\n",
    "              cat_features=[\"VehicleType\",\n",
    "                            \"Gearbox\",\"Model\",\n",
    "                            \"FuelType\",\"Brand\",\n",
    "                            \"Repaired\"]))\n",
    "stop= time.time()\n",
    "training_time_cat = stop - start"
   ]
  },
  {
   "cell_type": "code",
   "execution_count": null,
   "metadata": {},
   "outputs": [],
   "source": [
    "#Проверим качество моели на кросс-валидации\n",
    "params = {\n",
    "    'loss_function': 'RMSE',\n",
    "    'depth': 10,\n",
    "    'learning_rate': 0.1\n",
    "}\n",
    "\n",
    "scores = cv(Pool(features_train, target_train, cat_features=[\"VehicleType\",\n",
    "                                                          \"Gearbox\",\"Model\",\n",
    "                                                          \"FuelType\",\"Brand\",\n",
    "                                                          \"Repaired\"]),\n",
    "            params,\n",
    "            fold_count=5)\n",
    "\n",
    "best_score = scores['test-RMSE-mean'].min()"
   ]
  },
  {
   "cell_type": "code",
   "execution_count": null,
   "metadata": {},
   "outputs": [],
   "source": [
    "print(f'RMSE модели catboost - {best_score}.')\n",
    "#Качество модели удослетворяет условию задания"
   ]
  },
  {
   "cell_type": "code",
   "execution_count": 17,
   "metadata": {},
   "outputs": [
    {
     "name": "stdout",
     "output_type": "stream",
     "text": [
      "Fitting 5 folds for each of 49 candidates, totalling 245 fits\n",
      "[CV 1/5; 1/49] START max_depth=1, n_estimators=1................................\n"
     ]
    },
    {
     "name": "stderr",
     "output_type": "stream",
     "text": [
      "C:\\Users\\Admin\\anaconda3\\lib\\site-packages\\sklearn\\ensemble\\_forest.py:396: FutureWarning: Criterion 'mse' was deprecated in v1.0 and will be removed in version 1.2. Use `criterion='squared_error'` which is equivalent.\n",
      "  warn(\n",
      "C:\\Users\\Admin\\anaconda3\\lib\\site-packages\\sklearn\\ensemble\\_forest.py:396: FutureWarning: Criterion 'mse' was deprecated in v1.0 and will be removed in version 1.2. Use `criterion='squared_error'` which is equivalent.\n",
      "  warn(\n"
     ]
    },
    {
     "name": "stdout",
     "output_type": "stream",
     "text": [
      "[CV 1/5; 1/49] END max_depth=1, n_estimators=1;, score=-8027012.359 total time=   0.1s\n",
      "[CV 2/5; 1/49] START max_depth=1, n_estimators=1................................\n",
      "[CV 2/5; 1/49] END max_depth=1, n_estimators=1;, score=-8021162.146 total time=   0.0s\n",
      "[CV 3/5; 1/49] START max_depth=1, n_estimators=1................................\n"
     ]
    },
    {
     "name": "stderr",
     "output_type": "stream",
     "text": [
      "C:\\Users\\Admin\\anaconda3\\lib\\site-packages\\sklearn\\ensemble\\_forest.py:396: FutureWarning: Criterion 'mse' was deprecated in v1.0 and will be removed in version 1.2. Use `criterion='squared_error'` which is equivalent.\n",
      "  warn(\n",
      "C:\\Users\\Admin\\anaconda3\\lib\\site-packages\\sklearn\\ensemble\\_forest.py:396: FutureWarning: Criterion 'mse' was deprecated in v1.0 and will be removed in version 1.2. Use `criterion='squared_error'` which is equivalent.\n",
      "  warn(\n"
     ]
    },
    {
     "name": "stdout",
     "output_type": "stream",
     "text": [
      "[CV 3/5; 1/49] END max_depth=1, n_estimators=1;, score=-8065734.093 total time=   0.0s\n",
      "[CV 4/5; 1/49] START max_depth=1, n_estimators=1................................\n",
      "[CV 4/5; 1/49] END max_depth=1, n_estimators=1;, score=-8015316.372 total time=   0.0s\n",
      "[CV 5/5; 1/49] START max_depth=1, n_estimators=1................................\n"
     ]
    },
    {
     "name": "stderr",
     "output_type": "stream",
     "text": [
      "C:\\Users\\Admin\\anaconda3\\lib\\site-packages\\sklearn\\ensemble\\_forest.py:396: FutureWarning: Criterion 'mse' was deprecated in v1.0 and will be removed in version 1.2. Use `criterion='squared_error'` which is equivalent.\n",
      "  warn(\n",
      "C:\\Users\\Admin\\anaconda3\\lib\\site-packages\\sklearn\\ensemble\\_forest.py:396: FutureWarning: Criterion 'mse' was deprecated in v1.0 and will be removed in version 1.2. Use `criterion='squared_error'` which is equivalent.\n",
      "  warn(\n"
     ]
    },
    {
     "name": "stdout",
     "output_type": "stream",
     "text": [
      "[CV 5/5; 1/49] END max_depth=1, n_estimators=1;, score=-8054367.335 total time=   0.0s\n",
      "[CV 1/5; 2/49] START max_depth=1, n_estimators=3................................\n",
      "[CV 1/5; 2/49] END max_depth=1, n_estimators=3;, score=-8027012.089 total time=   0.2s\n",
      "[CV 2/5; 2/49] START max_depth=1, n_estimators=3................................\n"
     ]
    },
    {
     "name": "stderr",
     "output_type": "stream",
     "text": [
      "C:\\Users\\Admin\\anaconda3\\lib\\site-packages\\sklearn\\ensemble\\_forest.py:396: FutureWarning: Criterion 'mse' was deprecated in v1.0 and will be removed in version 1.2. Use `criterion='squared_error'` which is equivalent.\n",
      "  warn(\n"
     ]
    },
    {
     "name": "stdout",
     "output_type": "stream",
     "text": [
      "[CV 2/5; 2/49] END max_depth=1, n_estimators=3;, score=-8021045.794 total time=   0.3s\n",
      "[CV 3/5; 2/49] START max_depth=1, n_estimators=3................................\n"
     ]
    },
    {
     "name": "stderr",
     "output_type": "stream",
     "text": [
      "C:\\Users\\Admin\\anaconda3\\lib\\site-packages\\sklearn\\ensemble\\_forest.py:396: FutureWarning: Criterion 'mse' was deprecated in v1.0 and will be removed in version 1.2. Use `criterion='squared_error'` which is equivalent.\n",
      "  warn(\n"
     ]
    },
    {
     "name": "stdout",
     "output_type": "stream",
     "text": [
      "[CV 3/5; 2/49] END max_depth=1, n_estimators=3;, score=-8065688.560 total time=   0.2s\n",
      "[CV 4/5; 2/49] START max_depth=1, n_estimators=3................................\n"
     ]
    },
    {
     "name": "stderr",
     "output_type": "stream",
     "text": [
      "C:\\Users\\Admin\\anaconda3\\lib\\site-packages\\sklearn\\ensemble\\_forest.py:396: FutureWarning: Criterion 'mse' was deprecated in v1.0 and will be removed in version 1.2. Use `criterion='squared_error'` which is equivalent.\n",
      "  warn(\n"
     ]
    },
    {
     "name": "stdout",
     "output_type": "stream",
     "text": [
      "[CV 4/5; 2/49] END max_depth=1, n_estimators=3;, score=-8015034.420 total time=   0.2s\n",
      "[CV 5/5; 2/49] START max_depth=1, n_estimators=3................................\n"
     ]
    },
    {
     "name": "stderr",
     "output_type": "stream",
     "text": [
      "C:\\Users\\Admin\\anaconda3\\lib\\site-packages\\sklearn\\ensemble\\_forest.py:396: FutureWarning: Criterion 'mse' was deprecated in v1.0 and will be removed in version 1.2. Use `criterion='squared_error'` which is equivalent.\n",
      "  warn(\n"
     ]
    },
    {
     "name": "stdout",
     "output_type": "stream",
     "text": [
      "[CV 5/5; 2/49] END max_depth=1, n_estimators=3;, score=-8054676.576 total time=   0.3s\n",
      "[CV 1/5; 3/49] START max_depth=1, n_estimators=5................................\n"
     ]
    },
    {
     "name": "stderr",
     "output_type": "stream",
     "text": [
      "C:\\Users\\Admin\\anaconda3\\lib\\site-packages\\sklearn\\ensemble\\_forest.py:396: FutureWarning: Criterion 'mse' was deprecated in v1.0 and will be removed in version 1.2. Use `criterion='squared_error'` which is equivalent.\n",
      "  warn(\n"
     ]
    },
    {
     "name": "stdout",
     "output_type": "stream",
     "text": [
      "[CV 1/5; 3/49] END max_depth=1, n_estimators=5;, score=-8027035.727 total time=   0.4s\n",
      "[CV 2/5; 3/49] START max_depth=1, n_estimators=5................................\n"
     ]
    },
    {
     "name": "stderr",
     "output_type": "stream",
     "text": [
      "C:\\Users\\Admin\\anaconda3\\lib\\site-packages\\sklearn\\ensemble\\_forest.py:396: FutureWarning: Criterion 'mse' was deprecated in v1.0 and will be removed in version 1.2. Use `criterion='squared_error'` which is equivalent.\n",
      "  warn(\n"
     ]
    },
    {
     "name": "stdout",
     "output_type": "stream",
     "text": [
      "[CV 2/5; 3/49] END max_depth=1, n_estimators=5;, score=-8020721.486 total time=   0.4s\n",
      "[CV 3/5; 3/49] START max_depth=1, n_estimators=5................................\n"
     ]
    },
    {
     "name": "stderr",
     "output_type": "stream",
     "text": [
      "C:\\Users\\Admin\\anaconda3\\lib\\site-packages\\sklearn\\ensemble\\_forest.py:396: FutureWarning: Criterion 'mse' was deprecated in v1.0 and will be removed in version 1.2. Use `criterion='squared_error'` which is equivalent.\n",
      "  warn(\n"
     ]
    },
    {
     "name": "stdout",
     "output_type": "stream",
     "text": [
      "[CV 3/5; 3/49] END max_depth=1, n_estimators=5;, score=-8065768.807 total time=   0.4s\n",
      "[CV 4/5; 3/49] START max_depth=1, n_estimators=5................................\n"
     ]
    },
    {
     "name": "stderr",
     "output_type": "stream",
     "text": [
      "C:\\Users\\Admin\\anaconda3\\lib\\site-packages\\sklearn\\ensemble\\_forest.py:396: FutureWarning: Criterion 'mse' was deprecated in v1.0 and will be removed in version 1.2. Use `criterion='squared_error'` which is equivalent.\n",
      "  warn(\n"
     ]
    },
    {
     "name": "stdout",
     "output_type": "stream",
     "text": [
      "[CV 4/5; 3/49] END max_depth=1, n_estimators=5;, score=-8015073.964 total time=   0.5s\n",
      "[CV 5/5; 3/49] START max_depth=1, n_estimators=5................................\n"
     ]
    },
    {
     "name": "stderr",
     "output_type": "stream",
     "text": [
      "C:\\Users\\Admin\\anaconda3\\lib\\site-packages\\sklearn\\ensemble\\_forest.py:396: FutureWarning: Criterion 'mse' was deprecated in v1.0 and will be removed in version 1.2. Use `criterion='squared_error'` which is equivalent.\n",
      "  warn(\n"
     ]
    },
    {
     "name": "stdout",
     "output_type": "stream",
     "text": [
      "[CV 5/5; 3/49] END max_depth=1, n_estimators=5;, score=-8054722.304 total time=   0.4s\n",
      "[CV 1/5; 4/49] START max_depth=1, n_estimators=7................................\n"
     ]
    },
    {
     "name": "stderr",
     "output_type": "stream",
     "text": [
      "C:\\Users\\Admin\\anaconda3\\lib\\site-packages\\sklearn\\ensemble\\_forest.py:396: FutureWarning: Criterion 'mse' was deprecated in v1.0 and will be removed in version 1.2. Use `criterion='squared_error'` which is equivalent.\n",
      "  warn(\n"
     ]
    },
    {
     "name": "stdout",
     "output_type": "stream",
     "text": [
      "[CV 1/5; 4/49] END max_depth=1, n_estimators=7;, score=-8027011.221 total time=   0.5s\n",
      "[CV 2/5; 4/49] START max_depth=1, n_estimators=7................................\n"
     ]
    },
    {
     "name": "stderr",
     "output_type": "stream",
     "text": [
      "C:\\Users\\Admin\\anaconda3\\lib\\site-packages\\sklearn\\ensemble\\_forest.py:396: FutureWarning: Criterion 'mse' was deprecated in v1.0 and will be removed in version 1.2. Use `criterion='squared_error'` which is equivalent.\n",
      "  warn(\n"
     ]
    },
    {
     "name": "stdout",
     "output_type": "stream",
     "text": [
      "[CV 2/5; 4/49] END max_depth=1, n_estimators=7;, score=-8020891.976 total time=   0.5s\n",
      "[CV 3/5; 4/49] START max_depth=1, n_estimators=7................................\n"
     ]
    },
    {
     "name": "stderr",
     "output_type": "stream",
     "text": [
      "C:\\Users\\Admin\\anaconda3\\lib\\site-packages\\sklearn\\ensemble\\_forest.py:396: FutureWarning: Criterion 'mse' was deprecated in v1.0 and will be removed in version 1.2. Use `criterion='squared_error'` which is equivalent.\n",
      "  warn(\n"
     ]
    },
    {
     "name": "stdout",
     "output_type": "stream",
     "text": [
      "[CV 3/5; 4/49] END max_depth=1, n_estimators=7;, score=-8065767.964 total time=   0.5s\n",
      "[CV 4/5; 4/49] START max_depth=1, n_estimators=7................................\n"
     ]
    },
    {
     "name": "stderr",
     "output_type": "stream",
     "text": [
      "C:\\Users\\Admin\\anaconda3\\lib\\site-packages\\sklearn\\ensemble\\_forest.py:396: FutureWarning: Criterion 'mse' was deprecated in v1.0 and will be removed in version 1.2. Use `criterion='squared_error'` which is equivalent.\n",
      "  warn(\n"
     ]
    },
    {
     "name": "stdout",
     "output_type": "stream",
     "text": [
      "[CV 4/5; 4/49] END max_depth=1, n_estimators=7;, score=-8015127.695 total time=   0.5s\n",
      "[CV 5/5; 4/49] START max_depth=1, n_estimators=7................................\n"
     ]
    },
    {
     "name": "stderr",
     "output_type": "stream",
     "text": [
      "C:\\Users\\Admin\\anaconda3\\lib\\site-packages\\sklearn\\ensemble\\_forest.py:396: FutureWarning: Criterion 'mse' was deprecated in v1.0 and will be removed in version 1.2. Use `criterion='squared_error'` which is equivalent.\n",
      "  warn(\n"
     ]
    },
    {
     "name": "stdout",
     "output_type": "stream",
     "text": [
      "[CV 5/5; 4/49] END max_depth=1, n_estimators=7;, score=-8054590.919 total time=   0.7s\n",
      "[CV 1/5; 5/49] START max_depth=1, n_estimators=9................................\n"
     ]
    },
    {
     "name": "stderr",
     "output_type": "stream",
     "text": [
      "C:\\Users\\Admin\\anaconda3\\lib\\site-packages\\sklearn\\ensemble\\_forest.py:396: FutureWarning: Criterion 'mse' was deprecated in v1.0 and will be removed in version 1.2. Use `criterion='squared_error'` which is equivalent.\n",
      "  warn(\n"
     ]
    },
    {
     "name": "stdout",
     "output_type": "stream",
     "text": [
      "[CV 1/5; 5/49] END max_depth=1, n_estimators=9;, score=-8027015.145 total time=   0.8s\n",
      "[CV 2/5; 5/49] START max_depth=1, n_estimators=9................................\n"
     ]
    },
    {
     "name": "stderr",
     "output_type": "stream",
     "text": [
      "C:\\Users\\Admin\\anaconda3\\lib\\site-packages\\sklearn\\ensemble\\_forest.py:396: FutureWarning: Criterion 'mse' was deprecated in v1.0 and will be removed in version 1.2. Use `criterion='squared_error'` which is equivalent.\n",
      "  warn(\n"
     ]
    },
    {
     "name": "stdout",
     "output_type": "stream",
     "text": [
      "[CV 2/5; 5/49] END max_depth=1, n_estimators=9;, score=-8020719.775 total time=   1.0s\n",
      "[CV 3/5; 5/49] START max_depth=1, n_estimators=9................................\n"
     ]
    },
    {
     "name": "stderr",
     "output_type": "stream",
     "text": [
      "C:\\Users\\Admin\\anaconda3\\lib\\site-packages\\sklearn\\ensemble\\_forest.py:396: FutureWarning: Criterion 'mse' was deprecated in v1.0 and will be removed in version 1.2. Use `criterion='squared_error'` which is equivalent.\n",
      "  warn(\n"
     ]
    },
    {
     "name": "stdout",
     "output_type": "stream",
     "text": [
      "[CV 3/5; 5/49] END max_depth=1, n_estimators=9;, score=-8065813.487 total time=   0.6s\n",
      "[CV 4/5; 5/49] START max_depth=1, n_estimators=9................................\n"
     ]
    },
    {
     "name": "stderr",
     "output_type": "stream",
     "text": [
      "C:\\Users\\Admin\\anaconda3\\lib\\site-packages\\sklearn\\ensemble\\_forest.py:396: FutureWarning: Criterion 'mse' was deprecated in v1.0 and will be removed in version 1.2. Use `criterion='squared_error'` which is equivalent.\n",
      "  warn(\n"
     ]
    },
    {
     "name": "stdout",
     "output_type": "stream",
     "text": [
      "[CV 4/5; 5/49] END max_depth=1, n_estimators=9;, score=-8015228.705 total time=   0.6s\n",
      "[CV 5/5; 5/49] START max_depth=1, n_estimators=9................................\n"
     ]
    },
    {
     "name": "stderr",
     "output_type": "stream",
     "text": [
      "C:\\Users\\Admin\\anaconda3\\lib\\site-packages\\sklearn\\ensemble\\_forest.py:396: FutureWarning: Criterion 'mse' was deprecated in v1.0 and will be removed in version 1.2. Use `criterion='squared_error'` which is equivalent.\n",
      "  warn(\n"
     ]
    },
    {
     "name": "stdout",
     "output_type": "stream",
     "text": [
      "[CV 5/5; 5/49] END max_depth=1, n_estimators=9;, score=-8054512.747 total time=   0.7s\n",
      "[CV 1/5; 6/49] START max_depth=1, n_estimators=11...............................\n"
     ]
    },
    {
     "name": "stderr",
     "output_type": "stream",
     "text": [
      "C:\\Users\\Admin\\anaconda3\\lib\\site-packages\\sklearn\\ensemble\\_forest.py:396: FutureWarning: Criterion 'mse' was deprecated in v1.0 and will be removed in version 1.2. Use `criterion='squared_error'` which is equivalent.\n",
      "  warn(\n"
     ]
    },
    {
     "name": "stdout",
     "output_type": "stream",
     "text": [
      "[CV 1/5; 6/49] END max_depth=1, n_estimators=11;, score=-8027023.210 total time=   0.8s\n",
      "[CV 2/5; 6/49] START max_depth=1, n_estimators=11...............................\n"
     ]
    },
    {
     "name": "stderr",
     "output_type": "stream",
     "text": [
      "C:\\Users\\Admin\\anaconda3\\lib\\site-packages\\sklearn\\ensemble\\_forest.py:396: FutureWarning: Criterion 'mse' was deprecated in v1.0 and will be removed in version 1.2. Use `criterion='squared_error'` which is equivalent.\n",
      "  warn(\n"
     ]
    },
    {
     "name": "stdout",
     "output_type": "stream",
     "text": [
      "[CV 2/5; 6/49] END max_depth=1, n_estimators=11;, score=-8020659.762 total time=   0.9s\n",
      "[CV 3/5; 6/49] START max_depth=1, n_estimators=11...............................\n"
     ]
    },
    {
     "name": "stderr",
     "output_type": "stream",
     "text": [
      "C:\\Users\\Admin\\anaconda3\\lib\\site-packages\\sklearn\\ensemble\\_forest.py:396: FutureWarning: Criterion 'mse' was deprecated in v1.0 and will be removed in version 1.2. Use `criterion='squared_error'` which is equivalent.\n",
      "  warn(\n"
     ]
    },
    {
     "name": "stdout",
     "output_type": "stream",
     "text": [
      "[CV 3/5; 6/49] END max_depth=1, n_estimators=11;, score=-8065839.130 total time=   0.8s\n",
      "[CV 4/5; 6/49] START max_depth=1, n_estimators=11...............................\n"
     ]
    },
    {
     "name": "stderr",
     "output_type": "stream",
     "text": [
      "C:\\Users\\Admin\\anaconda3\\lib\\site-packages\\sklearn\\ensemble\\_forest.py:396: FutureWarning: Criterion 'mse' was deprecated in v1.0 and will be removed in version 1.2. Use `criterion='squared_error'` which is equivalent.\n",
      "  warn(\n"
     ]
    },
    {
     "name": "stdout",
     "output_type": "stream",
     "text": [
      "[CV 4/5; 6/49] END max_depth=1, n_estimators=11;, score=-8015278.058 total time=   0.8s\n",
      "[CV 5/5; 6/49] START max_depth=1, n_estimators=11...............................\n"
     ]
    },
    {
     "name": "stderr",
     "output_type": "stream",
     "text": [
      "C:\\Users\\Admin\\anaconda3\\lib\\site-packages\\sklearn\\ensemble\\_forest.py:396: FutureWarning: Criterion 'mse' was deprecated in v1.0 and will be removed in version 1.2. Use `criterion='squared_error'` which is equivalent.\n",
      "  warn(\n"
     ]
    },
    {
     "name": "stdout",
     "output_type": "stream",
     "text": [
      "[CV 5/5; 6/49] END max_depth=1, n_estimators=11;, score=-8054512.876 total time=   0.8s\n",
      "[CV 1/5; 7/49] START max_depth=1, n_estimators=13...............................\n"
     ]
    },
    {
     "name": "stderr",
     "output_type": "stream",
     "text": [
      "C:\\Users\\Admin\\anaconda3\\lib\\site-packages\\sklearn\\ensemble\\_forest.py:396: FutureWarning: Criterion 'mse' was deprecated in v1.0 and will be removed in version 1.2. Use `criterion='squared_error'` which is equivalent.\n",
      "  warn(\n"
     ]
    },
    {
     "name": "stdout",
     "output_type": "stream",
     "text": [
      "[CV 1/5; 7/49] END max_depth=1, n_estimators=13;, score=-8027024.213 total time=   1.0s\n",
      "[CV 2/5; 7/49] START max_depth=1, n_estimators=13...............................\n"
     ]
    },
    {
     "name": "stderr",
     "output_type": "stream",
     "text": [
      "C:\\Users\\Admin\\anaconda3\\lib\\site-packages\\sklearn\\ensemble\\_forest.py:396: FutureWarning: Criterion 'mse' was deprecated in v1.0 and will be removed in version 1.2. Use `criterion='squared_error'` which is equivalent.\n",
      "  warn(\n"
     ]
    },
    {
     "name": "stdout",
     "output_type": "stream",
     "text": [
      "[CV 2/5; 7/49] END max_depth=1, n_estimators=13;, score=-8020684.056 total time=   1.0s\n",
      "[CV 3/5; 7/49] START max_depth=1, n_estimators=13...............................\n"
     ]
    },
    {
     "name": "stderr",
     "output_type": "stream",
     "text": [
      "C:\\Users\\Admin\\anaconda3\\lib\\site-packages\\sklearn\\ensemble\\_forest.py:396: FutureWarning: Criterion 'mse' was deprecated in v1.0 and will be removed in version 1.2. Use `criterion='squared_error'` which is equivalent.\n",
      "  warn(\n"
     ]
    },
    {
     "name": "stdout",
     "output_type": "stream",
     "text": [
      "[CV 3/5; 7/49] END max_depth=1, n_estimators=13;, score=-8065825.128 total time=   0.9s\n",
      "[CV 4/5; 7/49] START max_depth=1, n_estimators=13...............................\n"
     ]
    },
    {
     "name": "stderr",
     "output_type": "stream",
     "text": [
      "C:\\Users\\Admin\\anaconda3\\lib\\site-packages\\sklearn\\ensemble\\_forest.py:396: FutureWarning: Criterion 'mse' was deprecated in v1.0 and will be removed in version 1.2. Use `criterion='squared_error'` which is equivalent.\n",
      "  warn(\n"
     ]
    },
    {
     "name": "stdout",
     "output_type": "stream",
     "text": [
      "[CV 4/5; 7/49] END max_depth=1, n_estimators=13;, score=-8015319.264 total time=   1.0s\n",
      "[CV 5/5; 7/49] START max_depth=1, n_estimators=13...............................\n"
     ]
    },
    {
     "name": "stderr",
     "output_type": "stream",
     "text": [
      "C:\\Users\\Admin\\anaconda3\\lib\\site-packages\\sklearn\\ensemble\\_forest.py:396: FutureWarning: Criterion 'mse' was deprecated in v1.0 and will be removed in version 1.2. Use `criterion='squared_error'` which is equivalent.\n",
      "  warn(\n"
     ]
    },
    {
     "name": "stdout",
     "output_type": "stream",
     "text": [
      "[CV 5/5; 7/49] END max_depth=1, n_estimators=13;, score=-8054515.023 total time=   1.0s\n",
      "[CV 1/5; 8/49] START max_depth=3, n_estimators=1................................\n"
     ]
    },
    {
     "name": "stderr",
     "output_type": "stream",
     "text": [
      "C:\\Users\\Admin\\anaconda3\\lib\\site-packages\\sklearn\\ensemble\\_forest.py:396: FutureWarning: Criterion 'mse' was deprecated in v1.0 and will be removed in version 1.2. Use `criterion='squared_error'` which is equivalent.\n",
      "  warn(\n"
     ]
    },
    {
     "name": "stdout",
     "output_type": "stream",
     "text": [
      "[CV 1/5; 8/49] END max_depth=3, n_estimators=1;, score=-5635982.778 total time=   0.1s\n",
      "[CV 2/5; 8/49] START max_depth=3, n_estimators=1................................\n"
     ]
    },
    {
     "name": "stderr",
     "output_type": "stream",
     "text": [
      "C:\\Users\\Admin\\anaconda3\\lib\\site-packages\\sklearn\\ensemble\\_forest.py:396: FutureWarning: Criterion 'mse' was deprecated in v1.0 and will be removed in version 1.2. Use `criterion='squared_error'` which is equivalent.\n",
      "  warn(\n"
     ]
    },
    {
     "name": "stdout",
     "output_type": "stream",
     "text": [
      "[CV 2/5; 8/49] END max_depth=3, n_estimators=1;, score=-5548520.060 total time=   0.2s\n",
      "[CV 3/5; 8/49] START max_depth=3, n_estimators=1................................\n"
     ]
    },
    {
     "name": "stderr",
     "output_type": "stream",
     "text": [
      "C:\\Users\\Admin\\anaconda3\\lib\\site-packages\\sklearn\\ensemble\\_forest.py:396: FutureWarning: Criterion 'mse' was deprecated in v1.0 and will be removed in version 1.2. Use `criterion='squared_error'` which is equivalent.\n",
      "  warn(\n"
     ]
    },
    {
     "name": "stdout",
     "output_type": "stream",
     "text": [
      "[CV 3/5; 8/49] END max_depth=3, n_estimators=1;, score=-5596841.469 total time=   0.2s\n",
      "[CV 4/5; 8/49] START max_depth=3, n_estimators=1................................\n"
     ]
    },
    {
     "name": "stderr",
     "output_type": "stream",
     "text": [
      "C:\\Users\\Admin\\anaconda3\\lib\\site-packages\\sklearn\\ensemble\\_forest.py:396: FutureWarning: Criterion 'mse' was deprecated in v1.0 and will be removed in version 1.2. Use `criterion='squared_error'` which is equivalent.\n",
      "  warn(\n"
     ]
    },
    {
     "name": "stdout",
     "output_type": "stream",
     "text": [
      "[CV 4/5; 8/49] END max_depth=3, n_estimators=1;, score=-5594420.290 total time=   0.2s\n",
      "[CV 5/5; 8/49] START max_depth=3, n_estimators=1................................\n"
     ]
    },
    {
     "name": "stderr",
     "output_type": "stream",
     "text": [
      "C:\\Users\\Admin\\anaconda3\\lib\\site-packages\\sklearn\\ensemble\\_forest.py:396: FutureWarning: Criterion 'mse' was deprecated in v1.0 and will be removed in version 1.2. Use `criterion='squared_error'` which is equivalent.\n",
      "  warn(\n"
     ]
    },
    {
     "name": "stdout",
     "output_type": "stream",
     "text": [
      "[CV 5/5; 8/49] END max_depth=3, n_estimators=1;, score=-5612209.165 total time=   0.2s\n",
      "[CV 1/5; 9/49] START max_depth=3, n_estimators=3................................\n"
     ]
    },
    {
     "name": "stderr",
     "output_type": "stream",
     "text": [
      "C:\\Users\\Admin\\anaconda3\\lib\\site-packages\\sklearn\\ensemble\\_forest.py:396: FutureWarning: Criterion 'mse' was deprecated in v1.0 and will be removed in version 1.2. Use `criterion='squared_error'` which is equivalent.\n",
      "  warn(\n"
     ]
    },
    {
     "name": "stdout",
     "output_type": "stream",
     "text": [
      "[CV 1/5; 9/49] END max_depth=3, n_estimators=3;, score=-5619520.473 total time=   0.5s\n",
      "[CV 2/5; 9/49] START max_depth=3, n_estimators=3................................\n"
     ]
    },
    {
     "name": "stderr",
     "output_type": "stream",
     "text": [
      "C:\\Users\\Admin\\anaconda3\\lib\\site-packages\\sklearn\\ensemble\\_forest.py:396: FutureWarning: Criterion 'mse' was deprecated in v1.0 and will be removed in version 1.2. Use `criterion='squared_error'` which is equivalent.\n",
      "  warn(\n"
     ]
    },
    {
     "name": "stdout",
     "output_type": "stream",
     "text": [
      "[CV 2/5; 9/49] END max_depth=3, n_estimators=3;, score=-5546561.051 total time=   0.5s\n",
      "[CV 3/5; 9/49] START max_depth=3, n_estimators=3................................\n"
     ]
    },
    {
     "name": "stderr",
     "output_type": "stream",
     "text": [
      "C:\\Users\\Admin\\anaconda3\\lib\\site-packages\\sklearn\\ensemble\\_forest.py:396: FutureWarning: Criterion 'mse' was deprecated in v1.0 and will be removed in version 1.2. Use `criterion='squared_error'` which is equivalent.\n",
      "  warn(\n"
     ]
    },
    {
     "name": "stdout",
     "output_type": "stream",
     "text": [
      "[CV 3/5; 9/49] END max_depth=3, n_estimators=3;, score=-5581441.812 total time=   0.5s\n",
      "[CV 4/5; 9/49] START max_depth=3, n_estimators=3................................\n"
     ]
    },
    {
     "name": "stderr",
     "output_type": "stream",
     "text": [
      "C:\\Users\\Admin\\anaconda3\\lib\\site-packages\\sklearn\\ensemble\\_forest.py:396: FutureWarning: Criterion 'mse' was deprecated in v1.0 and will be removed in version 1.2. Use `criterion='squared_error'` which is equivalent.\n",
      "  warn(\n"
     ]
    },
    {
     "name": "stdout",
     "output_type": "stream",
     "text": [
      "[CV 4/5; 9/49] END max_depth=3, n_estimators=3;, score=-5594830.749 total time=   0.5s\n",
      "[CV 5/5; 9/49] START max_depth=3, n_estimators=3................................\n"
     ]
    },
    {
     "name": "stderr",
     "output_type": "stream",
     "text": [
      "C:\\Users\\Admin\\anaconda3\\lib\\site-packages\\sklearn\\ensemble\\_forest.py:396: FutureWarning: Criterion 'mse' was deprecated in v1.0 and will be removed in version 1.2. Use `criterion='squared_error'` which is equivalent.\n",
      "  warn(\n"
     ]
    },
    {
     "name": "stdout",
     "output_type": "stream",
     "text": [
      "[CV 5/5; 9/49] END max_depth=3, n_estimators=3;, score=-5599694.967 total time=   0.5s\n",
      "[CV 1/5; 10/49] START max_depth=3, n_estimators=5...............................\n"
     ]
    },
    {
     "name": "stderr",
     "output_type": "stream",
     "text": [
      "C:\\Users\\Admin\\anaconda3\\lib\\site-packages\\sklearn\\ensemble\\_forest.py:396: FutureWarning: Criterion 'mse' was deprecated in v1.0 and will be removed in version 1.2. Use `criterion='squared_error'` which is equivalent.\n",
      "  warn(\n"
     ]
    },
    {
     "name": "stdout",
     "output_type": "stream",
     "text": [
      "[CV 1/5; 10/49] END max_depth=3, n_estimators=5;, score=-5618597.361 total time=   0.9s\n",
      "[CV 2/5; 10/49] START max_depth=3, n_estimators=5...............................\n"
     ]
    },
    {
     "name": "stderr",
     "output_type": "stream",
     "text": [
      "C:\\Users\\Admin\\anaconda3\\lib\\site-packages\\sklearn\\ensemble\\_forest.py:396: FutureWarning: Criterion 'mse' was deprecated in v1.0 and will be removed in version 1.2. Use `criterion='squared_error'` which is equivalent.\n",
      "  warn(\n"
     ]
    },
    {
     "name": "stdout",
     "output_type": "stream",
     "text": [
      "[CV 2/5; 10/49] END max_depth=3, n_estimators=5;, score=-5545842.024 total time=   0.9s\n",
      "[CV 3/5; 10/49] START max_depth=3, n_estimators=5...............................\n"
     ]
    },
    {
     "name": "stderr",
     "output_type": "stream",
     "text": [
      "C:\\Users\\Admin\\anaconda3\\lib\\site-packages\\sklearn\\ensemble\\_forest.py:396: FutureWarning: Criterion 'mse' was deprecated in v1.0 and will be removed in version 1.2. Use `criterion='squared_error'` which is equivalent.\n",
      "  warn(\n"
     ]
    },
    {
     "name": "stdout",
     "output_type": "stream",
     "text": [
      "[CV 3/5; 10/49] END max_depth=3, n_estimators=5;, score=-5580163.730 total time=   1.0s\n",
      "[CV 4/5; 10/49] START max_depth=3, n_estimators=5...............................\n"
     ]
    },
    {
     "name": "stderr",
     "output_type": "stream",
     "text": [
      "C:\\Users\\Admin\\anaconda3\\lib\\site-packages\\sklearn\\ensemble\\_forest.py:396: FutureWarning: Criterion 'mse' was deprecated in v1.0 and will be removed in version 1.2. Use `criterion='squared_error'` which is equivalent.\n",
      "  warn(\n"
     ]
    },
    {
     "name": "stdout",
     "output_type": "stream",
     "text": [
      "[CV 4/5; 10/49] END max_depth=3, n_estimators=5;, score=-5594625.915 total time=   1.0s\n",
      "[CV 5/5; 10/49] START max_depth=3, n_estimators=5...............................\n"
     ]
    },
    {
     "name": "stderr",
     "output_type": "stream",
     "text": [
      "C:\\Users\\Admin\\anaconda3\\lib\\site-packages\\sklearn\\ensemble\\_forest.py:396: FutureWarning: Criterion 'mse' was deprecated in v1.0 and will be removed in version 1.2. Use `criterion='squared_error'` which is equivalent.\n",
      "  warn(\n"
     ]
    },
    {
     "name": "stdout",
     "output_type": "stream",
     "text": [
      "[CV 5/5; 10/49] END max_depth=3, n_estimators=5;, score=-5565032.992 total time=   1.1s\n",
      "[CV 1/5; 11/49] START max_depth=3, n_estimators=7...............................\n"
     ]
    },
    {
     "name": "stderr",
     "output_type": "stream",
     "text": [
      "C:\\Users\\Admin\\anaconda3\\lib\\site-packages\\sklearn\\ensemble\\_forest.py:396: FutureWarning: Criterion 'mse' was deprecated in v1.0 and will be removed in version 1.2. Use `criterion='squared_error'` which is equivalent.\n",
      "  warn(\n"
     ]
    },
    {
     "name": "stdout",
     "output_type": "stream",
     "text": [
      "[CV 1/5; 11/49] END max_depth=3, n_estimators=7;, score=-5619814.351 total time=   1.4s\n",
      "[CV 2/5; 11/49] START max_depth=3, n_estimators=7...............................\n"
     ]
    },
    {
     "name": "stderr",
     "output_type": "stream",
     "text": [
      "C:\\Users\\Admin\\anaconda3\\lib\\site-packages\\sklearn\\ensemble\\_forest.py:396: FutureWarning: Criterion 'mse' was deprecated in v1.0 and will be removed in version 1.2. Use `criterion='squared_error'` which is equivalent.\n",
      "  warn(\n"
     ]
    },
    {
     "name": "stdout",
     "output_type": "stream",
     "text": [
      "[CV 2/5; 11/49] END max_depth=3, n_estimators=7;, score=-5546172.373 total time=   1.4s\n",
      "[CV 3/5; 11/49] START max_depth=3, n_estimators=7...............................\n"
     ]
    },
    {
     "name": "stderr",
     "output_type": "stream",
     "text": [
      "C:\\Users\\Admin\\anaconda3\\lib\\site-packages\\sklearn\\ensemble\\_forest.py:396: FutureWarning: Criterion 'mse' was deprecated in v1.0 and will be removed in version 1.2. Use `criterion='squared_error'` which is equivalent.\n",
      "  warn(\n"
     ]
    },
    {
     "name": "stdout",
     "output_type": "stream",
     "text": [
      "[CV 3/5; 11/49] END max_depth=3, n_estimators=7;, score=-5579762.690 total time=   1.4s\n",
      "[CV 4/5; 11/49] START max_depth=3, n_estimators=7...............................\n"
     ]
    },
    {
     "name": "stderr",
     "output_type": "stream",
     "text": [
      "C:\\Users\\Admin\\anaconda3\\lib\\site-packages\\sklearn\\ensemble\\_forest.py:396: FutureWarning: Criterion 'mse' was deprecated in v1.0 and will be removed in version 1.2. Use `criterion='squared_error'` which is equivalent.\n",
      "  warn(\n"
     ]
    },
    {
     "name": "stdout",
     "output_type": "stream",
     "text": [
      "[CV 4/5; 11/49] END max_depth=3, n_estimators=7;, score=-5594542.181 total time=   1.4s\n",
      "[CV 5/5; 11/49] START max_depth=3, n_estimators=7...............................\n"
     ]
    },
    {
     "name": "stderr",
     "output_type": "stream",
     "text": [
      "C:\\Users\\Admin\\anaconda3\\lib\\site-packages\\sklearn\\ensemble\\_forest.py:396: FutureWarning: Criterion 'mse' was deprecated in v1.0 and will be removed in version 1.2. Use `criterion='squared_error'` which is equivalent.\n",
      "  warn(\n"
     ]
    },
    {
     "name": "stdout",
     "output_type": "stream",
     "text": [
      "[CV 5/5; 11/49] END max_depth=3, n_estimators=7;, score=-5573638.702 total time=   1.6s\n",
      "[CV 1/5; 12/49] START max_depth=3, n_estimators=9...............................\n"
     ]
    },
    {
     "name": "stderr",
     "output_type": "stream",
     "text": [
      "C:\\Users\\Admin\\anaconda3\\lib\\site-packages\\sklearn\\ensemble\\_forest.py:396: FutureWarning: Criterion 'mse' was deprecated in v1.0 and will be removed in version 1.2. Use `criterion='squared_error'` which is equivalent.\n",
      "  warn(\n"
     ]
    },
    {
     "name": "stdout",
     "output_type": "stream",
     "text": [
      "[CV 1/5; 12/49] END max_depth=3, n_estimators=9;, score=-5621474.464 total time=   1.8s\n",
      "[CV 2/5; 12/49] START max_depth=3, n_estimators=9...............................\n"
     ]
    },
    {
     "name": "stderr",
     "output_type": "stream",
     "text": [
      "C:\\Users\\Admin\\anaconda3\\lib\\site-packages\\sklearn\\ensemble\\_forest.py:396: FutureWarning: Criterion 'mse' was deprecated in v1.0 and will be removed in version 1.2. Use `criterion='squared_error'` which is equivalent.\n",
      "  warn(\n"
     ]
    },
    {
     "name": "stdout",
     "output_type": "stream",
     "text": [
      "[CV 2/5; 12/49] END max_depth=3, n_estimators=9;, score=-5545914.080 total time=   1.7s\n",
      "[CV 3/5; 12/49] START max_depth=3, n_estimators=9...............................\n"
     ]
    },
    {
     "name": "stderr",
     "output_type": "stream",
     "text": [
      "C:\\Users\\Admin\\anaconda3\\lib\\site-packages\\sklearn\\ensemble\\_forest.py:396: FutureWarning: Criterion 'mse' was deprecated in v1.0 and will be removed in version 1.2. Use `criterion='squared_error'` which is equivalent.\n",
      "  warn(\n"
     ]
    },
    {
     "name": "stdout",
     "output_type": "stream",
     "text": [
      "[CV 3/5; 12/49] END max_depth=3, n_estimators=9;, score=-5580948.574 total time=   1.6s\n",
      "[CV 4/5; 12/49] START max_depth=3, n_estimators=9...............................\n"
     ]
    },
    {
     "name": "stderr",
     "output_type": "stream",
     "text": [
      "C:\\Users\\Admin\\anaconda3\\lib\\site-packages\\sklearn\\ensemble\\_forest.py:396: FutureWarning: Criterion 'mse' was deprecated in v1.0 and will be removed in version 1.2. Use `criterion='squared_error'` which is equivalent.\n",
      "  warn(\n"
     ]
    },
    {
     "name": "stdout",
     "output_type": "stream",
     "text": [
      "[CV 4/5; 12/49] END max_depth=3, n_estimators=9;, score=-5594484.022 total time=   1.7s\n",
      "[CV 5/5; 12/49] START max_depth=3, n_estimators=9...............................\n"
     ]
    },
    {
     "name": "stderr",
     "output_type": "stream",
     "text": [
      "C:\\Users\\Admin\\anaconda3\\lib\\site-packages\\sklearn\\ensemble\\_forest.py:396: FutureWarning: Criterion 'mse' was deprecated in v1.0 and will be removed in version 1.2. Use `criterion='squared_error'` which is equivalent.\n",
      "  warn(\n"
     ]
    },
    {
     "name": "stdout",
     "output_type": "stream",
     "text": [
      "[CV 5/5; 12/49] END max_depth=3, n_estimators=9;, score=-5578148.063 total time=   1.6s\n",
      "[CV 1/5; 13/49] START max_depth=3, n_estimators=11..............................\n"
     ]
    },
    {
     "name": "stderr",
     "output_type": "stream",
     "text": [
      "C:\\Users\\Admin\\anaconda3\\lib\\site-packages\\sklearn\\ensemble\\_forest.py:396: FutureWarning: Criterion 'mse' was deprecated in v1.0 and will be removed in version 1.2. Use `criterion='squared_error'` which is equivalent.\n",
      "  warn(\n"
     ]
    },
    {
     "name": "stdout",
     "output_type": "stream",
     "text": [
      "[CV 1/5; 13/49] END max_depth=3, n_estimators=11;, score=-5622847.265 total time=   2.1s\n",
      "[CV 2/5; 13/49] START max_depth=3, n_estimators=11..............................\n"
     ]
    },
    {
     "name": "stderr",
     "output_type": "stream",
     "text": [
      "C:\\Users\\Admin\\anaconda3\\lib\\site-packages\\sklearn\\ensemble\\_forest.py:396: FutureWarning: Criterion 'mse' was deprecated in v1.0 and will be removed in version 1.2. Use `criterion='squared_error'` which is equivalent.\n",
      "  warn(\n"
     ]
    },
    {
     "name": "stdout",
     "output_type": "stream",
     "text": [
      "[CV 2/5; 13/49] END max_depth=3, n_estimators=11;, score=-5545536.848 total time=   2.0s\n",
      "[CV 3/5; 13/49] START max_depth=3, n_estimators=11..............................\n"
     ]
    },
    {
     "name": "stderr",
     "output_type": "stream",
     "text": [
      "C:\\Users\\Admin\\anaconda3\\lib\\site-packages\\sklearn\\ensemble\\_forest.py:396: FutureWarning: Criterion 'mse' was deprecated in v1.0 and will be removed in version 1.2. Use `criterion='squared_error'` which is equivalent.\n",
      "  warn(\n"
     ]
    },
    {
     "name": "stdout",
     "output_type": "stream",
     "text": [
      "[CV 3/5; 13/49] END max_depth=3, n_estimators=11;, score=-5582260.110 total time=   2.0s\n",
      "[CV 4/5; 13/49] START max_depth=3, n_estimators=11..............................\n"
     ]
    },
    {
     "name": "stderr",
     "output_type": "stream",
     "text": [
      "C:\\Users\\Admin\\anaconda3\\lib\\site-packages\\sklearn\\ensemble\\_forest.py:396: FutureWarning: Criterion 'mse' was deprecated in v1.0 and will be removed in version 1.2. Use `criterion='squared_error'` which is equivalent.\n",
      "  warn(\n"
     ]
    },
    {
     "name": "stdout",
     "output_type": "stream",
     "text": [
      "[CV 4/5; 13/49] END max_depth=3, n_estimators=11;, score=-5594579.401 total time=   2.0s\n",
      "[CV 5/5; 13/49] START max_depth=3, n_estimators=11..............................\n"
     ]
    },
    {
     "name": "stderr",
     "output_type": "stream",
     "text": [
      "C:\\Users\\Admin\\anaconda3\\lib\\site-packages\\sklearn\\ensemble\\_forest.py:396: FutureWarning: Criterion 'mse' was deprecated in v1.0 and will be removed in version 1.2. Use `criterion='squared_error'` which is equivalent.\n",
      "  warn(\n"
     ]
    },
    {
     "name": "stdout",
     "output_type": "stream",
     "text": [
      "[CV 5/5; 13/49] END max_depth=3, n_estimators=11;, score=-5578466.130 total time=   2.0s\n",
      "[CV 1/5; 14/49] START max_depth=3, n_estimators=13..............................\n"
     ]
    },
    {
     "name": "stderr",
     "output_type": "stream",
     "text": [
      "C:\\Users\\Admin\\anaconda3\\lib\\site-packages\\sklearn\\ensemble\\_forest.py:396: FutureWarning: Criterion 'mse' was deprecated in v1.0 and will be removed in version 1.2. Use `criterion='squared_error'` which is equivalent.\n",
      "  warn(\n"
     ]
    },
    {
     "name": "stdout",
     "output_type": "stream",
     "text": [
      "[CV 1/5; 14/49] END max_depth=3, n_estimators=13;, score=-5623761.398 total time=   2.4s\n",
      "[CV 2/5; 14/49] START max_depth=3, n_estimators=13..............................\n"
     ]
    },
    {
     "name": "stderr",
     "output_type": "stream",
     "text": [
      "C:\\Users\\Admin\\anaconda3\\lib\\site-packages\\sklearn\\ensemble\\_forest.py:396: FutureWarning: Criterion 'mse' was deprecated in v1.0 and will be removed in version 1.2. Use `criterion='squared_error'` which is equivalent.\n",
      "  warn(\n"
     ]
    },
    {
     "name": "stdout",
     "output_type": "stream",
     "text": [
      "[CV 2/5; 14/49] END max_depth=3, n_estimators=13;, score=-5545572.062 total time=   2.4s\n",
      "[CV 3/5; 14/49] START max_depth=3, n_estimators=13..............................\n"
     ]
    },
    {
     "name": "stderr",
     "output_type": "stream",
     "text": [
      "C:\\Users\\Admin\\anaconda3\\lib\\site-packages\\sklearn\\ensemble\\_forest.py:396: FutureWarning: Criterion 'mse' was deprecated in v1.0 and will be removed in version 1.2. Use `criterion='squared_error'` which is equivalent.\n",
      "  warn(\n"
     ]
    },
    {
     "name": "stdout",
     "output_type": "stream",
     "text": [
      "[CV 3/5; 14/49] END max_depth=3, n_estimators=13;, score=-5583440.504 total time=   2.4s\n",
      "[CV 4/5; 14/49] START max_depth=3, n_estimators=13..............................\n"
     ]
    },
    {
     "name": "stderr",
     "output_type": "stream",
     "text": [
      "C:\\Users\\Admin\\anaconda3\\lib\\site-packages\\sklearn\\ensemble\\_forest.py:396: FutureWarning: Criterion 'mse' was deprecated in v1.0 and will be removed in version 1.2. Use `criterion='squared_error'` which is equivalent.\n",
      "  warn(\n"
     ]
    },
    {
     "name": "stdout",
     "output_type": "stream",
     "text": [
      "[CV 4/5; 14/49] END max_depth=3, n_estimators=13;, score=-5594640.371 total time=   2.4s\n",
      "[CV 5/5; 14/49] START max_depth=3, n_estimators=13..............................\n"
     ]
    },
    {
     "name": "stderr",
     "output_type": "stream",
     "text": [
      "C:\\Users\\Admin\\anaconda3\\lib\\site-packages\\sklearn\\ensemble\\_forest.py:396: FutureWarning: Criterion 'mse' was deprecated in v1.0 and will be removed in version 1.2. Use `criterion='squared_error'` which is equivalent.\n",
      "  warn(\n"
     ]
    },
    {
     "name": "stdout",
     "output_type": "stream",
     "text": [
      "[CV 5/5; 14/49] END max_depth=3, n_estimators=13;, score=-5579853.571 total time=   2.4s\n",
      "[CV 1/5; 15/49] START max_depth=5, n_estimators=1...............................\n"
     ]
    },
    {
     "name": "stderr",
     "output_type": "stream",
     "text": [
      "C:\\Users\\Admin\\anaconda3\\lib\\site-packages\\sklearn\\ensemble\\_forest.py:396: FutureWarning: Criterion 'mse' was deprecated in v1.0 and will be removed in version 1.2. Use `criterion='squared_error'` which is equivalent.\n",
      "  warn(\n"
     ]
    },
    {
     "name": "stdout",
     "output_type": "stream",
     "text": [
      "[CV 1/5; 15/49] END max_depth=5, n_estimators=1;, score=-4133887.893 total time=   0.3s\n",
      "[CV 2/5; 15/49] START max_depth=5, n_estimators=1...............................\n"
     ]
    },
    {
     "name": "stderr",
     "output_type": "stream",
     "text": [
      "C:\\Users\\Admin\\anaconda3\\lib\\site-packages\\sklearn\\ensemble\\_forest.py:396: FutureWarning: Criterion 'mse' was deprecated in v1.0 and will be removed in version 1.2. Use `criterion='squared_error'` which is equivalent.\n",
      "  warn(\n"
     ]
    },
    {
     "name": "stdout",
     "output_type": "stream",
     "text": [
      "[CV 2/5; 15/49] END max_depth=5, n_estimators=1;, score=-4035446.978 total time=   0.3s\n",
      "[CV 3/5; 15/49] START max_depth=5, n_estimators=1...............................\n"
     ]
    },
    {
     "name": "stderr",
     "output_type": "stream",
     "text": [
      "C:\\Users\\Admin\\anaconda3\\lib\\site-packages\\sklearn\\ensemble\\_forest.py:396: FutureWarning: Criterion 'mse' was deprecated in v1.0 and will be removed in version 1.2. Use `criterion='squared_error'` which is equivalent.\n",
      "  warn(\n"
     ]
    },
    {
     "name": "stdout",
     "output_type": "stream",
     "text": [
      "[CV 3/5; 15/49] END max_depth=5, n_estimators=1;, score=-4077811.119 total time=   0.3s\n",
      "[CV 4/5; 15/49] START max_depth=5, n_estimators=1...............................\n"
     ]
    },
    {
     "name": "stderr",
     "output_type": "stream",
     "text": [
      "C:\\Users\\Admin\\anaconda3\\lib\\site-packages\\sklearn\\ensemble\\_forest.py:396: FutureWarning: Criterion 'mse' was deprecated in v1.0 and will be removed in version 1.2. Use `criterion='squared_error'` which is equivalent.\n",
      "  warn(\n"
     ]
    },
    {
     "name": "stdout",
     "output_type": "stream",
     "text": [
      "[CV 4/5; 15/49] END max_depth=5, n_estimators=1;, score=-4022398.963 total time=   0.3s\n",
      "[CV 5/5; 15/49] START max_depth=5, n_estimators=1...............................\n"
     ]
    },
    {
     "name": "stderr",
     "output_type": "stream",
     "text": [
      "C:\\Users\\Admin\\anaconda3\\lib\\site-packages\\sklearn\\ensemble\\_forest.py:396: FutureWarning: Criterion 'mse' was deprecated in v1.0 and will be removed in version 1.2. Use `criterion='squared_error'` which is equivalent.\n",
      "  warn(\n"
     ]
    },
    {
     "name": "stdout",
     "output_type": "stream",
     "text": [
      "[CV 5/5; 15/49] END max_depth=5, n_estimators=1;, score=-4055706.467 total time=   0.3s\n",
      "[CV 1/5; 16/49] START max_depth=5, n_estimators=3...............................\n"
     ]
    },
    {
     "name": "stderr",
     "output_type": "stream",
     "text": [
      "C:\\Users\\Admin\\anaconda3\\lib\\site-packages\\sklearn\\ensemble\\_forest.py:396: FutureWarning: Criterion 'mse' was deprecated in v1.0 and will be removed in version 1.2. Use `criterion='squared_error'` which is equivalent.\n",
      "  warn(\n"
     ]
    },
    {
     "name": "stdout",
     "output_type": "stream",
     "text": [
      "[CV 1/5; 16/49] END max_depth=5, n_estimators=3;, score=-4079228.073 total time=   0.8s\n",
      "[CV 2/5; 16/49] START max_depth=5, n_estimators=3...............................\n"
     ]
    },
    {
     "name": "stderr",
     "output_type": "stream",
     "text": [
      "C:\\Users\\Admin\\anaconda3\\lib\\site-packages\\sklearn\\ensemble\\_forest.py:396: FutureWarning: Criterion 'mse' was deprecated in v1.0 and will be removed in version 1.2. Use `criterion='squared_error'` which is equivalent.\n",
      "  warn(\n"
     ]
    },
    {
     "name": "stdout",
     "output_type": "stream",
     "text": [
      "[CV 2/5; 16/49] END max_depth=5, n_estimators=3;, score=-3997029.879 total time=   0.9s\n",
      "[CV 3/5; 16/49] START max_depth=5, n_estimators=3...............................\n"
     ]
    },
    {
     "name": "stderr",
     "output_type": "stream",
     "text": [
      "C:\\Users\\Admin\\anaconda3\\lib\\site-packages\\sklearn\\ensemble\\_forest.py:396: FutureWarning: Criterion 'mse' was deprecated in v1.0 and will be removed in version 1.2. Use `criterion='squared_error'` which is equivalent.\n",
      "  warn(\n"
     ]
    },
    {
     "name": "stdout",
     "output_type": "stream",
     "text": [
      "[CV 3/5; 16/49] END max_depth=5, n_estimators=3;, score=-4038861.061 total time=   0.8s\n",
      "[CV 4/5; 16/49] START max_depth=5, n_estimators=3...............................\n"
     ]
    },
    {
     "name": "stderr",
     "output_type": "stream",
     "text": [
      "C:\\Users\\Admin\\anaconda3\\lib\\site-packages\\sklearn\\ensemble\\_forest.py:396: FutureWarning: Criterion 'mse' was deprecated in v1.0 and will be removed in version 1.2. Use `criterion='squared_error'` which is equivalent.\n",
      "  warn(\n"
     ]
    },
    {
     "name": "stdout",
     "output_type": "stream",
     "text": [
      "[CV 4/5; 16/49] END max_depth=5, n_estimators=3;, score=-3991737.380 total time=   0.9s\n",
      "[CV 5/5; 16/49] START max_depth=5, n_estimators=3...............................\n"
     ]
    },
    {
     "name": "stderr",
     "output_type": "stream",
     "text": [
      "C:\\Users\\Admin\\anaconda3\\lib\\site-packages\\sklearn\\ensemble\\_forest.py:396: FutureWarning: Criterion 'mse' was deprecated in v1.0 and will be removed in version 1.2. Use `criterion='squared_error'` which is equivalent.\n",
      "  warn(\n"
     ]
    },
    {
     "name": "stdout",
     "output_type": "stream",
     "text": [
      "[CV 5/5; 16/49] END max_depth=5, n_estimators=3;, score=-4004973.603 total time=   0.8s\n",
      "[CV 1/5; 17/49] START max_depth=5, n_estimators=5...............................\n"
     ]
    },
    {
     "name": "stderr",
     "output_type": "stream",
     "text": [
      "C:\\Users\\Admin\\anaconda3\\lib\\site-packages\\sklearn\\ensemble\\_forest.py:396: FutureWarning: Criterion 'mse' was deprecated in v1.0 and will be removed in version 1.2. Use `criterion='squared_error'` which is equivalent.\n",
      "  warn(\n"
     ]
    },
    {
     "name": "stdout",
     "output_type": "stream",
     "text": [
      "[CV 1/5; 17/49] END max_depth=5, n_estimators=5;, score=-4057376.845 total time=   1.4s\n",
      "[CV 2/5; 17/49] START max_depth=5, n_estimators=5...............................\n"
     ]
    },
    {
     "name": "stderr",
     "output_type": "stream",
     "text": [
      "C:\\Users\\Admin\\anaconda3\\lib\\site-packages\\sklearn\\ensemble\\_forest.py:396: FutureWarning: Criterion 'mse' was deprecated in v1.0 and will be removed in version 1.2. Use `criterion='squared_error'` which is equivalent.\n",
      "  warn(\n"
     ]
    },
    {
     "name": "stdout",
     "output_type": "stream",
     "text": [
      "[CV 2/5; 17/49] END max_depth=5, n_estimators=5;, score=-3977661.062 total time=   1.4s\n",
      "[CV 3/5; 17/49] START max_depth=5, n_estimators=5...............................\n"
     ]
    },
    {
     "name": "stderr",
     "output_type": "stream",
     "text": [
      "C:\\Users\\Admin\\anaconda3\\lib\\site-packages\\sklearn\\ensemble\\_forest.py:396: FutureWarning: Criterion 'mse' was deprecated in v1.0 and will be removed in version 1.2. Use `criterion='squared_error'` which is equivalent.\n",
      "  warn(\n"
     ]
    },
    {
     "name": "stdout",
     "output_type": "stream",
     "text": [
      "[CV 3/5; 17/49] END max_depth=5, n_estimators=5;, score=-4031444.248 total time=   1.5s\n",
      "[CV 4/5; 17/49] START max_depth=5, n_estimators=5...............................\n"
     ]
    },
    {
     "name": "stderr",
     "output_type": "stream",
     "text": [
      "C:\\Users\\Admin\\anaconda3\\lib\\site-packages\\sklearn\\ensemble\\_forest.py:396: FutureWarning: Criterion 'mse' was deprecated in v1.0 and will be removed in version 1.2. Use `criterion='squared_error'` which is equivalent.\n",
      "  warn(\n"
     ]
    },
    {
     "name": "stdout",
     "output_type": "stream",
     "text": [
      "[CV 4/5; 17/49] END max_depth=5, n_estimators=5;, score=-3983706.737 total time=   1.4s\n",
      "[CV 5/5; 17/49] START max_depth=5, n_estimators=5...............................\n"
     ]
    },
    {
     "name": "stderr",
     "output_type": "stream",
     "text": [
      "C:\\Users\\Admin\\anaconda3\\lib\\site-packages\\sklearn\\ensemble\\_forest.py:396: FutureWarning: Criterion 'mse' was deprecated in v1.0 and will be removed in version 1.2. Use `criterion='squared_error'` which is equivalent.\n",
      "  warn(\n"
     ]
    },
    {
     "name": "stdout",
     "output_type": "stream",
     "text": [
      "[CV 5/5; 17/49] END max_depth=5, n_estimators=5;, score=-3966317.060 total time=   1.4s\n",
      "[CV 1/5; 18/49] START max_depth=5, n_estimators=7...............................\n"
     ]
    },
    {
     "name": "stderr",
     "output_type": "stream",
     "text": [
      "C:\\Users\\Admin\\anaconda3\\lib\\site-packages\\sklearn\\ensemble\\_forest.py:396: FutureWarning: Criterion 'mse' was deprecated in v1.0 and will be removed in version 1.2. Use `criterion='squared_error'` which is equivalent.\n",
      "  warn(\n"
     ]
    },
    {
     "name": "stdout",
     "output_type": "stream",
     "text": [
      "[CV 1/5; 18/49] END max_depth=5, n_estimators=7;, score=-4053100.578 total time=   2.0s\n",
      "[CV 2/5; 18/49] START max_depth=5, n_estimators=7...............................\n"
     ]
    },
    {
     "name": "stderr",
     "output_type": "stream",
     "text": [
      "C:\\Users\\Admin\\anaconda3\\lib\\site-packages\\sklearn\\ensemble\\_forest.py:396: FutureWarning: Criterion 'mse' was deprecated in v1.0 and will be removed in version 1.2. Use `criterion='squared_error'` which is equivalent.\n",
      "  warn(\n"
     ]
    },
    {
     "name": "stdout",
     "output_type": "stream",
     "text": [
      "[CV 2/5; 18/49] END max_depth=5, n_estimators=7;, score=-3974033.732 total time=   2.0s\n",
      "[CV 3/5; 18/49] START max_depth=5, n_estimators=7...............................\n"
     ]
    },
    {
     "name": "stderr",
     "output_type": "stream",
     "text": [
      "C:\\Users\\Admin\\anaconda3\\lib\\site-packages\\sklearn\\ensemble\\_forest.py:396: FutureWarning: Criterion 'mse' was deprecated in v1.0 and will be removed in version 1.2. Use `criterion='squared_error'` which is equivalent.\n",
      "  warn(\n"
     ]
    },
    {
     "name": "stdout",
     "output_type": "stream",
     "text": [
      "[CV 3/5; 18/49] END max_depth=5, n_estimators=7;, score=-4000329.453 total time=   2.0s\n",
      "[CV 4/5; 18/49] START max_depth=5, n_estimators=7...............................\n"
     ]
    },
    {
     "name": "stderr",
     "output_type": "stream",
     "text": [
      "C:\\Users\\Admin\\anaconda3\\lib\\site-packages\\sklearn\\ensemble\\_forest.py:396: FutureWarning: Criterion 'mse' was deprecated in v1.0 and will be removed in version 1.2. Use `criterion='squared_error'` which is equivalent.\n",
      "  warn(\n"
     ]
    },
    {
     "name": "stdout",
     "output_type": "stream",
     "text": [
      "[CV 4/5; 18/49] END max_depth=5, n_estimators=7;, score=-3975772.349 total time=   2.0s\n",
      "[CV 5/5; 18/49] START max_depth=5, n_estimators=7...............................\n"
     ]
    },
    {
     "name": "stderr",
     "output_type": "stream",
     "text": [
      "C:\\Users\\Admin\\anaconda3\\lib\\site-packages\\sklearn\\ensemble\\_forest.py:396: FutureWarning: Criterion 'mse' was deprecated in v1.0 and will be removed in version 1.2. Use `criterion='squared_error'` which is equivalent.\n",
      "  warn(\n"
     ]
    },
    {
     "name": "stdout",
     "output_type": "stream",
     "text": [
      "[CV 5/5; 18/49] END max_depth=5, n_estimators=7;, score=-3966423.016 total time=   2.0s\n",
      "[CV 1/5; 19/49] START max_depth=5, n_estimators=9...............................\n"
     ]
    },
    {
     "name": "stderr",
     "output_type": "stream",
     "text": [
      "C:\\Users\\Admin\\anaconda3\\lib\\site-packages\\sklearn\\ensemble\\_forest.py:396: FutureWarning: Criterion 'mse' was deprecated in v1.0 and will be removed in version 1.2. Use `criterion='squared_error'` which is equivalent.\n",
      "  warn(\n"
     ]
    },
    {
     "name": "stdout",
     "output_type": "stream",
     "text": [
      "[CV 1/5; 19/49] END max_depth=5, n_estimators=9;, score=-4051113.276 total time=   2.7s\n",
      "[CV 2/5; 19/49] START max_depth=5, n_estimators=9...............................\n"
     ]
    },
    {
     "name": "stderr",
     "output_type": "stream",
     "text": [
      "C:\\Users\\Admin\\anaconda3\\lib\\site-packages\\sklearn\\ensemble\\_forest.py:396: FutureWarning: Criterion 'mse' was deprecated in v1.0 and will be removed in version 1.2. Use `criterion='squared_error'` which is equivalent.\n",
      "  warn(\n"
     ]
    },
    {
     "name": "stdout",
     "output_type": "stream",
     "text": [
      "[CV 2/5; 19/49] END max_depth=5, n_estimators=9;, score=-3977056.693 total time=   2.6s\n",
      "[CV 3/5; 19/49] START max_depth=5, n_estimators=9...............................\n"
     ]
    },
    {
     "name": "stderr",
     "output_type": "stream",
     "text": [
      "C:\\Users\\Admin\\anaconda3\\lib\\site-packages\\sklearn\\ensemble\\_forest.py:396: FutureWarning: Criterion 'mse' was deprecated in v1.0 and will be removed in version 1.2. Use `criterion='squared_error'` which is equivalent.\n",
      "  warn(\n"
     ]
    },
    {
     "name": "stdout",
     "output_type": "stream",
     "text": [
      "[CV 3/5; 19/49] END max_depth=5, n_estimators=9;, score=-3997178.546 total time=   2.6s\n",
      "[CV 4/5; 19/49] START max_depth=5, n_estimators=9...............................\n"
     ]
    },
    {
     "name": "stderr",
     "output_type": "stream",
     "text": [
      "C:\\Users\\Admin\\anaconda3\\lib\\site-packages\\sklearn\\ensemble\\_forest.py:396: FutureWarning: Criterion 'mse' was deprecated in v1.0 and will be removed in version 1.2. Use `criterion='squared_error'` which is equivalent.\n",
      "  warn(\n"
     ]
    },
    {
     "name": "stdout",
     "output_type": "stream",
     "text": [
      "[CV 4/5; 19/49] END max_depth=5, n_estimators=9;, score=-3973139.727 total time=   2.6s\n",
      "[CV 5/5; 19/49] START max_depth=5, n_estimators=9...............................\n"
     ]
    },
    {
     "name": "stderr",
     "output_type": "stream",
     "text": [
      "C:\\Users\\Admin\\anaconda3\\lib\\site-packages\\sklearn\\ensemble\\_forest.py:396: FutureWarning: Criterion 'mse' was deprecated in v1.0 and will be removed in version 1.2. Use `criterion='squared_error'` which is equivalent.\n",
      "  warn(\n"
     ]
    },
    {
     "name": "stdout",
     "output_type": "stream",
     "text": [
      "[CV 5/5; 19/49] END max_depth=5, n_estimators=9;, score=-3974748.489 total time=   2.6s\n",
      "[CV 1/5; 20/49] START max_depth=5, n_estimators=11..............................\n"
     ]
    },
    {
     "name": "stderr",
     "output_type": "stream",
     "text": [
      "C:\\Users\\Admin\\anaconda3\\lib\\site-packages\\sklearn\\ensemble\\_forest.py:396: FutureWarning: Criterion 'mse' was deprecated in v1.0 and will be removed in version 1.2. Use `criterion='squared_error'` which is equivalent.\n",
      "  warn(\n"
     ]
    },
    {
     "name": "stdout",
     "output_type": "stream",
     "text": [
      "[CV 1/5; 20/49] END max_depth=5, n_estimators=11;, score=-4055096.037 total time=   3.2s\n",
      "[CV 2/5; 20/49] START max_depth=5, n_estimators=11..............................\n"
     ]
    },
    {
     "name": "stderr",
     "output_type": "stream",
     "text": [
      "C:\\Users\\Admin\\anaconda3\\lib\\site-packages\\sklearn\\ensemble\\_forest.py:396: FutureWarning: Criterion 'mse' was deprecated in v1.0 and will be removed in version 1.2. Use `criterion='squared_error'` which is equivalent.\n",
      "  warn(\n"
     ]
    },
    {
     "name": "stdout",
     "output_type": "stream",
     "text": [
      "[CV 2/5; 20/49] END max_depth=5, n_estimators=11;, score=-3965438.830 total time=   3.3s\n",
      "[CV 3/5; 20/49] START max_depth=5, n_estimators=11..............................\n"
     ]
    },
    {
     "name": "stderr",
     "output_type": "stream",
     "text": [
      "C:\\Users\\Admin\\anaconda3\\lib\\site-packages\\sklearn\\ensemble\\_forest.py:396: FutureWarning: Criterion 'mse' was deprecated in v1.0 and will be removed in version 1.2. Use `criterion='squared_error'` which is equivalent.\n",
      "  warn(\n"
     ]
    },
    {
     "name": "stdout",
     "output_type": "stream",
     "text": [
      "[CV 3/5; 20/49] END max_depth=5, n_estimators=11;, score=-3988082.151 total time=   3.3s\n",
      "[CV 4/5; 20/49] START max_depth=5, n_estimators=11..............................\n"
     ]
    },
    {
     "name": "stderr",
     "output_type": "stream",
     "text": [
      "C:\\Users\\Admin\\anaconda3\\lib\\site-packages\\sklearn\\ensemble\\_forest.py:396: FutureWarning: Criterion 'mse' was deprecated in v1.0 and will be removed in version 1.2. Use `criterion='squared_error'` which is equivalent.\n",
      "  warn(\n"
     ]
    },
    {
     "name": "stdout",
     "output_type": "stream",
     "text": [
      "[CV 4/5; 20/49] END max_depth=5, n_estimators=11;, score=-3971037.473 total time=   3.2s\n",
      "[CV 5/5; 20/49] START max_depth=5, n_estimators=11..............................\n"
     ]
    },
    {
     "name": "stderr",
     "output_type": "stream",
     "text": [
      "C:\\Users\\Admin\\anaconda3\\lib\\site-packages\\sklearn\\ensemble\\_forest.py:396: FutureWarning: Criterion 'mse' was deprecated in v1.0 and will be removed in version 1.2. Use `criterion='squared_error'` which is equivalent.\n",
      "  warn(\n"
     ]
    },
    {
     "name": "stdout",
     "output_type": "stream",
     "text": [
      "[CV 5/5; 20/49] END max_depth=5, n_estimators=11;, score=-3968541.797 total time=   3.2s\n",
      "[CV 1/5; 21/49] START max_depth=5, n_estimators=13..............................\n"
     ]
    },
    {
     "name": "stderr",
     "output_type": "stream",
     "text": [
      "C:\\Users\\Admin\\anaconda3\\lib\\site-packages\\sklearn\\ensemble\\_forest.py:396: FutureWarning: Criterion 'mse' was deprecated in v1.0 and will be removed in version 1.2. Use `criterion='squared_error'` which is equivalent.\n",
      "  warn(\n"
     ]
    },
    {
     "name": "stdout",
     "output_type": "stream",
     "text": [
      "[CV 1/5; 21/49] END max_depth=5, n_estimators=13;, score=-4050542.857 total time=   3.7s\n",
      "[CV 2/5; 21/49] START max_depth=5, n_estimators=13..............................\n"
     ]
    },
    {
     "name": "stderr",
     "output_type": "stream",
     "text": [
      "C:\\Users\\Admin\\anaconda3\\lib\\site-packages\\sklearn\\ensemble\\_forest.py:396: FutureWarning: Criterion 'mse' was deprecated in v1.0 and will be removed in version 1.2. Use `criterion='squared_error'` which is equivalent.\n",
      "  warn(\n"
     ]
    },
    {
     "name": "stdout",
     "output_type": "stream",
     "text": [
      "[CV 2/5; 21/49] END max_depth=5, n_estimators=13;, score=-3954272.999 total time=   3.8s\n",
      "[CV 3/5; 21/49] START max_depth=5, n_estimators=13..............................\n"
     ]
    },
    {
     "name": "stderr",
     "output_type": "stream",
     "text": [
      "C:\\Users\\Admin\\anaconda3\\lib\\site-packages\\sklearn\\ensemble\\_forest.py:396: FutureWarning: Criterion 'mse' was deprecated in v1.0 and will be removed in version 1.2. Use `criterion='squared_error'` which is equivalent.\n",
      "  warn(\n"
     ]
    },
    {
     "name": "stdout",
     "output_type": "stream",
     "text": [
      "[CV 3/5; 21/49] END max_depth=5, n_estimators=13;, score=-3984823.366 total time=   3.8s\n",
      "[CV 4/5; 21/49] START max_depth=5, n_estimators=13..............................\n"
     ]
    },
    {
     "name": "stderr",
     "output_type": "stream",
     "text": [
      "C:\\Users\\Admin\\anaconda3\\lib\\site-packages\\sklearn\\ensemble\\_forest.py:396: FutureWarning: Criterion 'mse' was deprecated in v1.0 and will be removed in version 1.2. Use `criterion='squared_error'` which is equivalent.\n",
      "  warn(\n"
     ]
    },
    {
     "name": "stdout",
     "output_type": "stream",
     "text": [
      "[CV 4/5; 21/49] END max_depth=5, n_estimators=13;, score=-3970533.768 total time=   5.0s\n",
      "[CV 5/5; 21/49] START max_depth=5, n_estimators=13..............................\n"
     ]
    },
    {
     "name": "stderr",
     "output_type": "stream",
     "text": [
      "C:\\Users\\Admin\\anaconda3\\lib\\site-packages\\sklearn\\ensemble\\_forest.py:396: FutureWarning: Criterion 'mse' was deprecated in v1.0 and will be removed in version 1.2. Use `criterion='squared_error'` which is equivalent.\n",
      "  warn(\n"
     ]
    },
    {
     "name": "stdout",
     "output_type": "stream",
     "text": [
      "[CV 5/5; 21/49] END max_depth=5, n_estimators=13;, score=-3966715.146 total time=   5.5s\n",
      "[CV 1/5; 22/49] START max_depth=7, n_estimators=1...............................\n"
     ]
    },
    {
     "name": "stderr",
     "output_type": "stream",
     "text": [
      "C:\\Users\\Admin\\anaconda3\\lib\\site-packages\\sklearn\\ensemble\\_forest.py:396: FutureWarning: Criterion 'mse' was deprecated in v1.0 and will be removed in version 1.2. Use `criterion='squared_error'` which is equivalent.\n",
      "  warn(\n"
     ]
    },
    {
     "name": "stdout",
     "output_type": "stream",
     "text": [
      "[CV 1/5; 22/49] END max_depth=7, n_estimators=1;, score=-3491861.725 total time=   0.5s\n",
      "[CV 2/5; 22/49] START max_depth=7, n_estimators=1...............................\n"
     ]
    },
    {
     "name": "stderr",
     "output_type": "stream",
     "text": [
      "C:\\Users\\Admin\\anaconda3\\lib\\site-packages\\sklearn\\ensemble\\_forest.py:396: FutureWarning: Criterion 'mse' was deprecated in v1.0 and will be removed in version 1.2. Use `criterion='squared_error'` which is equivalent.\n",
      "  warn(\n"
     ]
    },
    {
     "name": "stdout",
     "output_type": "stream",
     "text": [
      "[CV 2/5; 22/49] END max_depth=7, n_estimators=1;, score=-3458387.665 total time=   0.5s\n",
      "[CV 3/5; 22/49] START max_depth=7, n_estimators=1...............................\n"
     ]
    },
    {
     "name": "stderr",
     "output_type": "stream",
     "text": [
      "C:\\Users\\Admin\\anaconda3\\lib\\site-packages\\sklearn\\ensemble\\_forest.py:396: FutureWarning: Criterion 'mse' was deprecated in v1.0 and will be removed in version 1.2. Use `criterion='squared_error'` which is equivalent.\n",
      "  warn(\n"
     ]
    },
    {
     "name": "stdout",
     "output_type": "stream",
     "text": [
      "[CV 3/5; 22/49] END max_depth=7, n_estimators=1;, score=-3453991.548 total time=   0.4s\n",
      "[CV 4/5; 22/49] START max_depth=7, n_estimators=1...............................\n"
     ]
    },
    {
     "name": "stderr",
     "output_type": "stream",
     "text": [
      "C:\\Users\\Admin\\anaconda3\\lib\\site-packages\\sklearn\\ensemble\\_forest.py:396: FutureWarning: Criterion 'mse' was deprecated in v1.0 and will be removed in version 1.2. Use `criterion='squared_error'` which is equivalent.\n",
      "  warn(\n"
     ]
    },
    {
     "name": "stdout",
     "output_type": "stream",
     "text": [
      "[CV 4/5; 22/49] END max_depth=7, n_estimators=1;, score=-3434590.262 total time=   0.5s\n",
      "[CV 5/5; 22/49] START max_depth=7, n_estimators=1...............................\n"
     ]
    },
    {
     "name": "stderr",
     "output_type": "stream",
     "text": [
      "C:\\Users\\Admin\\anaconda3\\lib\\site-packages\\sklearn\\ensemble\\_forest.py:396: FutureWarning: Criterion 'mse' was deprecated in v1.0 and will be removed in version 1.2. Use `criterion='squared_error'` which is equivalent.\n",
      "  warn(\n"
     ]
    },
    {
     "name": "stdout",
     "output_type": "stream",
     "text": [
      "[CV 5/5; 22/49] END max_depth=7, n_estimators=1;, score=-3406148.210 total time=   0.4s\n",
      "[CV 1/5; 23/49] START max_depth=7, n_estimators=3...............................\n"
     ]
    },
    {
     "name": "stderr",
     "output_type": "stream",
     "text": [
      "C:\\Users\\Admin\\anaconda3\\lib\\site-packages\\sklearn\\ensemble\\_forest.py:396: FutureWarning: Criterion 'mse' was deprecated in v1.0 and will be removed in version 1.2. Use `criterion='squared_error'` which is equivalent.\n",
      "  warn(\n"
     ]
    },
    {
     "name": "stdout",
     "output_type": "stream",
     "text": [
      "[CV 1/5; 23/49] END max_depth=7, n_estimators=3;, score=-3391875.685 total time=   1.4s\n",
      "[CV 2/5; 23/49] START max_depth=7, n_estimators=3...............................\n"
     ]
    },
    {
     "name": "stderr",
     "output_type": "stream",
     "text": [
      "C:\\Users\\Admin\\anaconda3\\lib\\site-packages\\sklearn\\ensemble\\_forest.py:396: FutureWarning: Criterion 'mse' was deprecated in v1.0 and will be removed in version 1.2. Use `criterion='squared_error'` which is equivalent.\n",
      "  warn(\n"
     ]
    },
    {
     "name": "stdout",
     "output_type": "stream",
     "text": [
      "[CV 2/5; 23/49] END max_depth=7, n_estimators=3;, score=-3332562.502 total time=   1.3s\n",
      "[CV 3/5; 23/49] START max_depth=7, n_estimators=3...............................\n"
     ]
    },
    {
     "name": "stderr",
     "output_type": "stream",
     "text": [
      "C:\\Users\\Admin\\anaconda3\\lib\\site-packages\\sklearn\\ensemble\\_forest.py:396: FutureWarning: Criterion 'mse' was deprecated in v1.0 and will be removed in version 1.2. Use `criterion='squared_error'` which is equivalent.\n",
      "  warn(\n"
     ]
    },
    {
     "name": "stdout",
     "output_type": "stream",
     "text": [
      "[CV 3/5; 23/49] END max_depth=7, n_estimators=3;, score=-3328088.281 total time=   1.2s\n",
      "[CV 4/5; 23/49] START max_depth=7, n_estimators=3...............................\n"
     ]
    },
    {
     "name": "stderr",
     "output_type": "stream",
     "text": [
      "C:\\Users\\Admin\\anaconda3\\lib\\site-packages\\sklearn\\ensemble\\_forest.py:396: FutureWarning: Criterion 'mse' was deprecated in v1.0 and will be removed in version 1.2. Use `criterion='squared_error'` which is equivalent.\n",
      "  warn(\n"
     ]
    },
    {
     "name": "stdout",
     "output_type": "stream",
     "text": [
      "[CV 4/5; 23/49] END max_depth=7, n_estimators=3;, score=-3332802.692 total time=   1.1s\n",
      "[CV 5/5; 23/49] START max_depth=7, n_estimators=3...............................\n"
     ]
    },
    {
     "name": "stderr",
     "output_type": "stream",
     "text": [
      "C:\\Users\\Admin\\anaconda3\\lib\\site-packages\\sklearn\\ensemble\\_forest.py:396: FutureWarning: Criterion 'mse' was deprecated in v1.0 and will be removed in version 1.2. Use `criterion='squared_error'` which is equivalent.\n",
      "  warn(\n"
     ]
    },
    {
     "name": "stdout",
     "output_type": "stream",
     "text": [
      "[CV 5/5; 23/49] END max_depth=7, n_estimators=3;, score=-3319656.497 total time=   1.1s\n",
      "[CV 1/5; 24/49] START max_depth=7, n_estimators=5...............................\n"
     ]
    },
    {
     "name": "stderr",
     "output_type": "stream",
     "text": [
      "C:\\Users\\Admin\\anaconda3\\lib\\site-packages\\sklearn\\ensemble\\_forest.py:396: FutureWarning: Criterion 'mse' was deprecated in v1.0 and will be removed in version 1.2. Use `criterion='squared_error'` which is equivalent.\n",
      "  warn(\n"
     ]
    },
    {
     "name": "stdout",
     "output_type": "stream",
     "text": [
      "[CV 1/5; 24/49] END max_depth=7, n_estimators=5;, score=-3365412.715 total time=   3.1s\n",
      "[CV 2/5; 24/49] START max_depth=7, n_estimators=5...............................\n"
     ]
    },
    {
     "name": "stderr",
     "output_type": "stream",
     "text": [
      "C:\\Users\\Admin\\anaconda3\\lib\\site-packages\\sklearn\\ensemble\\_forest.py:396: FutureWarning: Criterion 'mse' was deprecated in v1.0 and will be removed in version 1.2. Use `criterion='squared_error'` which is equivalent.\n",
      "  warn(\n"
     ]
    },
    {
     "name": "stdout",
     "output_type": "stream",
     "text": [
      "[CV 2/5; 24/49] END max_depth=7, n_estimators=5;, score=-3309543.678 total time=   4.3s\n",
      "[CV 3/5; 24/49] START max_depth=7, n_estimators=5...............................\n"
     ]
    },
    {
     "name": "stderr",
     "output_type": "stream",
     "text": [
      "C:\\Users\\Admin\\anaconda3\\lib\\site-packages\\sklearn\\ensemble\\_forest.py:396: FutureWarning: Criterion 'mse' was deprecated in v1.0 and will be removed in version 1.2. Use `criterion='squared_error'` which is equivalent.\n",
      "  warn(\n"
     ]
    },
    {
     "name": "stdout",
     "output_type": "stream",
     "text": [
      "[CV 3/5; 24/49] END max_depth=7, n_estimators=5;, score=-3301629.881 total time=   2.1s\n",
      "[CV 4/5; 24/49] START max_depth=7, n_estimators=5...............................\n"
     ]
    },
    {
     "name": "stderr",
     "output_type": "stream",
     "text": [
      "C:\\Users\\Admin\\anaconda3\\lib\\site-packages\\sklearn\\ensemble\\_forest.py:396: FutureWarning: Criterion 'mse' was deprecated in v1.0 and will be removed in version 1.2. Use `criterion='squared_error'` which is equivalent.\n",
      "  warn(\n"
     ]
    },
    {
     "name": "stdout",
     "output_type": "stream",
     "text": [
      "[CV 4/5; 24/49] END max_depth=7, n_estimators=5;, score=-3291313.757 total time=   2.1s\n",
      "[CV 5/5; 24/49] START max_depth=7, n_estimators=5...............................\n"
     ]
    },
    {
     "name": "stderr",
     "output_type": "stream",
     "text": [
      "C:\\Users\\Admin\\anaconda3\\lib\\site-packages\\sklearn\\ensemble\\_forest.py:396: FutureWarning: Criterion 'mse' was deprecated in v1.0 and will be removed in version 1.2. Use `criterion='squared_error'` which is equivalent.\n",
      "  warn(\n"
     ]
    },
    {
     "name": "stdout",
     "output_type": "stream",
     "text": [
      "[CV 5/5; 24/49] END max_depth=7, n_estimators=5;, score=-3270224.127 total time=   1.9s\n",
      "[CV 1/5; 25/49] START max_depth=7, n_estimators=7...............................\n"
     ]
    },
    {
     "name": "stderr",
     "output_type": "stream",
     "text": [
      "C:\\Users\\Admin\\anaconda3\\lib\\site-packages\\sklearn\\ensemble\\_forest.py:396: FutureWarning: Criterion 'mse' was deprecated in v1.0 and will be removed in version 1.2. Use `criterion='squared_error'` which is equivalent.\n",
      "  warn(\n"
     ]
    },
    {
     "name": "stdout",
     "output_type": "stream",
     "text": [
      "[CV 1/5; 25/49] END max_depth=7, n_estimators=7;, score=-3354698.759 total time=   2.7s\n",
      "[CV 2/5; 25/49] START max_depth=7, n_estimators=7...............................\n"
     ]
    },
    {
     "name": "stderr",
     "output_type": "stream",
     "text": [
      "C:\\Users\\Admin\\anaconda3\\lib\\site-packages\\sklearn\\ensemble\\_forest.py:396: FutureWarning: Criterion 'mse' was deprecated in v1.0 and will be removed in version 1.2. Use `criterion='squared_error'` which is equivalent.\n",
      "  warn(\n"
     ]
    },
    {
     "name": "stdout",
     "output_type": "stream",
     "text": [
      "[CV 2/5; 25/49] END max_depth=7, n_estimators=7;, score=-3306833.853 total time=   2.7s\n",
      "[CV 3/5; 25/49] START max_depth=7, n_estimators=7...............................\n"
     ]
    },
    {
     "name": "stderr",
     "output_type": "stream",
     "text": [
      "C:\\Users\\Admin\\anaconda3\\lib\\site-packages\\sklearn\\ensemble\\_forest.py:396: FutureWarning: Criterion 'mse' was deprecated in v1.0 and will be removed in version 1.2. Use `criterion='squared_error'` which is equivalent.\n",
      "  warn(\n"
     ]
    },
    {
     "name": "stdout",
     "output_type": "stream",
     "text": [
      "[CV 3/5; 25/49] END max_depth=7, n_estimators=7;, score=-3281310.302 total time=   2.7s\n",
      "[CV 4/5; 25/49] START max_depth=7, n_estimators=7...............................\n"
     ]
    },
    {
     "name": "stderr",
     "output_type": "stream",
     "text": [
      "C:\\Users\\Admin\\anaconda3\\lib\\site-packages\\sklearn\\ensemble\\_forest.py:396: FutureWarning: Criterion 'mse' was deprecated in v1.0 and will be removed in version 1.2. Use `criterion='squared_error'` which is equivalent.\n",
      "  warn(\n"
     ]
    },
    {
     "name": "stdout",
     "output_type": "stream",
     "text": [
      "[CV 4/5; 25/49] END max_depth=7, n_estimators=7;, score=-3275139.843 total time=   3.0s\n",
      "[CV 5/5; 25/49] START max_depth=7, n_estimators=7...............................\n"
     ]
    },
    {
     "name": "stderr",
     "output_type": "stream",
     "text": [
      "C:\\Users\\Admin\\anaconda3\\lib\\site-packages\\sklearn\\ensemble\\_forest.py:396: FutureWarning: Criterion 'mse' was deprecated in v1.0 and will be removed in version 1.2. Use `criterion='squared_error'` which is equivalent.\n",
      "  warn(\n"
     ]
    },
    {
     "ename": "KeyboardInterrupt",
     "evalue": "",
     "output_type": "error",
     "traceback": [
      "\u001b[1;31m---------------------------------------------------------------------------\u001b[0m",
      "\u001b[1;31mKeyboardInterrupt\u001b[0m                         Traceback (most recent call last)",
      "File \u001b[1;32m<timed exec>:8\u001b[0m, in \u001b[0;36m<module>\u001b[1;34m\u001b[0m\n",
      "File \u001b[1;32m~\\anaconda3\\lib\\site-packages\\sklearn\\model_selection\\_search.py:891\u001b[0m, in \u001b[0;36mBaseSearchCV.fit\u001b[1;34m(self, X, y, groups, **fit_params)\u001b[0m\n\u001b[0;32m    885\u001b[0m     results \u001b[38;5;241m=\u001b[39m \u001b[38;5;28mself\u001b[39m\u001b[38;5;241m.\u001b[39m_format_results(\n\u001b[0;32m    886\u001b[0m         all_candidate_params, n_splits, all_out, all_more_results\n\u001b[0;32m    887\u001b[0m     )\n\u001b[0;32m    889\u001b[0m     \u001b[38;5;28;01mreturn\u001b[39;00m results\n\u001b[1;32m--> 891\u001b[0m \u001b[38;5;28;43mself\u001b[39;49m\u001b[38;5;241;43m.\u001b[39;49m\u001b[43m_run_search\u001b[49m\u001b[43m(\u001b[49m\u001b[43mevaluate_candidates\u001b[49m\u001b[43m)\u001b[49m\n\u001b[0;32m    893\u001b[0m \u001b[38;5;66;03m# multimetric is determined here because in the case of a callable\u001b[39;00m\n\u001b[0;32m    894\u001b[0m \u001b[38;5;66;03m# self.scoring the return type is only known after calling\u001b[39;00m\n\u001b[0;32m    895\u001b[0m first_test_score \u001b[38;5;241m=\u001b[39m all_out[\u001b[38;5;241m0\u001b[39m][\u001b[38;5;124m\"\u001b[39m\u001b[38;5;124mtest_scores\u001b[39m\u001b[38;5;124m\"\u001b[39m]\n",
      "File \u001b[1;32m~\\anaconda3\\lib\\site-packages\\sklearn\\model_selection\\_search.py:1392\u001b[0m, in \u001b[0;36mGridSearchCV._run_search\u001b[1;34m(self, evaluate_candidates)\u001b[0m\n\u001b[0;32m   1390\u001b[0m \u001b[38;5;28;01mdef\u001b[39;00m \u001b[38;5;21m_run_search\u001b[39m(\u001b[38;5;28mself\u001b[39m, evaluate_candidates):\n\u001b[0;32m   1391\u001b[0m     \u001b[38;5;124;03m\"\"\"Search all candidates in param_grid\"\"\"\u001b[39;00m\n\u001b[1;32m-> 1392\u001b[0m     \u001b[43mevaluate_candidates\u001b[49m\u001b[43m(\u001b[49m\u001b[43mParameterGrid\u001b[49m\u001b[43m(\u001b[49m\u001b[38;5;28;43mself\u001b[39;49m\u001b[38;5;241;43m.\u001b[39;49m\u001b[43mparam_grid\u001b[49m\u001b[43m)\u001b[49m\u001b[43m)\u001b[49m\n",
      "File \u001b[1;32m~\\anaconda3\\lib\\site-packages\\sklearn\\model_selection\\_search.py:838\u001b[0m, in \u001b[0;36mBaseSearchCV.fit.<locals>.evaluate_candidates\u001b[1;34m(candidate_params, cv, more_results)\u001b[0m\n\u001b[0;32m    830\u001b[0m \u001b[38;5;28;01mif\u001b[39;00m \u001b[38;5;28mself\u001b[39m\u001b[38;5;241m.\u001b[39mverbose \u001b[38;5;241m>\u001b[39m \u001b[38;5;241m0\u001b[39m:\n\u001b[0;32m    831\u001b[0m     \u001b[38;5;28mprint\u001b[39m(\n\u001b[0;32m    832\u001b[0m         \u001b[38;5;124m\"\u001b[39m\u001b[38;5;124mFitting \u001b[39m\u001b[38;5;132;01m{0}\u001b[39;00m\u001b[38;5;124m folds for each of \u001b[39m\u001b[38;5;132;01m{1}\u001b[39;00m\u001b[38;5;124m candidates,\u001b[39m\u001b[38;5;124m\"\u001b[39m\n\u001b[0;32m    833\u001b[0m         \u001b[38;5;124m\"\u001b[39m\u001b[38;5;124m totalling \u001b[39m\u001b[38;5;132;01m{2}\u001b[39;00m\u001b[38;5;124m fits\u001b[39m\u001b[38;5;124m\"\u001b[39m\u001b[38;5;241m.\u001b[39mformat(\n\u001b[0;32m    834\u001b[0m             n_splits, n_candidates, n_candidates \u001b[38;5;241m*\u001b[39m n_splits\n\u001b[0;32m    835\u001b[0m         )\n\u001b[0;32m    836\u001b[0m     )\n\u001b[1;32m--> 838\u001b[0m out \u001b[38;5;241m=\u001b[39m \u001b[43mparallel\u001b[49m\u001b[43m(\u001b[49m\n\u001b[0;32m    839\u001b[0m \u001b[43m    \u001b[49m\u001b[43mdelayed\u001b[49m\u001b[43m(\u001b[49m\u001b[43m_fit_and_score\u001b[49m\u001b[43m)\u001b[49m\u001b[43m(\u001b[49m\n\u001b[0;32m    840\u001b[0m \u001b[43m        \u001b[49m\u001b[43mclone\u001b[49m\u001b[43m(\u001b[49m\u001b[43mbase_estimator\u001b[49m\u001b[43m)\u001b[49m\u001b[43m,\u001b[49m\n\u001b[0;32m    841\u001b[0m \u001b[43m        \u001b[49m\u001b[43mX\u001b[49m\u001b[43m,\u001b[49m\n\u001b[0;32m    842\u001b[0m \u001b[43m        \u001b[49m\u001b[43my\u001b[49m\u001b[43m,\u001b[49m\n\u001b[0;32m    843\u001b[0m \u001b[43m        \u001b[49m\u001b[43mtrain\u001b[49m\u001b[38;5;241;43m=\u001b[39;49m\u001b[43mtrain\u001b[49m\u001b[43m,\u001b[49m\n\u001b[0;32m    844\u001b[0m \u001b[43m        \u001b[49m\u001b[43mtest\u001b[49m\u001b[38;5;241;43m=\u001b[39;49m\u001b[43mtest\u001b[49m\u001b[43m,\u001b[49m\n\u001b[0;32m    845\u001b[0m \u001b[43m        \u001b[49m\u001b[43mparameters\u001b[49m\u001b[38;5;241;43m=\u001b[39;49m\u001b[43mparameters\u001b[49m\u001b[43m,\u001b[49m\n\u001b[0;32m    846\u001b[0m \u001b[43m        \u001b[49m\u001b[43msplit_progress\u001b[49m\u001b[38;5;241;43m=\u001b[39;49m\u001b[43m(\u001b[49m\u001b[43msplit_idx\u001b[49m\u001b[43m,\u001b[49m\u001b[43m \u001b[49m\u001b[43mn_splits\u001b[49m\u001b[43m)\u001b[49m\u001b[43m,\u001b[49m\n\u001b[0;32m    847\u001b[0m \u001b[43m        \u001b[49m\u001b[43mcandidate_progress\u001b[49m\u001b[38;5;241;43m=\u001b[39;49m\u001b[43m(\u001b[49m\u001b[43mcand_idx\u001b[49m\u001b[43m,\u001b[49m\u001b[43m \u001b[49m\u001b[43mn_candidates\u001b[49m\u001b[43m)\u001b[49m\u001b[43m,\u001b[49m\n\u001b[0;32m    848\u001b[0m \u001b[43m        \u001b[49m\u001b[38;5;241;43m*\u001b[39;49m\u001b[38;5;241;43m*\u001b[39;49m\u001b[43mfit_and_score_kwargs\u001b[49m\u001b[43m,\u001b[49m\n\u001b[0;32m    849\u001b[0m \u001b[43m    \u001b[49m\u001b[43m)\u001b[49m\n\u001b[0;32m    850\u001b[0m \u001b[43m    \u001b[49m\u001b[38;5;28;43;01mfor\u001b[39;49;00m\u001b[43m \u001b[49m\u001b[43m(\u001b[49m\u001b[43mcand_idx\u001b[49m\u001b[43m,\u001b[49m\u001b[43m \u001b[49m\u001b[43mparameters\u001b[49m\u001b[43m)\u001b[49m\u001b[43m,\u001b[49m\u001b[43m \u001b[49m\u001b[43m(\u001b[49m\u001b[43msplit_idx\u001b[49m\u001b[43m,\u001b[49m\u001b[43m \u001b[49m\u001b[43m(\u001b[49m\u001b[43mtrain\u001b[49m\u001b[43m,\u001b[49m\u001b[43m \u001b[49m\u001b[43mtest\u001b[49m\u001b[43m)\u001b[49m\u001b[43m)\u001b[49m\u001b[43m \u001b[49m\u001b[38;5;129;43;01min\u001b[39;49;00m\u001b[43m \u001b[49m\u001b[43mproduct\u001b[49m\u001b[43m(\u001b[49m\n\u001b[0;32m    851\u001b[0m \u001b[43m        \u001b[49m\u001b[38;5;28;43menumerate\u001b[39;49m\u001b[43m(\u001b[49m\u001b[43mcandidate_params\u001b[49m\u001b[43m)\u001b[49m\u001b[43m,\u001b[49m\u001b[43m \u001b[49m\u001b[38;5;28;43menumerate\u001b[39;49m\u001b[43m(\u001b[49m\u001b[43mcv\u001b[49m\u001b[38;5;241;43m.\u001b[39;49m\u001b[43msplit\u001b[49m\u001b[43m(\u001b[49m\u001b[43mX\u001b[49m\u001b[43m,\u001b[49m\u001b[43m \u001b[49m\u001b[43my\u001b[49m\u001b[43m,\u001b[49m\u001b[43m \u001b[49m\u001b[43mgroups\u001b[49m\u001b[43m)\u001b[49m\u001b[43m)\u001b[49m\n\u001b[0;32m    852\u001b[0m \u001b[43m    \u001b[49m\u001b[43m)\u001b[49m\n\u001b[0;32m    853\u001b[0m \u001b[43m\u001b[49m\u001b[43m)\u001b[49m\n\u001b[0;32m    855\u001b[0m \u001b[38;5;28;01mif\u001b[39;00m \u001b[38;5;28mlen\u001b[39m(out) \u001b[38;5;241m<\u001b[39m \u001b[38;5;241m1\u001b[39m:\n\u001b[0;32m    856\u001b[0m     \u001b[38;5;28;01mraise\u001b[39;00m \u001b[38;5;167;01mValueError\u001b[39;00m(\n\u001b[0;32m    857\u001b[0m         \u001b[38;5;124m\"\u001b[39m\u001b[38;5;124mNo fits were performed. \u001b[39m\u001b[38;5;124m\"\u001b[39m\n\u001b[0;32m    858\u001b[0m         \u001b[38;5;124m\"\u001b[39m\u001b[38;5;124mWas the CV iterator empty? \u001b[39m\u001b[38;5;124m\"\u001b[39m\n\u001b[0;32m    859\u001b[0m         \u001b[38;5;124m\"\u001b[39m\u001b[38;5;124mWere there no candidates?\u001b[39m\u001b[38;5;124m\"\u001b[39m\n\u001b[0;32m    860\u001b[0m     )\n",
      "File \u001b[1;32m~\\anaconda3\\lib\\site-packages\\joblib\\parallel.py:1046\u001b[0m, in \u001b[0;36mParallel.__call__\u001b[1;34m(self, iterable)\u001b[0m\n\u001b[0;32m   1043\u001b[0m \u001b[38;5;28;01mif\u001b[39;00m \u001b[38;5;28mself\u001b[39m\u001b[38;5;241m.\u001b[39mdispatch_one_batch(iterator):\n\u001b[0;32m   1044\u001b[0m     \u001b[38;5;28mself\u001b[39m\u001b[38;5;241m.\u001b[39m_iterating \u001b[38;5;241m=\u001b[39m \u001b[38;5;28mself\u001b[39m\u001b[38;5;241m.\u001b[39m_original_iterator \u001b[38;5;129;01mis\u001b[39;00m \u001b[38;5;129;01mnot\u001b[39;00m \u001b[38;5;28;01mNone\u001b[39;00m\n\u001b[1;32m-> 1046\u001b[0m \u001b[38;5;28;01mwhile\u001b[39;00m \u001b[38;5;28;43mself\u001b[39;49m\u001b[38;5;241;43m.\u001b[39;49m\u001b[43mdispatch_one_batch\u001b[49m\u001b[43m(\u001b[49m\u001b[43miterator\u001b[49m\u001b[43m)\u001b[49m:\n\u001b[0;32m   1047\u001b[0m     \u001b[38;5;28;01mpass\u001b[39;00m\n\u001b[0;32m   1049\u001b[0m \u001b[38;5;28;01mif\u001b[39;00m pre_dispatch \u001b[38;5;241m==\u001b[39m \u001b[38;5;124m\"\u001b[39m\u001b[38;5;124mall\u001b[39m\u001b[38;5;124m\"\u001b[39m \u001b[38;5;129;01mor\u001b[39;00m n_jobs \u001b[38;5;241m==\u001b[39m \u001b[38;5;241m1\u001b[39m:\n\u001b[0;32m   1050\u001b[0m     \u001b[38;5;66;03m# The iterable was consumed all at once by the above for loop.\u001b[39;00m\n\u001b[0;32m   1051\u001b[0m     \u001b[38;5;66;03m# No need to wait for async callbacks to trigger to\u001b[39;00m\n\u001b[0;32m   1052\u001b[0m     \u001b[38;5;66;03m# consumption.\u001b[39;00m\n",
      "File \u001b[1;32m~\\anaconda3\\lib\\site-packages\\joblib\\parallel.py:861\u001b[0m, in \u001b[0;36mParallel.dispatch_one_batch\u001b[1;34m(self, iterator)\u001b[0m\n\u001b[0;32m    859\u001b[0m     \u001b[38;5;28;01mreturn\u001b[39;00m \u001b[38;5;28;01mFalse\u001b[39;00m\n\u001b[0;32m    860\u001b[0m \u001b[38;5;28;01melse\u001b[39;00m:\n\u001b[1;32m--> 861\u001b[0m     \u001b[38;5;28;43mself\u001b[39;49m\u001b[38;5;241;43m.\u001b[39;49m\u001b[43m_dispatch\u001b[49m\u001b[43m(\u001b[49m\u001b[43mtasks\u001b[49m\u001b[43m)\u001b[49m\n\u001b[0;32m    862\u001b[0m     \u001b[38;5;28;01mreturn\u001b[39;00m \u001b[38;5;28;01mTrue\u001b[39;00m\n",
      "File \u001b[1;32m~\\anaconda3\\lib\\site-packages\\joblib\\parallel.py:779\u001b[0m, in \u001b[0;36mParallel._dispatch\u001b[1;34m(self, batch)\u001b[0m\n\u001b[0;32m    777\u001b[0m \u001b[38;5;28;01mwith\u001b[39;00m \u001b[38;5;28mself\u001b[39m\u001b[38;5;241m.\u001b[39m_lock:\n\u001b[0;32m    778\u001b[0m     job_idx \u001b[38;5;241m=\u001b[39m \u001b[38;5;28mlen\u001b[39m(\u001b[38;5;28mself\u001b[39m\u001b[38;5;241m.\u001b[39m_jobs)\n\u001b[1;32m--> 779\u001b[0m     job \u001b[38;5;241m=\u001b[39m \u001b[38;5;28;43mself\u001b[39;49m\u001b[38;5;241;43m.\u001b[39;49m\u001b[43m_backend\u001b[49m\u001b[38;5;241;43m.\u001b[39;49m\u001b[43mapply_async\u001b[49m\u001b[43m(\u001b[49m\u001b[43mbatch\u001b[49m\u001b[43m,\u001b[49m\u001b[43m \u001b[49m\u001b[43mcallback\u001b[49m\u001b[38;5;241;43m=\u001b[39;49m\u001b[43mcb\u001b[49m\u001b[43m)\u001b[49m\n\u001b[0;32m    780\u001b[0m     \u001b[38;5;66;03m# A job can complete so quickly than its callback is\u001b[39;00m\n\u001b[0;32m    781\u001b[0m     \u001b[38;5;66;03m# called before we get here, causing self._jobs to\u001b[39;00m\n\u001b[0;32m    782\u001b[0m     \u001b[38;5;66;03m# grow. To ensure correct results ordering, .insert is\u001b[39;00m\n\u001b[0;32m    783\u001b[0m     \u001b[38;5;66;03m# used (rather than .append) in the following line\u001b[39;00m\n\u001b[0;32m    784\u001b[0m     \u001b[38;5;28mself\u001b[39m\u001b[38;5;241m.\u001b[39m_jobs\u001b[38;5;241m.\u001b[39minsert(job_idx, job)\n",
      "File \u001b[1;32m~\\anaconda3\\lib\\site-packages\\joblib\\_parallel_backends.py:208\u001b[0m, in \u001b[0;36mSequentialBackend.apply_async\u001b[1;34m(self, func, callback)\u001b[0m\n\u001b[0;32m    206\u001b[0m \u001b[38;5;28;01mdef\u001b[39;00m \u001b[38;5;21mapply_async\u001b[39m(\u001b[38;5;28mself\u001b[39m, func, callback\u001b[38;5;241m=\u001b[39m\u001b[38;5;28;01mNone\u001b[39;00m):\n\u001b[0;32m    207\u001b[0m     \u001b[38;5;124;03m\"\"\"Schedule a func to be run\"\"\"\u001b[39;00m\n\u001b[1;32m--> 208\u001b[0m     result \u001b[38;5;241m=\u001b[39m \u001b[43mImmediateResult\u001b[49m\u001b[43m(\u001b[49m\u001b[43mfunc\u001b[49m\u001b[43m)\u001b[49m\n\u001b[0;32m    209\u001b[0m     \u001b[38;5;28;01mif\u001b[39;00m callback:\n\u001b[0;32m    210\u001b[0m         callback(result)\n",
      "File \u001b[1;32m~\\anaconda3\\lib\\site-packages\\joblib\\_parallel_backends.py:572\u001b[0m, in \u001b[0;36mImmediateResult.__init__\u001b[1;34m(self, batch)\u001b[0m\n\u001b[0;32m    569\u001b[0m \u001b[38;5;28;01mdef\u001b[39;00m \u001b[38;5;21m__init__\u001b[39m(\u001b[38;5;28mself\u001b[39m, batch):\n\u001b[0;32m    570\u001b[0m     \u001b[38;5;66;03m# Don't delay the application, to avoid keeping the input\u001b[39;00m\n\u001b[0;32m    571\u001b[0m     \u001b[38;5;66;03m# arguments in memory\u001b[39;00m\n\u001b[1;32m--> 572\u001b[0m     \u001b[38;5;28mself\u001b[39m\u001b[38;5;241m.\u001b[39mresults \u001b[38;5;241m=\u001b[39m \u001b[43mbatch\u001b[49m\u001b[43m(\u001b[49m\u001b[43m)\u001b[49m\n",
      "File \u001b[1;32m~\\anaconda3\\lib\\site-packages\\joblib\\parallel.py:262\u001b[0m, in \u001b[0;36mBatchedCalls.__call__\u001b[1;34m(self)\u001b[0m\n\u001b[0;32m    258\u001b[0m \u001b[38;5;28;01mdef\u001b[39;00m \u001b[38;5;21m__call__\u001b[39m(\u001b[38;5;28mself\u001b[39m):\n\u001b[0;32m    259\u001b[0m     \u001b[38;5;66;03m# Set the default nested backend to self._backend but do not set the\u001b[39;00m\n\u001b[0;32m    260\u001b[0m     \u001b[38;5;66;03m# change the default number of processes to -1\u001b[39;00m\n\u001b[0;32m    261\u001b[0m     \u001b[38;5;28;01mwith\u001b[39;00m parallel_backend(\u001b[38;5;28mself\u001b[39m\u001b[38;5;241m.\u001b[39m_backend, n_jobs\u001b[38;5;241m=\u001b[39m\u001b[38;5;28mself\u001b[39m\u001b[38;5;241m.\u001b[39m_n_jobs):\n\u001b[1;32m--> 262\u001b[0m         \u001b[38;5;28;01mreturn\u001b[39;00m [func(\u001b[38;5;241m*\u001b[39margs, \u001b[38;5;241m*\u001b[39m\u001b[38;5;241m*\u001b[39mkwargs)\n\u001b[0;32m    263\u001b[0m                 \u001b[38;5;28;01mfor\u001b[39;00m func, args, kwargs \u001b[38;5;129;01min\u001b[39;00m \u001b[38;5;28mself\u001b[39m\u001b[38;5;241m.\u001b[39mitems]\n",
      "File \u001b[1;32m~\\anaconda3\\lib\\site-packages\\joblib\\parallel.py:262\u001b[0m, in \u001b[0;36m<listcomp>\u001b[1;34m(.0)\u001b[0m\n\u001b[0;32m    258\u001b[0m \u001b[38;5;28;01mdef\u001b[39;00m \u001b[38;5;21m__call__\u001b[39m(\u001b[38;5;28mself\u001b[39m):\n\u001b[0;32m    259\u001b[0m     \u001b[38;5;66;03m# Set the default nested backend to self._backend but do not set the\u001b[39;00m\n\u001b[0;32m    260\u001b[0m     \u001b[38;5;66;03m# change the default number of processes to -1\u001b[39;00m\n\u001b[0;32m    261\u001b[0m     \u001b[38;5;28;01mwith\u001b[39;00m parallel_backend(\u001b[38;5;28mself\u001b[39m\u001b[38;5;241m.\u001b[39m_backend, n_jobs\u001b[38;5;241m=\u001b[39m\u001b[38;5;28mself\u001b[39m\u001b[38;5;241m.\u001b[39m_n_jobs):\n\u001b[1;32m--> 262\u001b[0m         \u001b[38;5;28;01mreturn\u001b[39;00m [func(\u001b[38;5;241m*\u001b[39margs, \u001b[38;5;241m*\u001b[39m\u001b[38;5;241m*\u001b[39mkwargs)\n\u001b[0;32m    263\u001b[0m                 \u001b[38;5;28;01mfor\u001b[39;00m func, args, kwargs \u001b[38;5;129;01min\u001b[39;00m \u001b[38;5;28mself\u001b[39m\u001b[38;5;241m.\u001b[39mitems]\n",
      "File \u001b[1;32m~\\anaconda3\\lib\\site-packages\\sklearn\\utils\\fixes.py:216\u001b[0m, in \u001b[0;36m_FuncWrapper.__call__\u001b[1;34m(self, *args, **kwargs)\u001b[0m\n\u001b[0;32m    214\u001b[0m \u001b[38;5;28;01mdef\u001b[39;00m \u001b[38;5;21m__call__\u001b[39m(\u001b[38;5;28mself\u001b[39m, \u001b[38;5;241m*\u001b[39margs, \u001b[38;5;241m*\u001b[39m\u001b[38;5;241m*\u001b[39mkwargs):\n\u001b[0;32m    215\u001b[0m     \u001b[38;5;28;01mwith\u001b[39;00m config_context(\u001b[38;5;241m*\u001b[39m\u001b[38;5;241m*\u001b[39m\u001b[38;5;28mself\u001b[39m\u001b[38;5;241m.\u001b[39mconfig):\n\u001b[1;32m--> 216\u001b[0m         \u001b[38;5;28;01mreturn\u001b[39;00m \u001b[38;5;28mself\u001b[39m\u001b[38;5;241m.\u001b[39mfunction(\u001b[38;5;241m*\u001b[39margs, \u001b[38;5;241m*\u001b[39m\u001b[38;5;241m*\u001b[39mkwargs)\n",
      "File \u001b[1;32m~\\anaconda3\\lib\\site-packages\\sklearn\\model_selection\\_validation.py:680\u001b[0m, in \u001b[0;36m_fit_and_score\u001b[1;34m(estimator, X, y, scorer, train, test, verbose, parameters, fit_params, return_train_score, return_parameters, return_n_test_samples, return_times, return_estimator, split_progress, candidate_progress, error_score)\u001b[0m\n\u001b[0;32m    678\u001b[0m         estimator\u001b[38;5;241m.\u001b[39mfit(X_train, \u001b[38;5;241m*\u001b[39m\u001b[38;5;241m*\u001b[39mfit_params)\n\u001b[0;32m    679\u001b[0m     \u001b[38;5;28;01melse\u001b[39;00m:\n\u001b[1;32m--> 680\u001b[0m         estimator\u001b[38;5;241m.\u001b[39mfit(X_train, y_train, \u001b[38;5;241m*\u001b[39m\u001b[38;5;241m*\u001b[39mfit_params)\n\u001b[0;32m    682\u001b[0m \u001b[38;5;28;01mexcept\u001b[39;00m \u001b[38;5;167;01mException\u001b[39;00m:\n\u001b[0;32m    683\u001b[0m     \u001b[38;5;66;03m# Note fit time as time until error\u001b[39;00m\n\u001b[0;32m    684\u001b[0m     fit_time \u001b[38;5;241m=\u001b[39m time\u001b[38;5;241m.\u001b[39mtime() \u001b[38;5;241m-\u001b[39m start_time\n",
      "File \u001b[1;32m~\\anaconda3\\lib\\site-packages\\sklearn\\ensemble\\_forest.py:450\u001b[0m, in \u001b[0;36mBaseForest.fit\u001b[1;34m(self, X, y, sample_weight)\u001b[0m\n\u001b[0;32m    439\u001b[0m trees \u001b[38;5;241m=\u001b[39m [\n\u001b[0;32m    440\u001b[0m     \u001b[38;5;28mself\u001b[39m\u001b[38;5;241m.\u001b[39m_make_estimator(append\u001b[38;5;241m=\u001b[39m\u001b[38;5;28;01mFalse\u001b[39;00m, random_state\u001b[38;5;241m=\u001b[39mrandom_state)\n\u001b[0;32m    441\u001b[0m     \u001b[38;5;28;01mfor\u001b[39;00m i \u001b[38;5;129;01min\u001b[39;00m \u001b[38;5;28mrange\u001b[39m(n_more_estimators)\n\u001b[0;32m    442\u001b[0m ]\n\u001b[0;32m    444\u001b[0m \u001b[38;5;66;03m# Parallel loop: we prefer the threading backend as the Cython code\u001b[39;00m\n\u001b[0;32m    445\u001b[0m \u001b[38;5;66;03m# for fitting the trees is internally releasing the Python GIL\u001b[39;00m\n\u001b[0;32m    446\u001b[0m \u001b[38;5;66;03m# making threading more efficient than multiprocessing in\u001b[39;00m\n\u001b[0;32m    447\u001b[0m \u001b[38;5;66;03m# that case. However, for joblib 0.12+ we respect any\u001b[39;00m\n\u001b[0;32m    448\u001b[0m \u001b[38;5;66;03m# parallel_backend contexts set at a higher level,\u001b[39;00m\n\u001b[0;32m    449\u001b[0m \u001b[38;5;66;03m# since correctness does not rely on using threads.\u001b[39;00m\n\u001b[1;32m--> 450\u001b[0m trees \u001b[38;5;241m=\u001b[39m \u001b[43mParallel\u001b[49m\u001b[43m(\u001b[49m\n\u001b[0;32m    451\u001b[0m \u001b[43m    \u001b[49m\u001b[43mn_jobs\u001b[49m\u001b[38;5;241;43m=\u001b[39;49m\u001b[38;5;28;43mself\u001b[39;49m\u001b[38;5;241;43m.\u001b[39;49m\u001b[43mn_jobs\u001b[49m\u001b[43m,\u001b[49m\n\u001b[0;32m    452\u001b[0m \u001b[43m    \u001b[49m\u001b[43mverbose\u001b[49m\u001b[38;5;241;43m=\u001b[39;49m\u001b[38;5;28;43mself\u001b[39;49m\u001b[38;5;241;43m.\u001b[39;49m\u001b[43mverbose\u001b[49m\u001b[43m,\u001b[49m\n\u001b[0;32m    453\u001b[0m \u001b[43m    \u001b[49m\u001b[38;5;241;43m*\u001b[39;49m\u001b[38;5;241;43m*\u001b[39;49m\u001b[43m_joblib_parallel_args\u001b[49m\u001b[43m(\u001b[49m\u001b[43mprefer\u001b[49m\u001b[38;5;241;43m=\u001b[39;49m\u001b[38;5;124;43m\"\u001b[39;49m\u001b[38;5;124;43mthreads\u001b[39;49m\u001b[38;5;124;43m\"\u001b[39;49m\u001b[43m)\u001b[49m\u001b[43m,\u001b[49m\n\u001b[0;32m    454\u001b[0m \u001b[43m\u001b[49m\u001b[43m)\u001b[49m\u001b[43m(\u001b[49m\n\u001b[0;32m    455\u001b[0m \u001b[43m    \u001b[49m\u001b[43mdelayed\u001b[49m\u001b[43m(\u001b[49m\u001b[43m_parallel_build_trees\u001b[49m\u001b[43m)\u001b[49m\u001b[43m(\u001b[49m\n\u001b[0;32m    456\u001b[0m \u001b[43m        \u001b[49m\u001b[43mt\u001b[49m\u001b[43m,\u001b[49m\n\u001b[0;32m    457\u001b[0m \u001b[43m        \u001b[49m\u001b[38;5;28;43mself\u001b[39;49m\u001b[43m,\u001b[49m\n\u001b[0;32m    458\u001b[0m \u001b[43m        \u001b[49m\u001b[43mX\u001b[49m\u001b[43m,\u001b[49m\n\u001b[0;32m    459\u001b[0m \u001b[43m        \u001b[49m\u001b[43my\u001b[49m\u001b[43m,\u001b[49m\n\u001b[0;32m    460\u001b[0m \u001b[43m        \u001b[49m\u001b[43msample_weight\u001b[49m\u001b[43m,\u001b[49m\n\u001b[0;32m    461\u001b[0m \u001b[43m        \u001b[49m\u001b[43mi\u001b[49m\u001b[43m,\u001b[49m\n\u001b[0;32m    462\u001b[0m \u001b[43m        \u001b[49m\u001b[38;5;28;43mlen\u001b[39;49m\u001b[43m(\u001b[49m\u001b[43mtrees\u001b[49m\u001b[43m)\u001b[49m\u001b[43m,\u001b[49m\n\u001b[0;32m    463\u001b[0m \u001b[43m        \u001b[49m\u001b[43mverbose\u001b[49m\u001b[38;5;241;43m=\u001b[39;49m\u001b[38;5;28;43mself\u001b[39;49m\u001b[38;5;241;43m.\u001b[39;49m\u001b[43mverbose\u001b[49m\u001b[43m,\u001b[49m\n\u001b[0;32m    464\u001b[0m \u001b[43m        \u001b[49m\u001b[43mclass_weight\u001b[49m\u001b[38;5;241;43m=\u001b[39;49m\u001b[38;5;28;43mself\u001b[39;49m\u001b[38;5;241;43m.\u001b[39;49m\u001b[43mclass_weight\u001b[49m\u001b[43m,\u001b[49m\n\u001b[0;32m    465\u001b[0m \u001b[43m        \u001b[49m\u001b[43mn_samples_bootstrap\u001b[49m\u001b[38;5;241;43m=\u001b[39;49m\u001b[43mn_samples_bootstrap\u001b[49m\u001b[43m,\u001b[49m\n\u001b[0;32m    466\u001b[0m \u001b[43m    \u001b[49m\u001b[43m)\u001b[49m\n\u001b[0;32m    467\u001b[0m \u001b[43m    \u001b[49m\u001b[38;5;28;43;01mfor\u001b[39;49;00m\u001b[43m \u001b[49m\u001b[43mi\u001b[49m\u001b[43m,\u001b[49m\u001b[43m \u001b[49m\u001b[43mt\u001b[49m\u001b[43m \u001b[49m\u001b[38;5;129;43;01min\u001b[39;49;00m\u001b[43m \u001b[49m\u001b[38;5;28;43menumerate\u001b[39;49m\u001b[43m(\u001b[49m\u001b[43mtrees\u001b[49m\u001b[43m)\u001b[49m\n\u001b[0;32m    468\u001b[0m \u001b[43m\u001b[49m\u001b[43m)\u001b[49m\n\u001b[0;32m    470\u001b[0m \u001b[38;5;66;03m# Collect newly grown trees\u001b[39;00m\n\u001b[0;32m    471\u001b[0m \u001b[38;5;28mself\u001b[39m\u001b[38;5;241m.\u001b[39mestimators_\u001b[38;5;241m.\u001b[39mextend(trees)\n",
      "File \u001b[1;32m~\\anaconda3\\lib\\site-packages\\joblib\\parallel.py:1046\u001b[0m, in \u001b[0;36mParallel.__call__\u001b[1;34m(self, iterable)\u001b[0m\n\u001b[0;32m   1043\u001b[0m \u001b[38;5;28;01mif\u001b[39;00m \u001b[38;5;28mself\u001b[39m\u001b[38;5;241m.\u001b[39mdispatch_one_batch(iterator):\n\u001b[0;32m   1044\u001b[0m     \u001b[38;5;28mself\u001b[39m\u001b[38;5;241m.\u001b[39m_iterating \u001b[38;5;241m=\u001b[39m \u001b[38;5;28mself\u001b[39m\u001b[38;5;241m.\u001b[39m_original_iterator \u001b[38;5;129;01mis\u001b[39;00m \u001b[38;5;129;01mnot\u001b[39;00m \u001b[38;5;28;01mNone\u001b[39;00m\n\u001b[1;32m-> 1046\u001b[0m \u001b[38;5;28;01mwhile\u001b[39;00m \u001b[38;5;28;43mself\u001b[39;49m\u001b[38;5;241;43m.\u001b[39;49m\u001b[43mdispatch_one_batch\u001b[49m\u001b[43m(\u001b[49m\u001b[43miterator\u001b[49m\u001b[43m)\u001b[49m:\n\u001b[0;32m   1047\u001b[0m     \u001b[38;5;28;01mpass\u001b[39;00m\n\u001b[0;32m   1049\u001b[0m \u001b[38;5;28;01mif\u001b[39;00m pre_dispatch \u001b[38;5;241m==\u001b[39m \u001b[38;5;124m\"\u001b[39m\u001b[38;5;124mall\u001b[39m\u001b[38;5;124m\"\u001b[39m \u001b[38;5;129;01mor\u001b[39;00m n_jobs \u001b[38;5;241m==\u001b[39m \u001b[38;5;241m1\u001b[39m:\n\u001b[0;32m   1050\u001b[0m     \u001b[38;5;66;03m# The iterable was consumed all at once by the above for loop.\u001b[39;00m\n\u001b[0;32m   1051\u001b[0m     \u001b[38;5;66;03m# No need to wait for async callbacks to trigger to\u001b[39;00m\n\u001b[0;32m   1052\u001b[0m     \u001b[38;5;66;03m# consumption.\u001b[39;00m\n",
      "File \u001b[1;32m~\\anaconda3\\lib\\site-packages\\joblib\\parallel.py:861\u001b[0m, in \u001b[0;36mParallel.dispatch_one_batch\u001b[1;34m(self, iterator)\u001b[0m\n\u001b[0;32m    859\u001b[0m     \u001b[38;5;28;01mreturn\u001b[39;00m \u001b[38;5;28;01mFalse\u001b[39;00m\n\u001b[0;32m    860\u001b[0m \u001b[38;5;28;01melse\u001b[39;00m:\n\u001b[1;32m--> 861\u001b[0m     \u001b[38;5;28;43mself\u001b[39;49m\u001b[38;5;241;43m.\u001b[39;49m\u001b[43m_dispatch\u001b[49m\u001b[43m(\u001b[49m\u001b[43mtasks\u001b[49m\u001b[43m)\u001b[49m\n\u001b[0;32m    862\u001b[0m     \u001b[38;5;28;01mreturn\u001b[39;00m \u001b[38;5;28;01mTrue\u001b[39;00m\n",
      "File \u001b[1;32m~\\anaconda3\\lib\\site-packages\\joblib\\parallel.py:779\u001b[0m, in \u001b[0;36mParallel._dispatch\u001b[1;34m(self, batch)\u001b[0m\n\u001b[0;32m    777\u001b[0m \u001b[38;5;28;01mwith\u001b[39;00m \u001b[38;5;28mself\u001b[39m\u001b[38;5;241m.\u001b[39m_lock:\n\u001b[0;32m    778\u001b[0m     job_idx \u001b[38;5;241m=\u001b[39m \u001b[38;5;28mlen\u001b[39m(\u001b[38;5;28mself\u001b[39m\u001b[38;5;241m.\u001b[39m_jobs)\n\u001b[1;32m--> 779\u001b[0m     job \u001b[38;5;241m=\u001b[39m \u001b[38;5;28;43mself\u001b[39;49m\u001b[38;5;241;43m.\u001b[39;49m\u001b[43m_backend\u001b[49m\u001b[38;5;241;43m.\u001b[39;49m\u001b[43mapply_async\u001b[49m\u001b[43m(\u001b[49m\u001b[43mbatch\u001b[49m\u001b[43m,\u001b[49m\u001b[43m \u001b[49m\u001b[43mcallback\u001b[49m\u001b[38;5;241;43m=\u001b[39;49m\u001b[43mcb\u001b[49m\u001b[43m)\u001b[49m\n\u001b[0;32m    780\u001b[0m     \u001b[38;5;66;03m# A job can complete so quickly than its callback is\u001b[39;00m\n\u001b[0;32m    781\u001b[0m     \u001b[38;5;66;03m# called before we get here, causing self._jobs to\u001b[39;00m\n\u001b[0;32m    782\u001b[0m     \u001b[38;5;66;03m# grow. To ensure correct results ordering, .insert is\u001b[39;00m\n\u001b[0;32m    783\u001b[0m     \u001b[38;5;66;03m# used (rather than .append) in the following line\u001b[39;00m\n\u001b[0;32m    784\u001b[0m     \u001b[38;5;28mself\u001b[39m\u001b[38;5;241m.\u001b[39m_jobs\u001b[38;5;241m.\u001b[39minsert(job_idx, job)\n",
      "File \u001b[1;32m~\\anaconda3\\lib\\site-packages\\joblib\\_parallel_backends.py:208\u001b[0m, in \u001b[0;36mSequentialBackend.apply_async\u001b[1;34m(self, func, callback)\u001b[0m\n\u001b[0;32m    206\u001b[0m \u001b[38;5;28;01mdef\u001b[39;00m \u001b[38;5;21mapply_async\u001b[39m(\u001b[38;5;28mself\u001b[39m, func, callback\u001b[38;5;241m=\u001b[39m\u001b[38;5;28;01mNone\u001b[39;00m):\n\u001b[0;32m    207\u001b[0m     \u001b[38;5;124;03m\"\"\"Schedule a func to be run\"\"\"\u001b[39;00m\n\u001b[1;32m--> 208\u001b[0m     result \u001b[38;5;241m=\u001b[39m \u001b[43mImmediateResult\u001b[49m\u001b[43m(\u001b[49m\u001b[43mfunc\u001b[49m\u001b[43m)\u001b[49m\n\u001b[0;32m    209\u001b[0m     \u001b[38;5;28;01mif\u001b[39;00m callback:\n\u001b[0;32m    210\u001b[0m         callback(result)\n",
      "File \u001b[1;32m~\\anaconda3\\lib\\site-packages\\joblib\\_parallel_backends.py:572\u001b[0m, in \u001b[0;36mImmediateResult.__init__\u001b[1;34m(self, batch)\u001b[0m\n\u001b[0;32m    569\u001b[0m \u001b[38;5;28;01mdef\u001b[39;00m \u001b[38;5;21m__init__\u001b[39m(\u001b[38;5;28mself\u001b[39m, batch):\n\u001b[0;32m    570\u001b[0m     \u001b[38;5;66;03m# Don't delay the application, to avoid keeping the input\u001b[39;00m\n\u001b[0;32m    571\u001b[0m     \u001b[38;5;66;03m# arguments in memory\u001b[39;00m\n\u001b[1;32m--> 572\u001b[0m     \u001b[38;5;28mself\u001b[39m\u001b[38;5;241m.\u001b[39mresults \u001b[38;5;241m=\u001b[39m \u001b[43mbatch\u001b[49m\u001b[43m(\u001b[49m\u001b[43m)\u001b[49m\n",
      "File \u001b[1;32m~\\anaconda3\\lib\\site-packages\\joblib\\parallel.py:262\u001b[0m, in \u001b[0;36mBatchedCalls.__call__\u001b[1;34m(self)\u001b[0m\n\u001b[0;32m    258\u001b[0m \u001b[38;5;28;01mdef\u001b[39;00m \u001b[38;5;21m__call__\u001b[39m(\u001b[38;5;28mself\u001b[39m):\n\u001b[0;32m    259\u001b[0m     \u001b[38;5;66;03m# Set the default nested backend to self._backend but do not set the\u001b[39;00m\n\u001b[0;32m    260\u001b[0m     \u001b[38;5;66;03m# change the default number of processes to -1\u001b[39;00m\n\u001b[0;32m    261\u001b[0m     \u001b[38;5;28;01mwith\u001b[39;00m parallel_backend(\u001b[38;5;28mself\u001b[39m\u001b[38;5;241m.\u001b[39m_backend, n_jobs\u001b[38;5;241m=\u001b[39m\u001b[38;5;28mself\u001b[39m\u001b[38;5;241m.\u001b[39m_n_jobs):\n\u001b[1;32m--> 262\u001b[0m         \u001b[38;5;28;01mreturn\u001b[39;00m [func(\u001b[38;5;241m*\u001b[39margs, \u001b[38;5;241m*\u001b[39m\u001b[38;5;241m*\u001b[39mkwargs)\n\u001b[0;32m    263\u001b[0m                 \u001b[38;5;28;01mfor\u001b[39;00m func, args, kwargs \u001b[38;5;129;01min\u001b[39;00m \u001b[38;5;28mself\u001b[39m\u001b[38;5;241m.\u001b[39mitems]\n",
      "File \u001b[1;32m~\\anaconda3\\lib\\site-packages\\joblib\\parallel.py:262\u001b[0m, in \u001b[0;36m<listcomp>\u001b[1;34m(.0)\u001b[0m\n\u001b[0;32m    258\u001b[0m \u001b[38;5;28;01mdef\u001b[39;00m \u001b[38;5;21m__call__\u001b[39m(\u001b[38;5;28mself\u001b[39m):\n\u001b[0;32m    259\u001b[0m     \u001b[38;5;66;03m# Set the default nested backend to self._backend but do not set the\u001b[39;00m\n\u001b[0;32m    260\u001b[0m     \u001b[38;5;66;03m# change the default number of processes to -1\u001b[39;00m\n\u001b[0;32m    261\u001b[0m     \u001b[38;5;28;01mwith\u001b[39;00m parallel_backend(\u001b[38;5;28mself\u001b[39m\u001b[38;5;241m.\u001b[39m_backend, n_jobs\u001b[38;5;241m=\u001b[39m\u001b[38;5;28mself\u001b[39m\u001b[38;5;241m.\u001b[39m_n_jobs):\n\u001b[1;32m--> 262\u001b[0m         \u001b[38;5;28;01mreturn\u001b[39;00m [func(\u001b[38;5;241m*\u001b[39margs, \u001b[38;5;241m*\u001b[39m\u001b[38;5;241m*\u001b[39mkwargs)\n\u001b[0;32m    263\u001b[0m                 \u001b[38;5;28;01mfor\u001b[39;00m func, args, kwargs \u001b[38;5;129;01min\u001b[39;00m \u001b[38;5;28mself\u001b[39m\u001b[38;5;241m.\u001b[39mitems]\n",
      "File \u001b[1;32m~\\anaconda3\\lib\\site-packages\\sklearn\\utils\\fixes.py:216\u001b[0m, in \u001b[0;36m_FuncWrapper.__call__\u001b[1;34m(self, *args, **kwargs)\u001b[0m\n\u001b[0;32m    214\u001b[0m \u001b[38;5;28;01mdef\u001b[39;00m \u001b[38;5;21m__call__\u001b[39m(\u001b[38;5;28mself\u001b[39m, \u001b[38;5;241m*\u001b[39margs, \u001b[38;5;241m*\u001b[39m\u001b[38;5;241m*\u001b[39mkwargs):\n\u001b[0;32m    215\u001b[0m     \u001b[38;5;28;01mwith\u001b[39;00m config_context(\u001b[38;5;241m*\u001b[39m\u001b[38;5;241m*\u001b[39m\u001b[38;5;28mself\u001b[39m\u001b[38;5;241m.\u001b[39mconfig):\n\u001b[1;32m--> 216\u001b[0m         \u001b[38;5;28;01mreturn\u001b[39;00m \u001b[38;5;28mself\u001b[39m\u001b[38;5;241m.\u001b[39mfunction(\u001b[38;5;241m*\u001b[39margs, \u001b[38;5;241m*\u001b[39m\u001b[38;5;241m*\u001b[39mkwargs)\n",
      "File \u001b[1;32m~\\anaconda3\\lib\\site-packages\\sklearn\\ensemble\\_forest.py:185\u001b[0m, in \u001b[0;36m_parallel_build_trees\u001b[1;34m(tree, forest, X, y, sample_weight, tree_idx, n_trees, verbose, class_weight, n_samples_bootstrap)\u001b[0m\n\u001b[0;32m    182\u001b[0m     \u001b[38;5;28;01melif\u001b[39;00m class_weight \u001b[38;5;241m==\u001b[39m \u001b[38;5;124m\"\u001b[39m\u001b[38;5;124mbalanced_subsample\u001b[39m\u001b[38;5;124m\"\u001b[39m:\n\u001b[0;32m    183\u001b[0m         curr_sample_weight \u001b[38;5;241m*\u001b[39m\u001b[38;5;241m=\u001b[39m compute_sample_weight(\u001b[38;5;124m\"\u001b[39m\u001b[38;5;124mbalanced\u001b[39m\u001b[38;5;124m\"\u001b[39m, y, indices\u001b[38;5;241m=\u001b[39mindices)\n\u001b[1;32m--> 185\u001b[0m     \u001b[43mtree\u001b[49m\u001b[38;5;241;43m.\u001b[39;49m\u001b[43mfit\u001b[49m\u001b[43m(\u001b[49m\u001b[43mX\u001b[49m\u001b[43m,\u001b[49m\u001b[43m \u001b[49m\u001b[43my\u001b[49m\u001b[43m,\u001b[49m\u001b[43m \u001b[49m\u001b[43msample_weight\u001b[49m\u001b[38;5;241;43m=\u001b[39;49m\u001b[43mcurr_sample_weight\u001b[49m\u001b[43m,\u001b[49m\u001b[43m \u001b[49m\u001b[43mcheck_input\u001b[49m\u001b[38;5;241;43m=\u001b[39;49m\u001b[38;5;28;43;01mFalse\u001b[39;49;00m\u001b[43m)\u001b[49m\n\u001b[0;32m    186\u001b[0m \u001b[38;5;28;01melse\u001b[39;00m:\n\u001b[0;32m    187\u001b[0m     tree\u001b[38;5;241m.\u001b[39mfit(X, y, sample_weight\u001b[38;5;241m=\u001b[39msample_weight, check_input\u001b[38;5;241m=\u001b[39m\u001b[38;5;28;01mFalse\u001b[39;00m)\n",
      "File \u001b[1;32m~\\anaconda3\\lib\\site-packages\\sklearn\\tree\\_classes.py:1315\u001b[0m, in \u001b[0;36mDecisionTreeRegressor.fit\u001b[1;34m(self, X, y, sample_weight, check_input, X_idx_sorted)\u001b[0m\n\u001b[0;32m   1278\u001b[0m \u001b[38;5;28;01mdef\u001b[39;00m \u001b[38;5;21mfit\u001b[39m(\n\u001b[0;32m   1279\u001b[0m     \u001b[38;5;28mself\u001b[39m, X, y, sample_weight\u001b[38;5;241m=\u001b[39m\u001b[38;5;28;01mNone\u001b[39;00m, check_input\u001b[38;5;241m=\u001b[39m\u001b[38;5;28;01mTrue\u001b[39;00m, X_idx_sorted\u001b[38;5;241m=\u001b[39m\u001b[38;5;124m\"\u001b[39m\u001b[38;5;124mdeprecated\u001b[39m\u001b[38;5;124m\"\u001b[39m\n\u001b[0;32m   1280\u001b[0m ):\n\u001b[0;32m   1281\u001b[0m     \u001b[38;5;124;03m\"\"\"Build a decision tree regressor from the training set (X, y).\u001b[39;00m\n\u001b[0;32m   1282\u001b[0m \n\u001b[0;32m   1283\u001b[0m \u001b[38;5;124;03m    Parameters\u001b[39;00m\n\u001b[1;32m   (...)\u001b[0m\n\u001b[0;32m   1312\u001b[0m \u001b[38;5;124;03m        Fitted estimator.\u001b[39;00m\n\u001b[0;32m   1313\u001b[0m \u001b[38;5;124;03m    \"\"\"\u001b[39;00m\n\u001b[1;32m-> 1315\u001b[0m     \u001b[38;5;28;43msuper\u001b[39;49m\u001b[43m(\u001b[49m\u001b[43m)\u001b[49m\u001b[38;5;241;43m.\u001b[39;49m\u001b[43mfit\u001b[49m\u001b[43m(\u001b[49m\n\u001b[0;32m   1316\u001b[0m \u001b[43m        \u001b[49m\u001b[43mX\u001b[49m\u001b[43m,\u001b[49m\n\u001b[0;32m   1317\u001b[0m \u001b[43m        \u001b[49m\u001b[43my\u001b[49m\u001b[43m,\u001b[49m\n\u001b[0;32m   1318\u001b[0m \u001b[43m        \u001b[49m\u001b[43msample_weight\u001b[49m\u001b[38;5;241;43m=\u001b[39;49m\u001b[43msample_weight\u001b[49m\u001b[43m,\u001b[49m\n\u001b[0;32m   1319\u001b[0m \u001b[43m        \u001b[49m\u001b[43mcheck_input\u001b[49m\u001b[38;5;241;43m=\u001b[39;49m\u001b[43mcheck_input\u001b[49m\u001b[43m,\u001b[49m\n\u001b[0;32m   1320\u001b[0m \u001b[43m        \u001b[49m\u001b[43mX_idx_sorted\u001b[49m\u001b[38;5;241;43m=\u001b[39;49m\u001b[43mX_idx_sorted\u001b[49m\u001b[43m,\u001b[49m\n\u001b[0;32m   1321\u001b[0m \u001b[43m    \u001b[49m\u001b[43m)\u001b[49m\n\u001b[0;32m   1322\u001b[0m     \u001b[38;5;28;01mreturn\u001b[39;00m \u001b[38;5;28mself\u001b[39m\n",
      "File \u001b[1;32m~\\anaconda3\\lib\\site-packages\\sklearn\\tree\\_classes.py:420\u001b[0m, in \u001b[0;36mBaseDecisionTree.fit\u001b[1;34m(self, X, y, sample_weight, check_input, X_idx_sorted)\u001b[0m\n\u001b[0;32m    409\u001b[0m \u001b[38;5;28;01melse\u001b[39;00m:\n\u001b[0;32m    410\u001b[0m     builder \u001b[38;5;241m=\u001b[39m BestFirstTreeBuilder(\n\u001b[0;32m    411\u001b[0m         splitter,\n\u001b[0;32m    412\u001b[0m         min_samples_split,\n\u001b[1;32m   (...)\u001b[0m\n\u001b[0;32m    417\u001b[0m         \u001b[38;5;28mself\u001b[39m\u001b[38;5;241m.\u001b[39mmin_impurity_decrease,\n\u001b[0;32m    418\u001b[0m     )\n\u001b[1;32m--> 420\u001b[0m \u001b[43mbuilder\u001b[49m\u001b[38;5;241;43m.\u001b[39;49m\u001b[43mbuild\u001b[49m\u001b[43m(\u001b[49m\u001b[38;5;28;43mself\u001b[39;49m\u001b[38;5;241;43m.\u001b[39;49m\u001b[43mtree_\u001b[49m\u001b[43m,\u001b[49m\u001b[43m \u001b[49m\u001b[43mX\u001b[49m\u001b[43m,\u001b[49m\u001b[43m \u001b[49m\u001b[43my\u001b[49m\u001b[43m,\u001b[49m\u001b[43m \u001b[49m\u001b[43msample_weight\u001b[49m\u001b[43m)\u001b[49m\n\u001b[0;32m    422\u001b[0m \u001b[38;5;28;01mif\u001b[39;00m \u001b[38;5;28mself\u001b[39m\u001b[38;5;241m.\u001b[39mn_outputs_ \u001b[38;5;241m==\u001b[39m \u001b[38;5;241m1\u001b[39m \u001b[38;5;129;01mand\u001b[39;00m is_classifier(\u001b[38;5;28mself\u001b[39m):\n\u001b[0;32m    423\u001b[0m     \u001b[38;5;28mself\u001b[39m\u001b[38;5;241m.\u001b[39mn_classes_ \u001b[38;5;241m=\u001b[39m \u001b[38;5;28mself\u001b[39m\u001b[38;5;241m.\u001b[39mn_classes_[\u001b[38;5;241m0\u001b[39m]\n",
      "\u001b[1;31mKeyboardInterrupt\u001b[0m: "
     ]
    }
   ],
   "source": [
    "%%time\n",
    "#RandomForest\n",
    "rf = RandomForestRegressor(criterion = \"squared_error\", random_state=RANDOM)\n",
    "\n",
    "rf_params = { 'n_estimators': range (1, 15, 2),\n",
    "              'max_depth': range (1,15, 2) }\n",
    "\n",
    "rf_grid_final = GridSearchCV(rf, rf_params, scoring='neg_mean_squared_error', verbose=10 )\n",
    "rf_grid_final.fit(features_train_ord, target_train)"
   ]
  },
  {
   "cell_type": "code",
   "execution_count": 27,
   "metadata": {},
   "outputs": [
    {
     "data": {
      "text/plain": [
       "{'max_depth': 13, 'n_estimators': 13}"
      ]
     },
     "metadata": {},
     "output_type": "display_data"
    }
   ],
   "source": [
    "display(rf_grid_final.best_params_)"
   ]
  },
  {
   "cell_type": "code",
   "execution_count": 36,
   "metadata": {},
   "outputs": [
    {
     "name": "stdout",
     "output_type": "stream",
     "text": [
      "CPU times: total: 9.95 s\n",
      "Wall time: 10.3 s\n"
     ]
    }
   ],
   "source": [
    "%%time\n",
    "rf = RandomForestRegressor(criterion = \"squared_error\", \n",
    "                           max_depth= 13, \n",
    "                           n_estimators= 13, \n",
    "                           random_state=RANDOM)\n",
    "start = time.time()\n",
    "rf.fit(features_train_ord,target_train)\n",
    "stop = time.time()\n",
    "training_time_rf = stop - start"
   ]
  },
  {
   "cell_type": "code",
   "execution_count": 37,
   "metadata": {},
   "outputs": [
    {
     "name": "stdout",
     "output_type": "stream",
     "text": [
      "RMSE модели случайного леса - 1512.4161137022581.\n"
     ]
    }
   ],
   "source": [
    "#Оценим качество модели случайного леса\n",
    "scores_rf = cross_val_score(rf, features_train_ord, target_train, scoring='neg_mean_squared_error', cv=7)\n",
    "scores_rf = (abs(scores_rf.mean()))**0.5\n",
    "print(f'RMSE модели случайного леса - {scores_rf}.')\n",
    "#Качество модели удослетворяет условию задания"
   ]
  },
  {
   "cell_type": "code",
   "execution_count": 40,
   "metadata": {
    "scrolled": true
   },
   "outputs": [
    {
     "name": "stderr",
     "output_type": "stream",
     "text": [
      "C:\\Users\\Admin\\anaconda3\\lib\\site-packages\\lightgbm\\engine.py:239: UserWarning: 'verbose_eval' argument is deprecated and will be removed in a future release of LightGBM. Pass 'log_evaluation()' callback via 'callbacks' argument instead.\n",
      "  _log_warning(\"'verbose_eval' argument is deprecated and will be removed in a future release of LightGBM. \"\n"
     ]
    },
    {
     "name": "stdout",
     "output_type": "stream",
     "text": [
      "[LightGBM] [Warning] Accuracy may be bad since you didn't explicitly set num_leaves OR 2^max_depth > num_leaves. (num_leaves=31).\n",
      "[LightGBM] [Warning] Accuracy may be bad since you didn't explicitly set num_leaves OR 2^max_depth > num_leaves. (num_leaves=31).\n",
      "[LightGBM] [Warning] Auto-choosing row-wise multi-threading, the overhead of testing was 0.014165 seconds.\n",
      "You can set `force_row_wise=true` to remove the overhead.\n",
      "And if memory is not enough, you can set `force_col_wise=true`.\n",
      "[LightGBM] [Info] Total Bins 610\n",
      "[LightGBM] [Info] Number of data points in the train set: 213435, number of used features: 9\n",
      "[LightGBM] [Warning] Accuracy may be bad since you didn't explicitly set num_leaves OR 2^max_depth > num_leaves. (num_leaves=31).\n",
      "[LightGBM] [Info] Start training from score 3983.261757\n",
      "[1]\ttraining's l2: 1.08392e+07\tvalid_1's l2: 1.07804e+07\n",
      "[2]\ttraining's l2: 9.46338e+06\tvalid_1's l2: 9.41814e+06\n"
     ]
    },
    {
     "name": "stderr",
     "output_type": "stream",
     "text": [
      "C:\\Users\\Admin\\anaconda3\\lib\\site-packages\\lightgbm\\basic.py:1780: UserWarning: Overriding the parameters from Reference Dataset.\n",
      "  _log_warning('Overriding the parameters from Reference Dataset.')\n",
      "C:\\Users\\Admin\\anaconda3\\lib\\site-packages\\lightgbm\\basic.py:1513: UserWarning: categorical_column in param dict is overridden.\n",
      "  _log_warning(f'{cat_alias} in param dict is overridden.')\n"
     ]
    },
    {
     "name": "stdout",
     "output_type": "stream",
     "text": [
      "[3]\ttraining's l2: 8.34581e+06\tvalid_1's l2: 8.31251e+06\n",
      "[4]\ttraining's l2: 7.40306e+06\tvalid_1's l2: 7.37419e+06\n",
      "[5]\ttraining's l2: 6.61841e+06\tvalid_1's l2: 6.59496e+06\n",
      "[6]\ttraining's l2: 5.96355e+06\tvalid_1's l2: 5.94463e+06\n",
      "[7]\ttraining's l2: 5.42626e+06\tvalid_1's l2: 5.41274e+06\n",
      "[8]\ttraining's l2: 4.95612e+06\tvalid_1's l2: 4.94791e+06\n",
      "[9]\ttraining's l2: 4.57453e+06\tvalid_1's l2: 4.57216e+06\n",
      "[10]\ttraining's l2: 4.24628e+06\tvalid_1's l2: 4.2472e+06\n",
      "[11]\ttraining's l2: 3.96752e+06\tvalid_1's l2: 3.97071e+06\n",
      "[12]\ttraining's l2: 3.72733e+06\tvalid_1's l2: 3.73215e+06\n",
      "[13]\ttraining's l2: 3.51876e+06\tvalid_1's l2: 3.5265e+06\n",
      "[14]\ttraining's l2: 3.34776e+06\tvalid_1's l2: 3.35728e+06\n",
      "[15]\ttraining's l2: 3.19825e+06\tvalid_1's l2: 3.21208e+06\n",
      "[16]\ttraining's l2: 3.06878e+06\tvalid_1's l2: 3.08333e+06\n",
      "[17]\ttraining's l2: 2.96039e+06\tvalid_1's l2: 2.97638e+06\n",
      "[18]\ttraining's l2: 2.86354e+06\tvalid_1's l2: 2.87885e+06\n",
      "[19]\ttraining's l2: 2.78368e+06\tvalid_1's l2: 2.7992e+06\n",
      "[20]\ttraining's l2: 2.70667e+06\tvalid_1's l2: 2.72458e+06\n",
      "[21]\ttraining's l2: 2.64455e+06\tvalid_1's l2: 2.66322e+06\n",
      "[22]\ttraining's l2: 2.58456e+06\tvalid_1's l2: 2.60614e+06\n",
      "[23]\ttraining's l2: 2.53488e+06\tvalid_1's l2: 2.55876e+06\n",
      "[24]\ttraining's l2: 2.48889e+06\tvalid_1's l2: 2.51552e+06\n",
      "[25]\ttraining's l2: 2.4507e+06\tvalid_1's l2: 2.48034e+06\n",
      "[26]\ttraining's l2: 2.41528e+06\tvalid_1's l2: 2.4468e+06\n",
      "[27]\ttraining's l2: 2.38465e+06\tvalid_1's l2: 2.41803e+06\n",
      "[28]\ttraining's l2: 2.35457e+06\tvalid_1's l2: 2.38922e+06\n",
      "[29]\ttraining's l2: 2.32836e+06\tvalid_1's l2: 2.36336e+06\n",
      "[30]\ttraining's l2: 2.3048e+06\tvalid_1's l2: 2.341e+06\n",
      "[31]\ttraining's l2: 2.2826e+06\tvalid_1's l2: 2.32014e+06\n",
      "[32]\ttraining's l2: 2.26396e+06\tvalid_1's l2: 2.3023e+06\n",
      "[33]\ttraining's l2: 2.2459e+06\tvalid_1's l2: 2.28456e+06\n",
      "[34]\ttraining's l2: 2.23056e+06\tvalid_1's l2: 2.27026e+06\n",
      "[35]\ttraining's l2: 2.21618e+06\tvalid_1's l2: 2.25771e+06\n",
      "[36]\ttraining's l2: 2.20192e+06\tvalid_1's l2: 2.24417e+06\n",
      "[37]\ttraining's l2: 2.19056e+06\tvalid_1's l2: 2.23435e+06\n",
      "[38]\ttraining's l2: 2.17889e+06\tvalid_1's l2: 2.22379e+06\n",
      "[39]\ttraining's l2: 2.16892e+06\tvalid_1's l2: 2.21489e+06\n",
      "[40]\ttraining's l2: 2.15845e+06\tvalid_1's l2: 2.20558e+06\n",
      "[41]\ttraining's l2: 2.14928e+06\tvalid_1's l2: 2.1976e+06\n",
      "[42]\ttraining's l2: 2.14208e+06\tvalid_1's l2: 2.19128e+06\n",
      "[43]\ttraining's l2: 2.13227e+06\tvalid_1's l2: 2.18239e+06\n",
      "[44]\ttraining's l2: 2.12459e+06\tvalid_1's l2: 2.17547e+06\n",
      "[45]\ttraining's l2: 2.11722e+06\tvalid_1's l2: 2.16971e+06\n",
      "[46]\ttraining's l2: 2.10958e+06\tvalid_1's l2: 2.16326e+06\n",
      "[47]\ttraining's l2: 2.10251e+06\tvalid_1's l2: 2.15773e+06\n",
      "[48]\ttraining's l2: 2.09497e+06\tvalid_1's l2: 2.1511e+06\n",
      "[49]\ttraining's l2: 2.08929e+06\tvalid_1's l2: 2.14647e+06\n",
      "[50]\ttraining's l2: 2.08456e+06\tvalid_1's l2: 2.14289e+06\n",
      "[51]\ttraining's l2: 2.07979e+06\tvalid_1's l2: 2.13877e+06\n",
      "[52]\ttraining's l2: 2.07569e+06\tvalid_1's l2: 2.13529e+06\n",
      "[53]\ttraining's l2: 2.0694e+06\tvalid_1's l2: 2.12967e+06\n",
      "[54]\ttraining's l2: 2.06425e+06\tvalid_1's l2: 2.1259e+06\n",
      "[55]\ttraining's l2: 2.05995e+06\tvalid_1's l2: 2.12255e+06\n",
      "[56]\ttraining's l2: 2.05533e+06\tvalid_1's l2: 2.11902e+06\n",
      "[57]\ttraining's l2: 2.05098e+06\tvalid_1's l2: 2.11584e+06\n",
      "[58]\ttraining's l2: 2.04542e+06\tvalid_1's l2: 2.1107e+06\n",
      "[59]\ttraining's l2: 2.04138e+06\tvalid_1's l2: 2.1077e+06\n",
      "[60]\ttraining's l2: 2.03784e+06\tvalid_1's l2: 2.10548e+06\n",
      "[61]\ttraining's l2: 2.03454e+06\tvalid_1's l2: 2.10271e+06\n",
      "[62]\ttraining's l2: 2.03065e+06\tvalid_1's l2: 2.09908e+06\n",
      "[63]\ttraining's l2: 2.0281e+06\tvalid_1's l2: 2.09706e+06\n",
      "[64]\ttraining's l2: 2.02504e+06\tvalid_1's l2: 2.09527e+06\n",
      "[65]\ttraining's l2: 2.02269e+06\tvalid_1's l2: 2.09367e+06\n",
      "[66]\ttraining's l2: 2.01901e+06\tvalid_1's l2: 2.09092e+06\n",
      "[67]\ttraining's l2: 2.01562e+06\tvalid_1's l2: 2.08844e+06\n",
      "[68]\ttraining's l2: 2.01265e+06\tvalid_1's l2: 2.08648e+06\n",
      "[69]\ttraining's l2: 2.00967e+06\tvalid_1's l2: 2.08418e+06\n",
      "[70]\ttraining's l2: 2.00714e+06\tvalid_1's l2: 2.0825e+06\n",
      "[71]\ttraining's l2: 2.00398e+06\tvalid_1's l2: 2.08086e+06\n",
      "[72]\ttraining's l2: 2.00127e+06\tvalid_1's l2: 2.07943e+06\n",
      "[73]\ttraining's l2: 1.99824e+06\tvalid_1's l2: 2.07708e+06\n",
      "[74]\ttraining's l2: 1.99575e+06\tvalid_1's l2: 2.07485e+06\n",
      "[75]\ttraining's l2: 1.99292e+06\tvalid_1's l2: 2.07288e+06\n",
      "[76]\ttraining's l2: 1.98971e+06\tvalid_1's l2: 2.0704e+06\n",
      "[77]\ttraining's l2: 1.98729e+06\tvalid_1's l2: 2.06885e+06\n",
      "[78]\ttraining's l2: 1.98497e+06\tvalid_1's l2: 2.06735e+06\n",
      "[79]\ttraining's l2: 1.98303e+06\tvalid_1's l2: 2.06629e+06\n",
      "[80]\ttraining's l2: 1.98091e+06\tvalid_1's l2: 2.06514e+06\n",
      "[81]\ttraining's l2: 1.97854e+06\tvalid_1's l2: 2.06373e+06\n",
      "[82]\ttraining's l2: 1.97565e+06\tvalid_1's l2: 2.06165e+06\n",
      "[83]\ttraining's l2: 1.97305e+06\tvalid_1's l2: 2.05985e+06\n",
      "[84]\ttraining's l2: 1.97107e+06\tvalid_1's l2: 2.05855e+06\n",
      "[85]\ttraining's l2: 1.96906e+06\tvalid_1's l2: 2.05756e+06\n",
      "[86]\ttraining's l2: 1.96726e+06\tvalid_1's l2: 2.05636e+06\n",
      "[87]\ttraining's l2: 1.96514e+06\tvalid_1's l2: 2.05541e+06\n",
      "[88]\ttraining's l2: 1.96346e+06\tvalid_1's l2: 2.05452e+06\n",
      "[89]\ttraining's l2: 1.9606e+06\tvalid_1's l2: 2.05268e+06\n",
      "[90]\ttraining's l2: 1.95845e+06\tvalid_1's l2: 2.05164e+06\n",
      "[91]\ttraining's l2: 1.95666e+06\tvalid_1's l2: 2.05072e+06\n",
      "[92]\ttraining's l2: 1.95515e+06\tvalid_1's l2: 2.05018e+06\n",
      "[93]\ttraining's l2: 1.95296e+06\tvalid_1's l2: 2.04934e+06\n",
      "[94]\ttraining's l2: 1.95071e+06\tvalid_1's l2: 2.04781e+06\n",
      "[95]\ttraining's l2: 1.94892e+06\tvalid_1's l2: 2.04685e+06\n",
      "[96]\ttraining's l2: 1.94655e+06\tvalid_1's l2: 2.0453e+06\n",
      "[97]\ttraining's l2: 1.94422e+06\tvalid_1's l2: 2.0441e+06\n",
      "[98]\ttraining's l2: 1.94276e+06\tvalid_1's l2: 2.04332e+06\n",
      "[99]\ttraining's l2: 1.93999e+06\tvalid_1's l2: 2.04151e+06\n",
      "[100]\ttraining's l2: 1.93876e+06\tvalid_1's l2: 2.04103e+06\n",
      "[101]\ttraining's l2: 1.93731e+06\tvalid_1's l2: 2.0405e+06\n",
      "[102]\ttraining's l2: 1.9358e+06\tvalid_1's l2: 2.03985e+06\n",
      "[103]\ttraining's l2: 1.93489e+06\tvalid_1's l2: 2.03953e+06\n",
      "[104]\ttraining's l2: 1.93284e+06\tvalid_1's l2: 2.03842e+06\n",
      "[105]\ttraining's l2: 1.93109e+06\tvalid_1's l2: 2.0375e+06\n",
      "[106]\ttraining's l2: 1.92894e+06\tvalid_1's l2: 2.03687e+06\n",
      "[107]\ttraining's l2: 1.92763e+06\tvalid_1's l2: 2.03678e+06\n",
      "[108]\ttraining's l2: 1.92629e+06\tvalid_1's l2: 2.0358e+06\n",
      "[109]\ttraining's l2: 1.92475e+06\tvalid_1's l2: 2.03486e+06\n",
      "[110]\ttraining's l2: 1.92258e+06\tvalid_1's l2: 2.03344e+06\n",
      "[111]\ttraining's l2: 1.92078e+06\tvalid_1's l2: 2.03227e+06\n",
      "[112]\ttraining's l2: 1.91924e+06\tvalid_1's l2: 2.03138e+06\n",
      "[113]\ttraining's l2: 1.91834e+06\tvalid_1's l2: 2.03112e+06\n",
      "[114]\ttraining's l2: 1.91648e+06\tvalid_1's l2: 2.03024e+06\n",
      "[115]\ttraining's l2: 1.91506e+06\tvalid_1's l2: 2.02941e+06\n",
      "[116]\ttraining's l2: 1.91373e+06\tvalid_1's l2: 2.02911e+06\n",
      "[117]\ttraining's l2: 1.91268e+06\tvalid_1's l2: 2.02873e+06\n",
      "[118]\ttraining's l2: 1.91157e+06\tvalid_1's l2: 2.02845e+06\n",
      "[119]\ttraining's l2: 1.91006e+06\tvalid_1's l2: 2.02744e+06\n",
      "[120]\ttraining's l2: 1.90883e+06\tvalid_1's l2: 2.02679e+06\n",
      "[121]\ttraining's l2: 1.90709e+06\tvalid_1's l2: 2.02565e+06\n",
      "[122]\ttraining's l2: 1.90506e+06\tvalid_1's l2: 2.02452e+06\n",
      "[123]\ttraining's l2: 1.90352e+06\tvalid_1's l2: 2.02395e+06\n",
      "[124]\ttraining's l2: 1.90121e+06\tvalid_1's l2: 2.02164e+06\n",
      "[125]\ttraining's l2: 1.89952e+06\tvalid_1's l2: 2.02085e+06\n",
      "[126]\ttraining's l2: 1.89882e+06\tvalid_1's l2: 2.02051e+06\n",
      "[127]\ttraining's l2: 1.89803e+06\tvalid_1's l2: 2.02074e+06\n",
      "[128]\ttraining's l2: 1.89681e+06\tvalid_1's l2: 2.0201e+06\n",
      "[129]\ttraining's l2: 1.89492e+06\tvalid_1's l2: 2.01914e+06\n",
      "[130]\ttraining's l2: 1.89415e+06\tvalid_1's l2: 2.01878e+06\n",
      "[131]\ttraining's l2: 1.8931e+06\tvalid_1's l2: 2.01844e+06\n",
      "[132]\ttraining's l2: 1.89179e+06\tvalid_1's l2: 2.0176e+06\n",
      "[133]\ttraining's l2: 1.89038e+06\tvalid_1's l2: 2.0169e+06\n",
      "[134]\ttraining's l2: 1.8889e+06\tvalid_1's l2: 2.01598e+06\n",
      "[135]\ttraining's l2: 1.88786e+06\tvalid_1's l2: 2.0154e+06\n",
      "[136]\ttraining's l2: 1.88663e+06\tvalid_1's l2: 2.0147e+06\n",
      "[137]\ttraining's l2: 1.88572e+06\tvalid_1's l2: 2.01446e+06\n",
      "[138]\ttraining's l2: 1.88419e+06\tvalid_1's l2: 2.01358e+06\n",
      "[139]\ttraining's l2: 1.88265e+06\tvalid_1's l2: 2.01254e+06\n",
      "[140]\ttraining's l2: 1.88188e+06\tvalid_1's l2: 2.01205e+06\n",
      "[141]\ttraining's l2: 1.88053e+06\tvalid_1's l2: 2.01158e+06\n",
      "[142]\ttraining's l2: 1.87992e+06\tvalid_1's l2: 2.01132e+06\n",
      "[143]\ttraining's l2: 1.87943e+06\tvalid_1's l2: 2.0112e+06\n",
      "[144]\ttraining's l2: 1.87852e+06\tvalid_1's l2: 2.01057e+06\n",
      "[145]\ttraining's l2: 1.877e+06\tvalid_1's l2: 2.00948e+06\n",
      "[146]\ttraining's l2: 1.87589e+06\tvalid_1's l2: 2.0089e+06\n",
      "[147]\ttraining's l2: 1.87481e+06\tvalid_1's l2: 2.0086e+06\n",
      "[148]\ttraining's l2: 1.87348e+06\tvalid_1's l2: 2.00761e+06\n",
      "[149]\ttraining's l2: 1.87233e+06\tvalid_1's l2: 2.00716e+06\n",
      "[150]\ttraining's l2: 1.87069e+06\tvalid_1's l2: 2.00642e+06\n",
      "[151]\ttraining's l2: 1.86944e+06\tvalid_1's l2: 2.00565e+06\n",
      "[152]\ttraining's l2: 1.86769e+06\tvalid_1's l2: 2.00444e+06\n",
      "[153]\ttraining's l2: 1.86691e+06\tvalid_1's l2: 2.00396e+06\n",
      "[154]\ttraining's l2: 1.8657e+06\tvalid_1's l2: 2.0035e+06\n",
      "[155]\ttraining's l2: 1.8648e+06\tvalid_1's l2: 2.00295e+06\n",
      "[156]\ttraining's l2: 1.86293e+06\tvalid_1's l2: 2.00155e+06\n",
      "[157]\ttraining's l2: 1.86227e+06\tvalid_1's l2: 2.00146e+06\n",
      "[158]\ttraining's l2: 1.86135e+06\tvalid_1's l2: 2.00103e+06\n",
      "[159]\ttraining's l2: 1.86072e+06\tvalid_1's l2: 2.00073e+06\n",
      "[160]\ttraining's l2: 1.85964e+06\tvalid_1's l2: 2.00021e+06\n",
      "[161]\ttraining's l2: 1.85912e+06\tvalid_1's l2: 2.00006e+06\n",
      "[162]\ttraining's l2: 1.85739e+06\tvalid_1's l2: 1.9992e+06\n",
      "[163]\ttraining's l2: 1.85592e+06\tvalid_1's l2: 1.9984e+06\n",
      "[164]\ttraining's l2: 1.85534e+06\tvalid_1's l2: 1.99822e+06\n",
      "[165]\ttraining's l2: 1.85425e+06\tvalid_1's l2: 1.99807e+06\n",
      "[166]\ttraining's l2: 1.85305e+06\tvalid_1's l2: 1.99717e+06\n",
      "[167]\ttraining's l2: 1.8514e+06\tvalid_1's l2: 1.99652e+06\n",
      "[168]\ttraining's l2: 1.85072e+06\tvalid_1's l2: 1.9962e+06\n",
      "[169]\ttraining's l2: 1.84968e+06\tvalid_1's l2: 1.99541e+06\n",
      "[170]\ttraining's l2: 1.84911e+06\tvalid_1's l2: 1.99519e+06\n",
      "[171]\ttraining's l2: 1.84774e+06\tvalid_1's l2: 1.99386e+06\n",
      "[172]\ttraining's l2: 1.84625e+06\tvalid_1's l2: 1.9931e+06\n",
      "[173]\ttraining's l2: 1.84531e+06\tvalid_1's l2: 1.99288e+06\n",
      "[174]\ttraining's l2: 1.84413e+06\tvalid_1's l2: 1.99208e+06\n",
      "[175]\ttraining's l2: 1.84268e+06\tvalid_1's l2: 1.99142e+06\n",
      "[176]\ttraining's l2: 1.84207e+06\tvalid_1's l2: 1.99118e+06\n",
      "[177]\ttraining's l2: 1.84078e+06\tvalid_1's l2: 1.99052e+06\n",
      "[178]\ttraining's l2: 1.83979e+06\tvalid_1's l2: 1.99013e+06\n",
      "[179]\ttraining's l2: 1.83917e+06\tvalid_1's l2: 1.9899e+06\n",
      "[180]\ttraining's l2: 1.83799e+06\tvalid_1's l2: 1.98932e+06\n",
      "[181]\ttraining's l2: 1.8374e+06\tvalid_1's l2: 1.98924e+06\n",
      "[182]\ttraining's l2: 1.83674e+06\tvalid_1's l2: 1.98904e+06\n",
      "[183]\ttraining's l2: 1.83634e+06\tvalid_1's l2: 1.98904e+06\n",
      "[184]\ttraining's l2: 1.83536e+06\tvalid_1's l2: 1.9886e+06\n",
      "[185]\ttraining's l2: 1.83486e+06\tvalid_1's l2: 1.98858e+06\n",
      "[186]\ttraining's l2: 1.83435e+06\tvalid_1's l2: 1.9885e+06\n",
      "[187]\ttraining's l2: 1.83288e+06\tvalid_1's l2: 1.98725e+06\n",
      "[188]\ttraining's l2: 1.83216e+06\tvalid_1's l2: 1.98685e+06\n",
      "[189]\ttraining's l2: 1.83098e+06\tvalid_1's l2: 1.98618e+06\n",
      "[190]\ttraining's l2: 1.82993e+06\tvalid_1's l2: 1.98588e+06\n",
      "[191]\ttraining's l2: 1.8295e+06\tvalid_1's l2: 1.98572e+06\n",
      "[192]\ttraining's l2: 1.82871e+06\tvalid_1's l2: 1.98525e+06\n",
      "[193]\ttraining's l2: 1.82819e+06\tvalid_1's l2: 1.98517e+06\n",
      "[194]\ttraining's l2: 1.82722e+06\tvalid_1's l2: 1.98464e+06\n",
      "[195]\ttraining's l2: 1.82602e+06\tvalid_1's l2: 1.98389e+06\n",
      "[196]\ttraining's l2: 1.82549e+06\tvalid_1's l2: 1.98367e+06\n",
      "[197]\ttraining's l2: 1.82504e+06\tvalid_1's l2: 1.98334e+06\n",
      "[198]\ttraining's l2: 1.82409e+06\tvalid_1's l2: 1.98284e+06\n",
      "[199]\ttraining's l2: 1.82291e+06\tvalid_1's l2: 1.98233e+06\n",
      "[200]\ttraining's l2: 1.82236e+06\tvalid_1's l2: 1.98222e+06\n",
      "[201]\ttraining's l2: 1.8216e+06\tvalid_1's l2: 1.98208e+06\n",
      "[202]\ttraining's l2: 1.82083e+06\tvalid_1's l2: 1.98179e+06\n",
      "[203]\ttraining's l2: 1.81991e+06\tvalid_1's l2: 1.98147e+06\n",
      "[204]\ttraining's l2: 1.819e+06\tvalid_1's l2: 1.98085e+06\n",
      "[205]\ttraining's l2: 1.8181e+06\tvalid_1's l2: 1.98047e+06\n",
      "[206]\ttraining's l2: 1.817e+06\tvalid_1's l2: 1.9802e+06\n",
      "[207]\ttraining's l2: 1.81608e+06\tvalid_1's l2: 1.97981e+06\n",
      "[208]\ttraining's l2: 1.81521e+06\tvalid_1's l2: 1.97945e+06\n",
      "[209]\ttraining's l2: 1.81474e+06\tvalid_1's l2: 1.97925e+06\n",
      "[210]\ttraining's l2: 1.81416e+06\tvalid_1's l2: 1.97887e+06\n",
      "[211]\ttraining's l2: 1.81338e+06\tvalid_1's l2: 1.97863e+06\n",
      "[212]\ttraining's l2: 1.81289e+06\tvalid_1's l2: 1.9782e+06\n",
      "[213]\ttraining's l2: 1.81239e+06\tvalid_1's l2: 1.97799e+06\n",
      "[214]\ttraining's l2: 1.81127e+06\tvalid_1's l2: 1.97726e+06\n",
      "[215]\ttraining's l2: 1.8105e+06\tvalid_1's l2: 1.9769e+06\n",
      "[216]\ttraining's l2: 1.80959e+06\tvalid_1's l2: 1.97668e+06\n",
      "[217]\ttraining's l2: 1.80911e+06\tvalid_1's l2: 1.97625e+06\n",
      "[LightGBM] [Warning] No further splits with positive gain, best gain: -inf\n",
      "[218]\ttraining's l2: 1.80899e+06\tvalid_1's l2: 1.97625e+06\n",
      "[219]\ttraining's l2: 1.80825e+06\tvalid_1's l2: 1.97595e+06\n",
      "[220]\ttraining's l2: 1.80742e+06\tvalid_1's l2: 1.97583e+06\n",
      "[221]\ttraining's l2: 1.80651e+06\tvalid_1's l2: 1.97539e+06\n",
      "[222]\ttraining's l2: 1.8056e+06\tvalid_1's l2: 1.97515e+06\n",
      "[223]\ttraining's l2: 1.80479e+06\tvalid_1's l2: 1.9747e+06\n",
      "[224]\ttraining's l2: 1.80394e+06\tvalid_1's l2: 1.97436e+06\n",
      "[225]\ttraining's l2: 1.80302e+06\tvalid_1's l2: 1.97379e+06\n",
      "[226]\ttraining's l2: 1.80214e+06\tvalid_1's l2: 1.97328e+06\n",
      "[227]\ttraining's l2: 1.80161e+06\tvalid_1's l2: 1.97324e+06\n",
      "[228]\ttraining's l2: 1.80096e+06\tvalid_1's l2: 1.97285e+06\n",
      "[229]\ttraining's l2: 1.80016e+06\tvalid_1's l2: 1.97232e+06\n",
      "[230]\ttraining's l2: 1.79968e+06\tvalid_1's l2: 1.97197e+06\n",
      "[231]\ttraining's l2: 1.79928e+06\tvalid_1's l2: 1.97189e+06\n",
      "[232]\ttraining's l2: 1.7979e+06\tvalid_1's l2: 1.97126e+06\n",
      "[233]\ttraining's l2: 1.79714e+06\tvalid_1's l2: 1.97083e+06\n",
      "[234]\ttraining's l2: 1.79598e+06\tvalid_1's l2: 1.96989e+06\n",
      "[235]\ttraining's l2: 1.79516e+06\tvalid_1's l2: 1.96988e+06\n",
      "[236]\ttraining's l2: 1.79483e+06\tvalid_1's l2: 1.96988e+06\n",
      "[237]\ttraining's l2: 1.79439e+06\tvalid_1's l2: 1.96982e+06\n",
      "[238]\ttraining's l2: 1.79374e+06\tvalid_1's l2: 1.96955e+06\n",
      "[239]\ttraining's l2: 1.79303e+06\tvalid_1's l2: 1.96926e+06\n",
      "[240]\ttraining's l2: 1.7921e+06\tvalid_1's l2: 1.96882e+06\n",
      "[241]\ttraining's l2: 1.79169e+06\tvalid_1's l2: 1.96862e+06\n",
      "[242]\ttraining's l2: 1.7909e+06\tvalid_1's l2: 1.96802e+06\n",
      "[243]\ttraining's l2: 1.79022e+06\tvalid_1's l2: 1.96787e+06\n",
      "[244]\ttraining's l2: 1.78936e+06\tvalid_1's l2: 1.96773e+06\n",
      "[245]\ttraining's l2: 1.78897e+06\tvalid_1's l2: 1.96763e+06\n",
      "[246]\ttraining's l2: 1.78836e+06\tvalid_1's l2: 1.9674e+06\n",
      "[247]\ttraining's l2: 1.78796e+06\tvalid_1's l2: 1.9674e+06\n",
      "[248]\ttraining's l2: 1.78749e+06\tvalid_1's l2: 1.96724e+06\n",
      "[249]\ttraining's l2: 1.78713e+06\tvalid_1's l2: 1.96714e+06\n",
      "[250]\ttraining's l2: 1.7865e+06\tvalid_1's l2: 1.96697e+06\n",
      "[251]\ttraining's l2: 1.78565e+06\tvalid_1's l2: 1.96643e+06\n",
      "[252]\ttraining's l2: 1.78532e+06\tvalid_1's l2: 1.9664e+06\n",
      "[253]\ttraining's l2: 1.78495e+06\tvalid_1's l2: 1.96625e+06\n",
      "[254]\ttraining's l2: 1.7845e+06\tvalid_1's l2: 1.96628e+06\n",
      "[255]\ttraining's l2: 1.78414e+06\tvalid_1's l2: 1.96639e+06\n",
      "[256]\ttraining's l2: 1.78296e+06\tvalid_1's l2: 1.96567e+06\n",
      "[257]\ttraining's l2: 1.78252e+06\tvalid_1's l2: 1.96542e+06\n",
      "[258]\ttraining's l2: 1.78194e+06\tvalid_1's l2: 1.96526e+06\n",
      "[259]\ttraining's l2: 1.78088e+06\tvalid_1's l2: 1.96433e+06\n",
      "[260]\ttraining's l2: 1.78041e+06\tvalid_1's l2: 1.96408e+06\n",
      "[261]\ttraining's l2: 1.7797e+06\tvalid_1's l2: 1.96361e+06\n",
      "[262]\ttraining's l2: 1.77926e+06\tvalid_1's l2: 1.96349e+06\n",
      "[263]\ttraining's l2: 1.77841e+06\tvalid_1's l2: 1.96281e+06\n",
      "[264]\ttraining's l2: 1.77793e+06\tvalid_1's l2: 1.96251e+06\n",
      "[265]\ttraining's l2: 1.77713e+06\tvalid_1's l2: 1.96235e+06\n",
      "[266]\ttraining's l2: 1.77625e+06\tvalid_1's l2: 1.96197e+06\n",
      "[267]\ttraining's l2: 1.77534e+06\tvalid_1's l2: 1.96135e+06\n",
      "[LightGBM] [Warning] No further splits with positive gain, best gain: -inf\n",
      "[268]\ttraining's l2: 1.77526e+06\tvalid_1's l2: 1.96134e+06\n",
      "[269]\ttraining's l2: 1.77427e+06\tvalid_1's l2: 1.96112e+06\n",
      "[270]\ttraining's l2: 1.77315e+06\tvalid_1's l2: 1.96029e+06\n",
      "[271]\ttraining's l2: 1.77217e+06\tvalid_1's l2: 1.96025e+06\n",
      "[272]\ttraining's l2: 1.77155e+06\tvalid_1's l2: 1.95996e+06\n",
      "[273]\ttraining's l2: 1.77037e+06\tvalid_1's l2: 1.95935e+06\n",
      "[274]\ttraining's l2: 1.76986e+06\tvalid_1's l2: 1.95909e+06\n",
      "[275]\ttraining's l2: 1.76925e+06\tvalid_1's l2: 1.95875e+06\n",
      "[276]\ttraining's l2: 1.76826e+06\tvalid_1's l2: 1.95814e+06\n",
      "[277]\ttraining's l2: 1.76793e+06\tvalid_1's l2: 1.95805e+06\n",
      "[278]\ttraining's l2: 1.7674e+06\tvalid_1's l2: 1.95781e+06\n",
      "[279]\ttraining's l2: 1.76698e+06\tvalid_1's l2: 1.95769e+06\n",
      "[280]\ttraining's l2: 1.76634e+06\tvalid_1's l2: 1.95768e+06\n",
      "[281]\ttraining's l2: 1.76568e+06\tvalid_1's l2: 1.95743e+06\n",
      "[282]\ttraining's l2: 1.76511e+06\tvalid_1's l2: 1.95731e+06\n",
      "[283]\ttraining's l2: 1.76439e+06\tvalid_1's l2: 1.95707e+06\n",
      "[284]\ttraining's l2: 1.76393e+06\tvalid_1's l2: 1.95698e+06\n",
      "[285]\ttraining's l2: 1.76264e+06\tvalid_1's l2: 1.95642e+06\n",
      "[286]\ttraining's l2: 1.76233e+06\tvalid_1's l2: 1.95631e+06\n",
      "[287]\ttraining's l2: 1.76164e+06\tvalid_1's l2: 1.95642e+06\n",
      "[288]\ttraining's l2: 1.76125e+06\tvalid_1's l2: 1.95631e+06\n",
      "[289]\ttraining's l2: 1.76078e+06\tvalid_1's l2: 1.95641e+06\n",
      "[290]\ttraining's l2: 1.76036e+06\tvalid_1's l2: 1.95615e+06\n",
      "[291]\ttraining's l2: 1.75972e+06\tvalid_1's l2: 1.95587e+06\n",
      "[292]\ttraining's l2: 1.75893e+06\tvalid_1's l2: 1.95566e+06\n",
      "[293]\ttraining's l2: 1.75856e+06\tvalid_1's l2: 1.95571e+06\n",
      "[294]\ttraining's l2: 1.7579e+06\tvalid_1's l2: 1.9555e+06\n",
      "[295]\ttraining's l2: 1.75759e+06\tvalid_1's l2: 1.95542e+06\n",
      "[LightGBM] [Warning] No further splits with positive gain, best gain: -inf\n",
      "[296]\ttraining's l2: 1.7574e+06\tvalid_1's l2: 1.95541e+06\n",
      "[297]\ttraining's l2: 1.75703e+06\tvalid_1's l2: 1.95529e+06\n",
      "[298]\ttraining's l2: 1.75631e+06\tvalid_1's l2: 1.95506e+06\n",
      "[299]\ttraining's l2: 1.75601e+06\tvalid_1's l2: 1.95495e+06\n",
      "[300]\ttraining's l2: 1.75503e+06\tvalid_1's l2: 1.95451e+06\n",
      "[301]\ttraining's l2: 1.75473e+06\tvalid_1's l2: 1.95447e+06\n",
      "[302]\ttraining's l2: 1.75442e+06\tvalid_1's l2: 1.95451e+06\n",
      "[303]\ttraining's l2: 1.75414e+06\tvalid_1's l2: 1.95462e+06\n",
      "[LightGBM] [Warning] No further splits with positive gain, best gain: -inf\n",
      "[304]\ttraining's l2: 1.754e+06\tvalid_1's l2: 1.95456e+06\n",
      "[305]\ttraining's l2: 1.75352e+06\tvalid_1's l2: 1.95442e+06\n",
      "[306]\ttraining's l2: 1.75326e+06\tvalid_1's l2: 1.95442e+06\n",
      "[307]\ttraining's l2: 1.75249e+06\tvalid_1's l2: 1.95383e+06\n",
      "[308]\ttraining's l2: 1.7519e+06\tvalid_1's l2: 1.95383e+06\n",
      "[309]\ttraining's l2: 1.75081e+06\tvalid_1's l2: 1.95361e+06\n",
      "[310]\ttraining's l2: 1.75037e+06\tvalid_1's l2: 1.95338e+06\n",
      "[311]\ttraining's l2: 1.74981e+06\tvalid_1's l2: 1.95308e+06\n",
      "[312]\ttraining's l2: 1.74942e+06\tvalid_1's l2: 1.95276e+06\n",
      "[313]\ttraining's l2: 1.74912e+06\tvalid_1's l2: 1.95272e+06\n",
      "[314]\ttraining's l2: 1.74885e+06\tvalid_1's l2: 1.95277e+06\n",
      "[315]\ttraining's l2: 1.74788e+06\tvalid_1's l2: 1.95242e+06\n",
      "[316]\ttraining's l2: 1.74698e+06\tvalid_1's l2: 1.95174e+06\n",
      "[317]\ttraining's l2: 1.74604e+06\tvalid_1's l2: 1.95093e+06\n",
      "[318]\ttraining's l2: 1.74534e+06\tvalid_1's l2: 1.95055e+06\n",
      "[319]\ttraining's l2: 1.74484e+06\tvalid_1's l2: 1.95035e+06\n",
      "[320]\ttraining's l2: 1.74453e+06\tvalid_1's l2: 1.95025e+06\n",
      "[321]\ttraining's l2: 1.74423e+06\tvalid_1's l2: 1.95006e+06\n",
      "[322]\ttraining's l2: 1.74402e+06\tvalid_1's l2: 1.94999e+06\n",
      "[323]\ttraining's l2: 1.74322e+06\tvalid_1's l2: 1.94963e+06\n",
      "[324]\ttraining's l2: 1.74234e+06\tvalid_1's l2: 1.94901e+06\n",
      "[325]\ttraining's l2: 1.74172e+06\tvalid_1's l2: 1.94869e+06\n",
      "[326]\ttraining's l2: 1.7411e+06\tvalid_1's l2: 1.94838e+06\n",
      "[327]\ttraining's l2: 1.74054e+06\tvalid_1's l2: 1.94815e+06\n",
      "[328]\ttraining's l2: 1.73969e+06\tvalid_1's l2: 1.94757e+06\n",
      "[329]\ttraining's l2: 1.73927e+06\tvalid_1's l2: 1.9475e+06\n",
      "[330]\ttraining's l2: 1.73848e+06\tvalid_1's l2: 1.94685e+06\n",
      "[331]\ttraining's l2: 1.73783e+06\tvalid_1's l2: 1.94651e+06\n",
      "[332]\ttraining's l2: 1.73751e+06\tvalid_1's l2: 1.94648e+06\n",
      "[333]\ttraining's l2: 1.73688e+06\tvalid_1's l2: 1.94631e+06\n",
      "[334]\ttraining's l2: 1.73652e+06\tvalid_1's l2: 1.94634e+06\n",
      "[335]\ttraining's l2: 1.73545e+06\tvalid_1's l2: 1.94598e+06\n",
      "[336]\ttraining's l2: 1.73473e+06\tvalid_1's l2: 1.94576e+06\n",
      "[337]\ttraining's l2: 1.73446e+06\tvalid_1's l2: 1.9457e+06\n",
      "[338]\ttraining's l2: 1.73415e+06\tvalid_1's l2: 1.94576e+06\n",
      "[339]\ttraining's l2: 1.73375e+06\tvalid_1's l2: 1.94572e+06\n",
      "[340]\ttraining's l2: 1.73312e+06\tvalid_1's l2: 1.94542e+06\n",
      "[341]\ttraining's l2: 1.73281e+06\tvalid_1's l2: 1.94541e+06\n",
      "[342]\ttraining's l2: 1.73251e+06\tvalid_1's l2: 1.9454e+06\n",
      "[343]\ttraining's l2: 1.7322e+06\tvalid_1's l2: 1.94544e+06\n",
      "[344]\ttraining's l2: 1.73198e+06\tvalid_1's l2: 1.94542e+06\n",
      "[345]\ttraining's l2: 1.73175e+06\tvalid_1's l2: 1.94537e+06\n",
      "[346]\ttraining's l2: 1.73133e+06\tvalid_1's l2: 1.94541e+06\n",
      "[347]\ttraining's l2: 1.73066e+06\tvalid_1's l2: 1.94493e+06\n",
      "[348]\ttraining's l2: 1.73006e+06\tvalid_1's l2: 1.94479e+06\n",
      "[349]\ttraining's l2: 1.72953e+06\tvalid_1's l2: 1.94471e+06\n",
      "[350]\ttraining's l2: 1.72922e+06\tvalid_1's l2: 1.94453e+06\n",
      "[351]\ttraining's l2: 1.72891e+06\tvalid_1's l2: 1.94451e+06\n",
      "[352]\ttraining's l2: 1.72844e+06\tvalid_1's l2: 1.94448e+06\n",
      "[353]\ttraining's l2: 1.728e+06\tvalid_1's l2: 1.94426e+06\n",
      "[354]\ttraining's l2: 1.72719e+06\tvalid_1's l2: 1.9438e+06\n",
      "[355]\ttraining's l2: 1.72644e+06\tvalid_1's l2: 1.94361e+06\n",
      "[356]\ttraining's l2: 1.72617e+06\tvalid_1's l2: 1.94371e+06\n",
      "[357]\ttraining's l2: 1.72554e+06\tvalid_1's l2: 1.94334e+06\n",
      "[358]\ttraining's l2: 1.72516e+06\tvalid_1's l2: 1.94315e+06\n",
      "[359]\ttraining's l2: 1.72487e+06\tvalid_1's l2: 1.94317e+06\n",
      "[360]\ttraining's l2: 1.72451e+06\tvalid_1's l2: 1.94323e+06\n",
      "[361]\ttraining's l2: 1.72393e+06\tvalid_1's l2: 1.94267e+06\n",
      "[LightGBM] [Warning] No further splits with positive gain, best gain: -inf\n",
      "[362]\ttraining's l2: 1.72366e+06\tvalid_1's l2: 1.94267e+06\n",
      "[363]\ttraining's l2: 1.72274e+06\tvalid_1's l2: 1.94242e+06\n",
      "[364]\ttraining's l2: 1.72239e+06\tvalid_1's l2: 1.9422e+06\n",
      "[365]\ttraining's l2: 1.72182e+06\tvalid_1's l2: 1.94223e+06\n",
      "[366]\ttraining's l2: 1.7212e+06\tvalid_1's l2: 1.94183e+06\n",
      "[367]\ttraining's l2: 1.72068e+06\tvalid_1's l2: 1.94161e+06\n",
      "[368]\ttraining's l2: 1.71993e+06\tvalid_1's l2: 1.94129e+06\n",
      "[369]\ttraining's l2: 1.71939e+06\tvalid_1's l2: 1.94114e+06\n",
      "[370]\ttraining's l2: 1.71884e+06\tvalid_1's l2: 1.94106e+06\n",
      "[371]\ttraining's l2: 1.71822e+06\tvalid_1's l2: 1.9407e+06\n",
      "[372]\ttraining's l2: 1.71797e+06\tvalid_1's l2: 1.94056e+06\n",
      "[373]\ttraining's l2: 1.71767e+06\tvalid_1's l2: 1.94056e+06\n",
      "[374]\ttraining's l2: 1.71725e+06\tvalid_1's l2: 1.94042e+06\n",
      "[375]\ttraining's l2: 1.71691e+06\tvalid_1's l2: 1.94032e+06\n",
      "[376]\ttraining's l2: 1.71647e+06\tvalid_1's l2: 1.94036e+06\n",
      "[377]\ttraining's l2: 1.71626e+06\tvalid_1's l2: 1.9404e+06\n",
      "[378]\ttraining's l2: 1.71564e+06\tvalid_1's l2: 1.93993e+06\n",
      "[379]\ttraining's l2: 1.71506e+06\tvalid_1's l2: 1.93957e+06\n",
      "[380]\ttraining's l2: 1.71413e+06\tvalid_1's l2: 1.93929e+06\n",
      "[381]\ttraining's l2: 1.71346e+06\tvalid_1's l2: 1.93902e+06\n",
      "[382]\ttraining's l2: 1.71288e+06\tvalid_1's l2: 1.93878e+06\n",
      "[383]\ttraining's l2: 1.7126e+06\tvalid_1's l2: 1.93864e+06\n",
      "[384]\ttraining's l2: 1.71216e+06\tvalid_1's l2: 1.9385e+06\n",
      "[385]\ttraining's l2: 1.71191e+06\tvalid_1's l2: 1.93846e+06\n",
      "[386]\ttraining's l2: 1.71097e+06\tvalid_1's l2: 1.93815e+06\n",
      "[387]\ttraining's l2: 1.71058e+06\tvalid_1's l2: 1.938e+06\n",
      "[388]\ttraining's l2: 1.71012e+06\tvalid_1's l2: 1.93787e+06\n",
      "[389]\ttraining's l2: 1.7093e+06\tvalid_1's l2: 1.93737e+06\n",
      "[390]\ttraining's l2: 1.70877e+06\tvalid_1's l2: 1.93701e+06\n",
      "[391]\ttraining's l2: 1.70844e+06\tvalid_1's l2: 1.93683e+06\n",
      "[392]\ttraining's l2: 1.70787e+06\tvalid_1's l2: 1.93659e+06\n",
      "[393]\ttraining's l2: 1.70752e+06\tvalid_1's l2: 1.93634e+06\n",
      "[394]\ttraining's l2: 1.70693e+06\tvalid_1's l2: 1.93602e+06\n",
      "[395]\ttraining's l2: 1.70658e+06\tvalid_1's l2: 1.93572e+06\n",
      "[396]\ttraining's l2: 1.70627e+06\tvalid_1's l2: 1.93568e+06\n",
      "[397]\ttraining's l2: 1.70573e+06\tvalid_1's l2: 1.9356e+06\n",
      "[398]\ttraining's l2: 1.70509e+06\tvalid_1's l2: 1.93532e+06\n",
      "[399]\ttraining's l2: 1.70484e+06\tvalid_1's l2: 1.93526e+06\n",
      "[400]\ttraining's l2: 1.70446e+06\tvalid_1's l2: 1.93503e+06\n",
      "[401]\ttraining's l2: 1.70405e+06\tvalid_1's l2: 1.93487e+06\n",
      "[402]\ttraining's l2: 1.70345e+06\tvalid_1's l2: 1.93484e+06\n",
      "[403]\ttraining's l2: 1.70278e+06\tvalid_1's l2: 1.93458e+06\n",
      "[404]\ttraining's l2: 1.70253e+06\tvalid_1's l2: 1.93441e+06\n",
      "[405]\ttraining's l2: 1.7023e+06\tvalid_1's l2: 1.93445e+06\n",
      "[406]\ttraining's l2: 1.70208e+06\tvalid_1's l2: 1.93435e+06\n",
      "[407]\ttraining's l2: 1.70156e+06\tvalid_1's l2: 1.93422e+06\n",
      "[408]\ttraining's l2: 1.70079e+06\tvalid_1's l2: 1.93388e+06\n",
      "[409]\ttraining's l2: 1.70053e+06\tvalid_1's l2: 1.93375e+06\n",
      "[410]\ttraining's l2: 1.70014e+06\tvalid_1's l2: 1.93379e+06\n",
      "[411]\ttraining's l2: 1.6999e+06\tvalid_1's l2: 1.9338e+06\n",
      "[412]\ttraining's l2: 1.69951e+06\tvalid_1's l2: 1.93383e+06\n",
      "[413]\ttraining's l2: 1.69923e+06\tvalid_1's l2: 1.93367e+06\n",
      "[414]\ttraining's l2: 1.69868e+06\tvalid_1's l2: 1.9335e+06\n",
      "[415]\ttraining's l2: 1.69836e+06\tvalid_1's l2: 1.93338e+06\n",
      "[416]\ttraining's l2: 1.69793e+06\tvalid_1's l2: 1.93318e+06\n",
      "[417]\ttraining's l2: 1.6977e+06\tvalid_1's l2: 1.9331e+06\n",
      "[418]\ttraining's l2: 1.69734e+06\tvalid_1's l2: 1.93309e+06\n",
      "[419]\ttraining's l2: 1.69684e+06\tvalid_1's l2: 1.93302e+06\n",
      "[420]\ttraining's l2: 1.69639e+06\tvalid_1's l2: 1.93285e+06\n",
      "[421]\ttraining's l2: 1.69601e+06\tvalid_1's l2: 1.93275e+06\n",
      "[422]\ttraining's l2: 1.69559e+06\tvalid_1's l2: 1.93258e+06\n",
      "[423]\ttraining's l2: 1.6952e+06\tvalid_1's l2: 1.9323e+06\n",
      "[424]\ttraining's l2: 1.69472e+06\tvalid_1's l2: 1.9319e+06\n",
      "[425]\ttraining's l2: 1.69428e+06\tvalid_1's l2: 1.93177e+06\n",
      "[426]\ttraining's l2: 1.6941e+06\tvalid_1's l2: 1.93165e+06\n",
      "[427]\ttraining's l2: 1.69344e+06\tvalid_1's l2: 1.93155e+06\n",
      "[428]\ttraining's l2: 1.6931e+06\tvalid_1's l2: 1.93157e+06\n",
      "[429]\ttraining's l2: 1.69284e+06\tvalid_1's l2: 1.93145e+06\n",
      "[430]\ttraining's l2: 1.69261e+06\tvalid_1's l2: 1.93131e+06\n",
      "[431]\ttraining's l2: 1.6923e+06\tvalid_1's l2: 1.93117e+06\n",
      "[432]\ttraining's l2: 1.69202e+06\tvalid_1's l2: 1.9312e+06\n",
      "[433]\ttraining's l2: 1.69175e+06\tvalid_1's l2: 1.93109e+06\n",
      "[434]\ttraining's l2: 1.69137e+06\tvalid_1's l2: 1.93103e+06\n",
      "[435]\ttraining's l2: 1.69088e+06\tvalid_1's l2: 1.93104e+06\n",
      "[436]\ttraining's l2: 1.6907e+06\tvalid_1's l2: 1.93103e+06\n",
      "[437]\ttraining's l2: 1.6901e+06\tvalid_1's l2: 1.93079e+06\n",
      "[438]\ttraining's l2: 1.68969e+06\tvalid_1's l2: 1.9306e+06\n",
      "[439]\ttraining's l2: 1.68923e+06\tvalid_1's l2: 1.93038e+06\n",
      "[440]\ttraining's l2: 1.6889e+06\tvalid_1's l2: 1.9303e+06\n",
      "[441]\ttraining's l2: 1.68814e+06\tvalid_1's l2: 1.93019e+06\n",
      "[442]\ttraining's l2: 1.68765e+06\tvalid_1's l2: 1.93021e+06\n",
      "[443]\ttraining's l2: 1.68701e+06\tvalid_1's l2: 1.93011e+06\n",
      "[444]\ttraining's l2: 1.68668e+06\tvalid_1's l2: 1.93015e+06\n",
      "[445]\ttraining's l2: 1.68598e+06\tvalid_1's l2: 1.92989e+06\n",
      "[446]\ttraining's l2: 1.68557e+06\tvalid_1's l2: 1.92976e+06\n",
      "[447]\ttraining's l2: 1.68483e+06\tvalid_1's l2: 1.92922e+06\n",
      "[448]\ttraining's l2: 1.68445e+06\tvalid_1's l2: 1.92913e+06\n",
      "[449]\ttraining's l2: 1.68425e+06\tvalid_1's l2: 1.92908e+06\n",
      "[450]\ttraining's l2: 1.68377e+06\tvalid_1's l2: 1.92886e+06\n",
      "[451]\ttraining's l2: 1.68354e+06\tvalid_1's l2: 1.92887e+06\n",
      "[452]\ttraining's l2: 1.68335e+06\tvalid_1's l2: 1.92902e+06\n",
      "[453]\ttraining's l2: 1.68282e+06\tvalid_1's l2: 1.92899e+06\n",
      "[454]\ttraining's l2: 1.68232e+06\tvalid_1's l2: 1.9287e+06\n",
      "[455]\ttraining's l2: 1.68206e+06\tvalid_1's l2: 1.92871e+06\n",
      "[456]\ttraining's l2: 1.6818e+06\tvalid_1's l2: 1.92869e+06\n",
      "[457]\ttraining's l2: 1.68154e+06\tvalid_1's l2: 1.92866e+06\n",
      "[458]\ttraining's l2: 1.68109e+06\tvalid_1's l2: 1.92845e+06\n",
      "[459]\ttraining's l2: 1.68086e+06\tvalid_1's l2: 1.92847e+06\n",
      "[460]\ttraining's l2: 1.68069e+06\tvalid_1's l2: 1.92847e+06\n",
      "[461]\ttraining's l2: 1.68023e+06\tvalid_1's l2: 1.92821e+06\n",
      "[462]\ttraining's l2: 1.67963e+06\tvalid_1's l2: 1.92809e+06\n",
      "[463]\ttraining's l2: 1.67919e+06\tvalid_1's l2: 1.9281e+06\n",
      "[464]\ttraining's l2: 1.67865e+06\tvalid_1's l2: 1.92795e+06\n",
      "[465]\ttraining's l2: 1.67849e+06\tvalid_1's l2: 1.92793e+06\n",
      "[466]\ttraining's l2: 1.67794e+06\tvalid_1's l2: 1.92772e+06\n",
      "[467]\ttraining's l2: 1.67763e+06\tvalid_1's l2: 1.9276e+06\n",
      "[468]\ttraining's l2: 1.67742e+06\tvalid_1's l2: 1.92753e+06\n",
      "[469]\ttraining's l2: 1.67693e+06\tvalid_1's l2: 1.92748e+06\n",
      "[470]\ttraining's l2: 1.67672e+06\tvalid_1's l2: 1.92743e+06\n",
      "[471]\ttraining's l2: 1.67636e+06\tvalid_1's l2: 1.92738e+06\n",
      "[472]\ttraining's l2: 1.67574e+06\tvalid_1's l2: 1.92706e+06\n",
      "[473]\ttraining's l2: 1.6756e+06\tvalid_1's l2: 1.92705e+06\n",
      "[474]\ttraining's l2: 1.67534e+06\tvalid_1's l2: 1.92697e+06\n",
      "[475]\ttraining's l2: 1.67513e+06\tvalid_1's l2: 1.92699e+06\n",
      "[476]\ttraining's l2: 1.67488e+06\tvalid_1's l2: 1.92711e+06\n",
      "[477]\ttraining's l2: 1.67446e+06\tvalid_1's l2: 1.92696e+06\n",
      "[478]\ttraining's l2: 1.67412e+06\tvalid_1's l2: 1.9267e+06\n",
      "[479]\ttraining's l2: 1.67377e+06\tvalid_1's l2: 1.92666e+06\n",
      "[480]\ttraining's l2: 1.67343e+06\tvalid_1's l2: 1.92679e+06\n",
      "[481]\ttraining's l2: 1.67276e+06\tvalid_1's l2: 1.92658e+06\n",
      "[482]\ttraining's l2: 1.67207e+06\tvalid_1's l2: 1.92606e+06\n",
      "[483]\ttraining's l2: 1.67169e+06\tvalid_1's l2: 1.92582e+06\n",
      "[484]\ttraining's l2: 1.67141e+06\tvalid_1's l2: 1.92579e+06\n",
      "[485]\ttraining's l2: 1.67101e+06\tvalid_1's l2: 1.9258e+06\n",
      "[486]\ttraining's l2: 1.67062e+06\tvalid_1's l2: 1.92559e+06\n",
      "[487]\ttraining's l2: 1.67037e+06\tvalid_1's l2: 1.92563e+06\n",
      "[488]\ttraining's l2: 1.6702e+06\tvalid_1's l2: 1.92562e+06\n",
      "[489]\ttraining's l2: 1.66986e+06\tvalid_1's l2: 1.92542e+06\n",
      "[490]\ttraining's l2: 1.66934e+06\tvalid_1's l2: 1.92533e+06\n",
      "[491]\ttraining's l2: 1.66898e+06\tvalid_1's l2: 1.92532e+06\n",
      "[492]\ttraining's l2: 1.66832e+06\tvalid_1's l2: 1.92519e+06\n",
      "[493]\ttraining's l2: 1.66806e+06\tvalid_1's l2: 1.92513e+06\n",
      "[494]\ttraining's l2: 1.66753e+06\tvalid_1's l2: 1.92493e+06\n",
      "[495]\ttraining's l2: 1.6672e+06\tvalid_1's l2: 1.92493e+06\n",
      "[496]\ttraining's l2: 1.66665e+06\tvalid_1's l2: 1.92489e+06\n",
      "[497]\ttraining's l2: 1.66613e+06\tvalid_1's l2: 1.92454e+06\n",
      "[498]\ttraining's l2: 1.66599e+06\tvalid_1's l2: 1.92453e+06\n",
      "[499]\ttraining's l2: 1.66572e+06\tvalid_1's l2: 1.92452e+06\n",
      "[500]\ttraining's l2: 1.66546e+06\tvalid_1's l2: 1.9245e+06\n",
      "[501]\ttraining's l2: 1.6653e+06\tvalid_1's l2: 1.92452e+06\n",
      "[502]\ttraining's l2: 1.66468e+06\tvalid_1's l2: 1.92437e+06\n",
      "[503]\ttraining's l2: 1.6643e+06\tvalid_1's l2: 1.92421e+06\n",
      "[504]\ttraining's l2: 1.6639e+06\tvalid_1's l2: 1.92401e+06\n",
      "[505]\ttraining's l2: 1.66362e+06\tvalid_1's l2: 1.92395e+06\n",
      "[506]\ttraining's l2: 1.66334e+06\tvalid_1's l2: 1.92389e+06\n",
      "[507]\ttraining's l2: 1.66277e+06\tvalid_1's l2: 1.92362e+06\n",
      "[508]\ttraining's l2: 1.66254e+06\tvalid_1's l2: 1.92346e+06\n",
      "[509]\ttraining's l2: 1.66209e+06\tvalid_1's l2: 1.92334e+06\n",
      "[510]\ttraining's l2: 1.66182e+06\tvalid_1's l2: 1.92327e+06\n",
      "[511]\ttraining's l2: 1.6615e+06\tvalid_1's l2: 1.9232e+06\n",
      "[512]\ttraining's l2: 1.6609e+06\tvalid_1's l2: 1.92286e+06\n",
      "[513]\ttraining's l2: 1.66016e+06\tvalid_1's l2: 1.92271e+06\n",
      "[514]\ttraining's l2: 1.65962e+06\tvalid_1's l2: 1.92244e+06\n",
      "[515]\ttraining's l2: 1.65936e+06\tvalid_1's l2: 1.92235e+06\n",
      "[516]\ttraining's l2: 1.65876e+06\tvalid_1's l2: 1.92232e+06\n",
      "[517]\ttraining's l2: 1.65852e+06\tvalid_1's l2: 1.92227e+06\n",
      "[518]\ttraining's l2: 1.65827e+06\tvalid_1's l2: 1.92227e+06\n",
      "[LightGBM] [Warning] No further splits with positive gain, best gain: -inf\n",
      "[519]\ttraining's l2: 1.65807e+06\tvalid_1's l2: 1.92218e+06\n",
      "[520]\ttraining's l2: 1.65767e+06\tvalid_1's l2: 1.9222e+06\n",
      "[521]\ttraining's l2: 1.65721e+06\tvalid_1's l2: 1.9221e+06\n",
      "[522]\ttraining's l2: 1.6568e+06\tvalid_1's l2: 1.92192e+06\n",
      "[523]\ttraining's l2: 1.65648e+06\tvalid_1's l2: 1.92185e+06\n",
      "[524]\ttraining's l2: 1.65613e+06\tvalid_1's l2: 1.92176e+06\n",
      "[525]\ttraining's l2: 1.65561e+06\tvalid_1's l2: 1.92141e+06\n",
      "[526]\ttraining's l2: 1.65519e+06\tvalid_1's l2: 1.92144e+06\n",
      "[527]\ttraining's l2: 1.65466e+06\tvalid_1's l2: 1.92137e+06\n",
      "[528]\ttraining's l2: 1.6545e+06\tvalid_1's l2: 1.92142e+06\n",
      "[529]\ttraining's l2: 1.65402e+06\tvalid_1's l2: 1.92132e+06\n",
      "[530]\ttraining's l2: 1.65385e+06\tvalid_1's l2: 1.92133e+06\n",
      "[531]\ttraining's l2: 1.65342e+06\tvalid_1's l2: 1.9212e+06\n",
      "[532]\ttraining's l2: 1.6529e+06\tvalid_1's l2: 1.92088e+06\n",
      "[533]\ttraining's l2: 1.6524e+06\tvalid_1's l2: 1.92082e+06\n",
      "[534]\ttraining's l2: 1.65206e+06\tvalid_1's l2: 1.92073e+06\n",
      "[535]\ttraining's l2: 1.65189e+06\tvalid_1's l2: 1.92072e+06\n",
      "[536]\ttraining's l2: 1.65159e+06\tvalid_1's l2: 1.92054e+06\n",
      "[537]\ttraining's l2: 1.65123e+06\tvalid_1's l2: 1.92066e+06\n",
      "[538]\ttraining's l2: 1.65077e+06\tvalid_1's l2: 1.92056e+06\n",
      "[539]\ttraining's l2: 1.65046e+06\tvalid_1's l2: 1.92055e+06\n",
      "[540]\ttraining's l2: 1.64989e+06\tvalid_1's l2: 1.92038e+06\n",
      "[541]\ttraining's l2: 1.6495e+06\tvalid_1's l2: 1.92034e+06\n",
      "[542]\ttraining's l2: 1.64901e+06\tvalid_1's l2: 1.92009e+06\n",
      "[543]\ttraining's l2: 1.64863e+06\tvalid_1's l2: 1.91992e+06\n",
      "[544]\ttraining's l2: 1.6482e+06\tvalid_1's l2: 1.91967e+06\n",
      "[545]\ttraining's l2: 1.64786e+06\tvalid_1's l2: 1.91955e+06\n",
      "[546]\ttraining's l2: 1.64758e+06\tvalid_1's l2: 1.91947e+06\n",
      "[547]\ttraining's l2: 1.64734e+06\tvalid_1's l2: 1.91951e+06\n",
      "[548]\ttraining's l2: 1.64701e+06\tvalid_1's l2: 1.91935e+06\n",
      "[549]\ttraining's l2: 1.64682e+06\tvalid_1's l2: 1.91927e+06\n",
      "[550]\ttraining's l2: 1.64643e+06\tvalid_1's l2: 1.91891e+06\n",
      "[551]\ttraining's l2: 1.64624e+06\tvalid_1's l2: 1.91891e+06\n",
      "[552]\ttraining's l2: 1.64599e+06\tvalid_1's l2: 1.9189e+06\n",
      "[553]\ttraining's l2: 1.64575e+06\tvalid_1's l2: 1.91879e+06\n",
      "[554]\ttraining's l2: 1.64521e+06\tvalid_1's l2: 1.91865e+06\n",
      "[555]\ttraining's l2: 1.64474e+06\tvalid_1's l2: 1.91862e+06\n",
      "[556]\ttraining's l2: 1.64449e+06\tvalid_1's l2: 1.91858e+06\n",
      "[557]\ttraining's l2: 1.64427e+06\tvalid_1's l2: 1.91872e+06\n",
      "[558]\ttraining's l2: 1.64377e+06\tvalid_1's l2: 1.9185e+06\n",
      "[559]\ttraining's l2: 1.64352e+06\tvalid_1's l2: 1.91839e+06\n",
      "[560]\ttraining's l2: 1.64323e+06\tvalid_1's l2: 1.91824e+06\n",
      "[561]\ttraining's l2: 1.64294e+06\tvalid_1's l2: 1.91816e+06\n",
      "[562]\ttraining's l2: 1.64252e+06\tvalid_1's l2: 1.91815e+06\n",
      "[563]\ttraining's l2: 1.64226e+06\tvalid_1's l2: 1.91819e+06\n",
      "[564]\ttraining's l2: 1.64185e+06\tvalid_1's l2: 1.91788e+06\n",
      "[565]\ttraining's l2: 1.64132e+06\tvalid_1's l2: 1.91797e+06\n",
      "[566]\ttraining's l2: 1.64087e+06\tvalid_1's l2: 1.9179e+06\n",
      "[567]\ttraining's l2: 1.64052e+06\tvalid_1's l2: 1.91792e+06\n",
      "[568]\ttraining's l2: 1.64028e+06\tvalid_1's l2: 1.9178e+06\n",
      "[569]\ttraining's l2: 1.63997e+06\tvalid_1's l2: 1.91778e+06\n",
      "[570]\ttraining's l2: 1.63977e+06\tvalid_1's l2: 1.91778e+06\n",
      "[571]\ttraining's l2: 1.6392e+06\tvalid_1's l2: 1.91746e+06\n",
      "[572]\ttraining's l2: 1.6387e+06\tvalid_1's l2: 1.91726e+06\n",
      "[573]\ttraining's l2: 1.6382e+06\tvalid_1's l2: 1.9171e+06\n",
      "[574]\ttraining's l2: 1.63789e+06\tvalid_1's l2: 1.9169e+06\n",
      "[LightGBM] [Warning] No further splits with positive gain, best gain: -inf\n",
      "[575]\ttraining's l2: 1.63786e+06\tvalid_1's l2: 1.91686e+06\n",
      "[576]\ttraining's l2: 1.63748e+06\tvalid_1's l2: 1.91684e+06\n",
      "[577]\ttraining's l2: 1.6371e+06\tvalid_1's l2: 1.91668e+06\n",
      "[578]\ttraining's l2: 1.6369e+06\tvalid_1's l2: 1.91678e+06\n",
      "[579]\ttraining's l2: 1.63669e+06\tvalid_1's l2: 1.91672e+06\n",
      "[580]\ttraining's l2: 1.63649e+06\tvalid_1's l2: 1.91671e+06\n",
      "[581]\ttraining's l2: 1.63631e+06\tvalid_1's l2: 1.91669e+06\n",
      "[582]\ttraining's l2: 1.63621e+06\tvalid_1's l2: 1.9167e+06\n",
      "[583]\ttraining's l2: 1.63602e+06\tvalid_1's l2: 1.91647e+06\n",
      "[584]\ttraining's l2: 1.63581e+06\tvalid_1's l2: 1.91665e+06\n",
      "[585]\ttraining's l2: 1.63541e+06\tvalid_1's l2: 1.91651e+06\n",
      "[586]\ttraining's l2: 1.63503e+06\tvalid_1's l2: 1.91639e+06\n",
      "[587]\ttraining's l2: 1.63482e+06\tvalid_1's l2: 1.91641e+06\n",
      "[588]\ttraining's l2: 1.63467e+06\tvalid_1's l2: 1.91641e+06\n",
      "[589]\ttraining's l2: 1.63452e+06\tvalid_1's l2: 1.91644e+06\n",
      "[590]\ttraining's l2: 1.63439e+06\tvalid_1's l2: 1.91646e+06\n",
      "[591]\ttraining's l2: 1.63423e+06\tvalid_1's l2: 1.91643e+06\n",
      "[592]\ttraining's l2: 1.63392e+06\tvalid_1's l2: 1.91646e+06\n",
      "[593]\ttraining's l2: 1.63369e+06\tvalid_1's l2: 1.91647e+06\n",
      "[594]\ttraining's l2: 1.63325e+06\tvalid_1's l2: 1.91645e+06\n",
      "[595]\ttraining's l2: 1.63286e+06\tvalid_1's l2: 1.91629e+06\n",
      "[596]\ttraining's l2: 1.63238e+06\tvalid_1's l2: 1.91609e+06\n",
      "[597]\ttraining's l2: 1.63188e+06\tvalid_1's l2: 1.91608e+06\n",
      "[598]\ttraining's l2: 1.63147e+06\tvalid_1's l2: 1.91592e+06\n",
      "[599]\ttraining's l2: 1.63095e+06\tvalid_1's l2: 1.91557e+06\n",
      "[600]\ttraining's l2: 1.63073e+06\tvalid_1's l2: 1.91556e+06\n",
      "[601]\ttraining's l2: 1.63036e+06\tvalid_1's l2: 1.91562e+06\n",
      "[602]\ttraining's l2: 1.63012e+06\tvalid_1's l2: 1.91553e+06\n",
      "[603]\ttraining's l2: 1.62982e+06\tvalid_1's l2: 1.91543e+06\n",
      "[604]\ttraining's l2: 1.62959e+06\tvalid_1's l2: 1.91541e+06\n",
      "[605]\ttraining's l2: 1.62908e+06\tvalid_1's l2: 1.91516e+06\n",
      "[606]\ttraining's l2: 1.62872e+06\tvalid_1's l2: 1.91509e+06\n",
      "[607]\ttraining's l2: 1.62837e+06\tvalid_1's l2: 1.91485e+06\n",
      "[608]\ttraining's l2: 1.62809e+06\tvalid_1's l2: 1.91487e+06\n",
      "[609]\ttraining's l2: 1.62779e+06\tvalid_1's l2: 1.91477e+06\n",
      "[610]\ttraining's l2: 1.62734e+06\tvalid_1's l2: 1.91487e+06\n",
      "[611]\ttraining's l2: 1.62701e+06\tvalid_1's l2: 1.91496e+06\n",
      "[612]\ttraining's l2: 1.62674e+06\tvalid_1's l2: 1.91482e+06\n",
      "[613]\ttraining's l2: 1.62632e+06\tvalid_1's l2: 1.91499e+06\n",
      "[614]\ttraining's l2: 1.62607e+06\tvalid_1's l2: 1.91492e+06\n",
      "[615]\ttraining's l2: 1.62545e+06\tvalid_1's l2: 1.91475e+06\n",
      "[616]\ttraining's l2: 1.62499e+06\tvalid_1's l2: 1.91478e+06\n",
      "[617]\ttraining's l2: 1.6244e+06\tvalid_1's l2: 1.91438e+06\n",
      "[618]\ttraining's l2: 1.6241e+06\tvalid_1's l2: 1.91436e+06\n",
      "[619]\ttraining's l2: 1.62367e+06\tvalid_1's l2: 1.91402e+06\n",
      "[620]\ttraining's l2: 1.62349e+06\tvalid_1's l2: 1.91403e+06\n",
      "[621]\ttraining's l2: 1.62326e+06\tvalid_1's l2: 1.91393e+06\n",
      "[622]\ttraining's l2: 1.62291e+06\tvalid_1's l2: 1.9139e+06\n",
      "[623]\ttraining's l2: 1.6227e+06\tvalid_1's l2: 1.91377e+06\n",
      "[624]\ttraining's l2: 1.62232e+06\tvalid_1's l2: 1.9136e+06\n",
      "[625]\ttraining's l2: 1.62208e+06\tvalid_1's l2: 1.91357e+06\n",
      "[626]\ttraining's l2: 1.62193e+06\tvalid_1's l2: 1.91357e+06\n",
      "[627]\ttraining's l2: 1.62165e+06\tvalid_1's l2: 1.91353e+06\n",
      "[628]\ttraining's l2: 1.62119e+06\tvalid_1's l2: 1.91341e+06\n",
      "[629]\ttraining's l2: 1.62082e+06\tvalid_1's l2: 1.91324e+06\n",
      "[630]\ttraining's l2: 1.62049e+06\tvalid_1's l2: 1.9131e+06\n",
      "[631]\ttraining's l2: 1.6202e+06\tvalid_1's l2: 1.913e+06\n",
      "[632]\ttraining's l2: 1.62002e+06\tvalid_1's l2: 1.91307e+06\n",
      "[633]\ttraining's l2: 1.61983e+06\tvalid_1's l2: 1.91314e+06\n",
      "[634]\ttraining's l2: 1.61945e+06\tvalid_1's l2: 1.91313e+06\n",
      "[635]\ttraining's l2: 1.61912e+06\tvalid_1's l2: 1.91292e+06\n",
      "[636]\ttraining's l2: 1.61855e+06\tvalid_1's l2: 1.91262e+06\n",
      "[637]\ttraining's l2: 1.61797e+06\tvalid_1's l2: 1.91226e+06\n",
      "[638]\ttraining's l2: 1.61757e+06\tvalid_1's l2: 1.91201e+06\n",
      "[639]\ttraining's l2: 1.61717e+06\tvalid_1's l2: 1.91188e+06\n",
      "[640]\ttraining's l2: 1.61694e+06\tvalid_1's l2: 1.91181e+06\n",
      "[641]\ttraining's l2: 1.61679e+06\tvalid_1's l2: 1.91188e+06\n",
      "[642]\ttraining's l2: 1.61656e+06\tvalid_1's l2: 1.91174e+06\n",
      "[643]\ttraining's l2: 1.61589e+06\tvalid_1's l2: 1.91135e+06\n",
      "[644]\ttraining's l2: 1.61556e+06\tvalid_1's l2: 1.91118e+06\n",
      "[645]\ttraining's l2: 1.61536e+06\tvalid_1's l2: 1.91115e+06\n",
      "[646]\ttraining's l2: 1.6151e+06\tvalid_1's l2: 1.91118e+06\n",
      "[647]\ttraining's l2: 1.61495e+06\tvalid_1's l2: 1.91119e+06\n",
      "[648]\ttraining's l2: 1.61478e+06\tvalid_1's l2: 1.91118e+06\n",
      "[649]\ttraining's l2: 1.61426e+06\tvalid_1's l2: 1.91114e+06\n",
      "[650]\ttraining's l2: 1.614e+06\tvalid_1's l2: 1.91089e+06\n",
      "[651]\ttraining's l2: 1.61356e+06\tvalid_1's l2: 1.91061e+06\n",
      "[652]\ttraining's l2: 1.61315e+06\tvalid_1's l2: 1.91049e+06\n",
      "[653]\ttraining's l2: 1.61285e+06\tvalid_1's l2: 1.9105e+06\n",
      "[654]\ttraining's l2: 1.61271e+06\tvalid_1's l2: 1.9105e+06\n",
      "[655]\ttraining's l2: 1.6125e+06\tvalid_1's l2: 1.91043e+06\n",
      "[656]\ttraining's l2: 1.61234e+06\tvalid_1's l2: 1.91049e+06\n",
      "[657]\ttraining's l2: 1.6122e+06\tvalid_1's l2: 1.91058e+06\n",
      "[658]\ttraining's l2: 1.61187e+06\tvalid_1's l2: 1.91041e+06\n",
      "[659]\ttraining's l2: 1.61167e+06\tvalid_1's l2: 1.9103e+06\n",
      "[660]\ttraining's l2: 1.61133e+06\tvalid_1's l2: 1.91022e+06\n",
      "[661]\ttraining's l2: 1.61096e+06\tvalid_1's l2: 1.91013e+06\n",
      "[662]\ttraining's l2: 1.61055e+06\tvalid_1's l2: 1.91005e+06\n",
      "[663]\ttraining's l2: 1.61021e+06\tvalid_1's l2: 1.9099e+06\n",
      "[664]\ttraining's l2: 1.61006e+06\tvalid_1's l2: 1.90993e+06\n",
      "[665]\ttraining's l2: 1.60981e+06\tvalid_1's l2: 1.91005e+06\n",
      "[666]\ttraining's l2: 1.60969e+06\tvalid_1's l2: 1.91011e+06\n",
      "[667]\ttraining's l2: 1.60944e+06\tvalid_1's l2: 1.90994e+06\n",
      "[668]\ttraining's l2: 1.60911e+06\tvalid_1's l2: 1.90985e+06\n",
      "[669]\ttraining's l2: 1.60871e+06\tvalid_1's l2: 1.90965e+06\n",
      "[670]\ttraining's l2: 1.60843e+06\tvalid_1's l2: 1.90973e+06\n",
      "[671]\ttraining's l2: 1.6082e+06\tvalid_1's l2: 1.90972e+06\n",
      "[672]\ttraining's l2: 1.60801e+06\tvalid_1's l2: 1.90978e+06\n",
      "[673]\ttraining's l2: 1.60769e+06\tvalid_1's l2: 1.90966e+06\n",
      "[674]\ttraining's l2: 1.60713e+06\tvalid_1's l2: 1.9092e+06\n",
      "[675]\ttraining's l2: 1.60687e+06\tvalid_1's l2: 1.9092e+06\n",
      "[676]\ttraining's l2: 1.60661e+06\tvalid_1's l2: 1.9093e+06\n",
      "[677]\ttraining's l2: 1.60643e+06\tvalid_1's l2: 1.90917e+06\n",
      "[678]\ttraining's l2: 1.60604e+06\tvalid_1's l2: 1.90917e+06\n",
      "[679]\ttraining's l2: 1.60577e+06\tvalid_1's l2: 1.90929e+06\n",
      "[680]\ttraining's l2: 1.60549e+06\tvalid_1's l2: 1.90945e+06\n",
      "[681]\ttraining's l2: 1.60526e+06\tvalid_1's l2: 1.90948e+06\n",
      "[682]\ttraining's l2: 1.60497e+06\tvalid_1's l2: 1.90945e+06\n",
      "[683]\ttraining's l2: 1.60462e+06\tvalid_1's l2: 1.90931e+06\n",
      "[684]\ttraining's l2: 1.60447e+06\tvalid_1's l2: 1.9093e+06\n",
      "[685]\ttraining's l2: 1.60393e+06\tvalid_1's l2: 1.90928e+06\n",
      "[686]\ttraining's l2: 1.60375e+06\tvalid_1's l2: 1.9092e+06\n",
      "[687]\ttraining's l2: 1.60316e+06\tvalid_1's l2: 1.90895e+06\n",
      "[688]\ttraining's l2: 1.60287e+06\tvalid_1's l2: 1.90887e+06\n",
      "[689]\ttraining's l2: 1.60273e+06\tvalid_1's l2: 1.90881e+06\n",
      "[690]\ttraining's l2: 1.60262e+06\tvalid_1's l2: 1.90874e+06\n",
      "[691]\ttraining's l2: 1.60224e+06\tvalid_1's l2: 1.90889e+06\n",
      "[692]\ttraining's l2: 1.60199e+06\tvalid_1's l2: 1.90905e+06\n",
      "[693]\ttraining's l2: 1.60186e+06\tvalid_1's l2: 1.90919e+06\n",
      "[694]\ttraining's l2: 1.60162e+06\tvalid_1's l2: 1.90934e+06\n",
      "[695]\ttraining's l2: 1.60152e+06\tvalid_1's l2: 1.9094e+06\n",
      "[696]\ttraining's l2: 1.60112e+06\tvalid_1's l2: 1.90935e+06\n",
      "[697]\ttraining's l2: 1.60087e+06\tvalid_1's l2: 1.90948e+06\n",
      "[698]\ttraining's l2: 1.60071e+06\tvalid_1's l2: 1.90948e+06\n",
      "[699]\ttraining's l2: 1.60058e+06\tvalid_1's l2: 1.90947e+06\n",
      "[700]\ttraining's l2: 1.60034e+06\tvalid_1's l2: 1.90943e+06\n",
      "[701]\ttraining's l2: 1.60016e+06\tvalid_1's l2: 1.90946e+06\n",
      "[702]\ttraining's l2: 1.60001e+06\tvalid_1's l2: 1.90951e+06\n",
      "[703]\ttraining's l2: 1.59975e+06\tvalid_1's l2: 1.90975e+06\n",
      "[704]\ttraining's l2: 1.59936e+06\tvalid_1's l2: 1.9098e+06\n",
      "[705]\ttraining's l2: 1.59916e+06\tvalid_1's l2: 1.90972e+06\n",
      "[706]\ttraining's l2: 1.59869e+06\tvalid_1's l2: 1.90968e+06\n",
      "[707]\ttraining's l2: 1.59833e+06\tvalid_1's l2: 1.9097e+06\n",
      "[708]\ttraining's l2: 1.59805e+06\tvalid_1's l2: 1.9095e+06\n",
      "[709]\ttraining's l2: 1.59792e+06\tvalid_1's l2: 1.90958e+06\n",
      "[710]\ttraining's l2: 1.59753e+06\tvalid_1's l2: 1.90948e+06\n",
      "[711]\ttraining's l2: 1.59739e+06\tvalid_1's l2: 1.90943e+06\n",
      "[712]\ttraining's l2: 1.59705e+06\tvalid_1's l2: 1.90943e+06\n",
      "[713]\ttraining's l2: 1.59652e+06\tvalid_1's l2: 1.90915e+06\n",
      "[714]\ttraining's l2: 1.5964e+06\tvalid_1's l2: 1.90915e+06\n",
      "[715]\ttraining's l2: 1.59623e+06\tvalid_1's l2: 1.90925e+06\n",
      "[716]\ttraining's l2: 1.59613e+06\tvalid_1's l2: 1.90927e+06\n",
      "[717]\ttraining's l2: 1.59581e+06\tvalid_1's l2: 1.90918e+06\n",
      "[718]\ttraining's l2: 1.59549e+06\tvalid_1's l2: 1.90904e+06\n",
      "[719]\ttraining's l2: 1.59531e+06\tvalid_1's l2: 1.90905e+06\n",
      "[720]\ttraining's l2: 1.59519e+06\tvalid_1's l2: 1.90903e+06\n",
      "[721]\ttraining's l2: 1.59502e+06\tvalid_1's l2: 1.90909e+06\n",
      "[722]\ttraining's l2: 1.59452e+06\tvalid_1's l2: 1.90897e+06\n",
      "[723]\ttraining's l2: 1.59444e+06\tvalid_1's l2: 1.90898e+06\n",
      "[724]\ttraining's l2: 1.59426e+06\tvalid_1's l2: 1.90899e+06\n",
      "[725]\ttraining's l2: 1.59409e+06\tvalid_1's l2: 1.90902e+06\n",
      "[726]\ttraining's l2: 1.5939e+06\tvalid_1's l2: 1.90904e+06\n",
      "[727]\ttraining's l2: 1.59329e+06\tvalid_1's l2: 1.9086e+06\n",
      "[728]\ttraining's l2: 1.59287e+06\tvalid_1's l2: 1.90847e+06\n",
      "[729]\ttraining's l2: 1.59272e+06\tvalid_1's l2: 1.90844e+06\n",
      "[730]\ttraining's l2: 1.59249e+06\tvalid_1's l2: 1.90858e+06\n",
      "[731]\ttraining's l2: 1.59228e+06\tvalid_1's l2: 1.90857e+06\n",
      "[732]\ttraining's l2: 1.59214e+06\tvalid_1's l2: 1.90845e+06\n",
      "[733]\ttraining's l2: 1.59204e+06\tvalid_1's l2: 1.90836e+06\n",
      "[734]\ttraining's l2: 1.59189e+06\tvalid_1's l2: 1.90841e+06\n",
      "[735]\ttraining's l2: 1.5917e+06\tvalid_1's l2: 1.90845e+06\n",
      "[736]\ttraining's l2: 1.59132e+06\tvalid_1's l2: 1.90839e+06\n",
      "[737]\ttraining's l2: 1.59094e+06\tvalid_1's l2: 1.90849e+06\n",
      "[738]\ttraining's l2: 1.59052e+06\tvalid_1's l2: 1.90836e+06\n",
      "[739]\ttraining's l2: 1.59034e+06\tvalid_1's l2: 1.90824e+06\n",
      "[740]\ttraining's l2: 1.59023e+06\tvalid_1's l2: 1.90824e+06\n",
      "[741]\ttraining's l2: 1.58976e+06\tvalid_1's l2: 1.90813e+06\n",
      "[742]\ttraining's l2: 1.58937e+06\tvalid_1's l2: 1.90795e+06\n",
      "[743]\ttraining's l2: 1.58928e+06\tvalid_1's l2: 1.90795e+06\n",
      "[744]\ttraining's l2: 1.58916e+06\tvalid_1's l2: 1.90805e+06\n",
      "[745]\ttraining's l2: 1.58891e+06\tvalid_1's l2: 1.90801e+06\n",
      "[746]\ttraining's l2: 1.58877e+06\tvalid_1's l2: 1.90803e+06\n",
      "[747]\ttraining's l2: 1.58847e+06\tvalid_1's l2: 1.90794e+06\n",
      "[748]\ttraining's l2: 1.58836e+06\tvalid_1's l2: 1.90805e+06\n",
      "[749]\ttraining's l2: 1.58781e+06\tvalid_1's l2: 1.90771e+06\n",
      "[750]\ttraining's l2: 1.58754e+06\tvalid_1's l2: 1.90768e+06\n",
      "[751]\ttraining's l2: 1.58737e+06\tvalid_1's l2: 1.90765e+06\n",
      "[752]\ttraining's l2: 1.58724e+06\tvalid_1's l2: 1.90758e+06\n",
      "[753]\ttraining's l2: 1.58698e+06\tvalid_1's l2: 1.90742e+06\n",
      "[754]\ttraining's l2: 1.58675e+06\tvalid_1's l2: 1.9073e+06\n",
      "[755]\ttraining's l2: 1.58619e+06\tvalid_1's l2: 1.90725e+06\n",
      "[756]\ttraining's l2: 1.586e+06\tvalid_1's l2: 1.90715e+06\n",
      "[757]\ttraining's l2: 1.5858e+06\tvalid_1's l2: 1.9071e+06\n",
      "[758]\ttraining's l2: 1.58553e+06\tvalid_1's l2: 1.90714e+06\n",
      "[759]\ttraining's l2: 1.58522e+06\tvalid_1's l2: 1.90723e+06\n",
      "[760]\ttraining's l2: 1.5851e+06\tvalid_1's l2: 1.90719e+06\n",
      "[761]\ttraining's l2: 1.58496e+06\tvalid_1's l2: 1.90714e+06\n",
      "[762]\ttraining's l2: 1.58481e+06\tvalid_1's l2: 1.9072e+06\n",
      "[763]\ttraining's l2: 1.58429e+06\tvalid_1's l2: 1.9069e+06\n",
      "[764]\ttraining's l2: 1.5841e+06\tvalid_1's l2: 1.90703e+06\n",
      "[765]\ttraining's l2: 1.58369e+06\tvalid_1's l2: 1.90682e+06\n",
      "[766]\ttraining's l2: 1.58356e+06\tvalid_1's l2: 1.90683e+06\n",
      "[767]\ttraining's l2: 1.58331e+06\tvalid_1's l2: 1.90689e+06\n",
      "[768]\ttraining's l2: 1.58316e+06\tvalid_1's l2: 1.90688e+06\n",
      "[769]\ttraining's l2: 1.58305e+06\tvalid_1's l2: 1.90685e+06\n",
      "[770]\ttraining's l2: 1.58278e+06\tvalid_1's l2: 1.90713e+06\n",
      "[771]\ttraining's l2: 1.58223e+06\tvalid_1's l2: 1.90689e+06\n",
      "[772]\ttraining's l2: 1.58209e+06\tvalid_1's l2: 1.90693e+06\n",
      "[773]\ttraining's l2: 1.5818e+06\tvalid_1's l2: 1.90708e+06\n",
      "[774]\ttraining's l2: 1.58152e+06\tvalid_1's l2: 1.90709e+06\n",
      "[775]\ttraining's l2: 1.58138e+06\tvalid_1's l2: 1.90701e+06\n",
      "[776]\ttraining's l2: 1.58124e+06\tvalid_1's l2: 1.90692e+06\n",
      "[777]\ttraining's l2: 1.58104e+06\tvalid_1's l2: 1.90683e+06\n",
      "[778]\ttraining's l2: 1.58073e+06\tvalid_1's l2: 1.90677e+06\n",
      "[779]\ttraining's l2: 1.58046e+06\tvalid_1's l2: 1.90655e+06\n",
      "[780]\ttraining's l2: 1.58034e+06\tvalid_1's l2: 1.90647e+06\n",
      "[781]\ttraining's l2: 1.58025e+06\tvalid_1's l2: 1.90655e+06\n",
      "[782]\ttraining's l2: 1.58008e+06\tvalid_1's l2: 1.90656e+06\n",
      "[783]\ttraining's l2: 1.57993e+06\tvalid_1's l2: 1.90654e+06\n",
      "[784]\ttraining's l2: 1.57978e+06\tvalid_1's l2: 1.90651e+06\n",
      "[785]\ttraining's l2: 1.57951e+06\tvalid_1's l2: 1.90656e+06\n",
      "[786]\ttraining's l2: 1.57916e+06\tvalid_1's l2: 1.9064e+06\n",
      "[787]\ttraining's l2: 1.57885e+06\tvalid_1's l2: 1.90638e+06\n",
      "[788]\ttraining's l2: 1.57847e+06\tvalid_1's l2: 1.90615e+06\n",
      "[789]\ttraining's l2: 1.57821e+06\tvalid_1's l2: 1.90609e+06\n",
      "[790]\ttraining's l2: 1.57792e+06\tvalid_1's l2: 1.90597e+06\n",
      "[791]\ttraining's l2: 1.57755e+06\tvalid_1's l2: 1.90576e+06\n",
      "[792]\ttraining's l2: 1.57727e+06\tvalid_1's l2: 1.90556e+06\n",
      "[793]\ttraining's l2: 1.57691e+06\tvalid_1's l2: 1.90538e+06\n",
      "[794]\ttraining's l2: 1.57656e+06\tvalid_1's l2: 1.90536e+06\n",
      "[795]\ttraining's l2: 1.57638e+06\tvalid_1's l2: 1.90543e+06\n",
      "[796]\ttraining's l2: 1.57627e+06\tvalid_1's l2: 1.90545e+06\n",
      "[797]\ttraining's l2: 1.5762e+06\tvalid_1's l2: 1.90551e+06\n",
      "[798]\ttraining's l2: 1.57591e+06\tvalid_1's l2: 1.90522e+06\n",
      "[799]\ttraining's l2: 1.57563e+06\tvalid_1's l2: 1.9052e+06\n",
      "[800]\ttraining's l2: 1.57541e+06\tvalid_1's l2: 1.90515e+06\n",
      "[801]\ttraining's l2: 1.57512e+06\tvalid_1's l2: 1.90496e+06\n",
      "[802]\ttraining's l2: 1.57475e+06\tvalid_1's l2: 1.90471e+06\n",
      "[803]\ttraining's l2: 1.57439e+06\tvalid_1's l2: 1.90462e+06\n",
      "[804]\ttraining's l2: 1.57429e+06\tvalid_1's l2: 1.90464e+06\n",
      "[805]\ttraining's l2: 1.57406e+06\tvalid_1's l2: 1.9045e+06\n",
      "[806]\ttraining's l2: 1.57365e+06\tvalid_1's l2: 1.90422e+06\n",
      "[807]\ttraining's l2: 1.5734e+06\tvalid_1's l2: 1.9042e+06\n",
      "[808]\ttraining's l2: 1.57321e+06\tvalid_1's l2: 1.90416e+06\n",
      "[809]\ttraining's l2: 1.57303e+06\tvalid_1's l2: 1.90414e+06\n",
      "[810]\ttraining's l2: 1.57292e+06\tvalid_1's l2: 1.9041e+06\n",
      "[811]\ttraining's l2: 1.57253e+06\tvalid_1's l2: 1.90422e+06\n",
      "[812]\ttraining's l2: 1.57238e+06\tvalid_1's l2: 1.90416e+06\n",
      "[813]\ttraining's l2: 1.57214e+06\tvalid_1's l2: 1.90419e+06\n",
      "[814]\ttraining's l2: 1.57183e+06\tvalid_1's l2: 1.90414e+06\n",
      "[815]\ttraining's l2: 1.5717e+06\tvalid_1's l2: 1.90425e+06\n",
      "[816]\ttraining's l2: 1.57158e+06\tvalid_1's l2: 1.90419e+06\n",
      "[817]\ttraining's l2: 1.57139e+06\tvalid_1's l2: 1.90413e+06\n",
      "[818]\ttraining's l2: 1.57119e+06\tvalid_1's l2: 1.9041e+06\n",
      "[819]\ttraining's l2: 1.57084e+06\tvalid_1's l2: 1.90424e+06\n",
      "[820]\ttraining's l2: 1.57069e+06\tvalid_1's l2: 1.90422e+06\n",
      "[821]\ttraining's l2: 1.57056e+06\tvalid_1's l2: 1.90423e+06\n",
      "[822]\ttraining's l2: 1.57037e+06\tvalid_1's l2: 1.9042e+06\n",
      "[823]\ttraining's l2: 1.57024e+06\tvalid_1's l2: 1.90411e+06\n",
      "[824]\ttraining's l2: 1.56993e+06\tvalid_1's l2: 1.90398e+06\n",
      "[825]\ttraining's l2: 1.56967e+06\tvalid_1's l2: 1.90369e+06\n",
      "[826]\ttraining's l2: 1.56936e+06\tvalid_1's l2: 1.90383e+06\n",
      "[827]\ttraining's l2: 1.56898e+06\tvalid_1's l2: 1.90395e+06\n",
      "[828]\ttraining's l2: 1.56857e+06\tvalid_1's l2: 1.90382e+06\n",
      "[829]\ttraining's l2: 1.56831e+06\tvalid_1's l2: 1.90372e+06\n",
      "[830]\ttraining's l2: 1.56807e+06\tvalid_1's l2: 1.90361e+06\n",
      "[LightGBM] [Warning] No further splits with positive gain, best gain: -inf\n",
      "[831]\ttraining's l2: 1.56797e+06\tvalid_1's l2: 1.90352e+06\n",
      "[832]\ttraining's l2: 1.56752e+06\tvalid_1's l2: 1.90339e+06\n",
      "[833]\ttraining's l2: 1.56734e+06\tvalid_1's l2: 1.90331e+06\n",
      "[834]\ttraining's l2: 1.56717e+06\tvalid_1's l2: 1.90324e+06\n",
      "[835]\ttraining's l2: 1.56703e+06\tvalid_1's l2: 1.9032e+06\n",
      "[836]\ttraining's l2: 1.56669e+06\tvalid_1's l2: 1.90321e+06\n",
      "[837]\ttraining's l2: 1.5665e+06\tvalid_1's l2: 1.90318e+06\n",
      "[838]\ttraining's l2: 1.5664e+06\tvalid_1's l2: 1.90316e+06\n",
      "[839]\ttraining's l2: 1.56609e+06\tvalid_1's l2: 1.90308e+06\n",
      "[840]\ttraining's l2: 1.56554e+06\tvalid_1's l2: 1.90296e+06\n",
      "[841]\ttraining's l2: 1.56537e+06\tvalid_1's l2: 1.90297e+06\n",
      "[842]\ttraining's l2: 1.56529e+06\tvalid_1's l2: 1.90293e+06\n",
      "[843]\ttraining's l2: 1.56491e+06\tvalid_1's l2: 1.90279e+06\n",
      "[844]\ttraining's l2: 1.56463e+06\tvalid_1's l2: 1.90291e+06\n",
      "[845]\ttraining's l2: 1.5644e+06\tvalid_1's l2: 1.90292e+06\n",
      "[846]\ttraining's l2: 1.56399e+06\tvalid_1's l2: 1.90272e+06\n",
      "[847]\ttraining's l2: 1.5637e+06\tvalid_1's l2: 1.90269e+06\n",
      "[848]\ttraining's l2: 1.56348e+06\tvalid_1's l2: 1.90263e+06\n",
      "[849]\ttraining's l2: 1.56336e+06\tvalid_1's l2: 1.90266e+06\n",
      "[850]\ttraining's l2: 1.5631e+06\tvalid_1's l2: 1.9025e+06\n",
      "[851]\ttraining's l2: 1.56267e+06\tvalid_1's l2: 1.90247e+06\n",
      "[852]\ttraining's l2: 1.5623e+06\tvalid_1's l2: 1.90244e+06\n",
      "[853]\ttraining's l2: 1.56206e+06\tvalid_1's l2: 1.9025e+06\n",
      "[854]\ttraining's l2: 1.56183e+06\tvalid_1's l2: 1.90244e+06\n",
      "[855]\ttraining's l2: 1.56168e+06\tvalid_1's l2: 1.90239e+06\n",
      "[856]\ttraining's l2: 1.5615e+06\tvalid_1's l2: 1.90251e+06\n",
      "[857]\ttraining's l2: 1.56118e+06\tvalid_1's l2: 1.90243e+06\n",
      "[858]\ttraining's l2: 1.56108e+06\tvalid_1's l2: 1.90245e+06\n",
      "[859]\ttraining's l2: 1.56093e+06\tvalid_1's l2: 1.90245e+06\n",
      "[860]\ttraining's l2: 1.56081e+06\tvalid_1's l2: 1.90241e+06\n",
      "[861]\ttraining's l2: 1.5606e+06\tvalid_1's l2: 1.90241e+06\n",
      "[862]\ttraining's l2: 1.56034e+06\tvalid_1's l2: 1.90234e+06\n",
      "[863]\ttraining's l2: 1.56017e+06\tvalid_1's l2: 1.90226e+06\n",
      "[864]\ttraining's l2: 1.56002e+06\tvalid_1's l2: 1.90214e+06\n",
      "[865]\ttraining's l2: 1.55982e+06\tvalid_1's l2: 1.90204e+06\n",
      "[866]\ttraining's l2: 1.55965e+06\tvalid_1's l2: 1.90191e+06\n",
      "[867]\ttraining's l2: 1.55933e+06\tvalid_1's l2: 1.90192e+06\n",
      "[868]\ttraining's l2: 1.55922e+06\tvalid_1's l2: 1.90192e+06\n",
      "[869]\ttraining's l2: 1.55912e+06\tvalid_1's l2: 1.90194e+06\n",
      "[870]\ttraining's l2: 1.559e+06\tvalid_1's l2: 1.90201e+06\n",
      "[871]\ttraining's l2: 1.5585e+06\tvalid_1's l2: 1.90185e+06\n",
      "[872]\ttraining's l2: 1.55835e+06\tvalid_1's l2: 1.90187e+06\n",
      "[873]\ttraining's l2: 1.558e+06\tvalid_1's l2: 1.90166e+06\n",
      "[874]\ttraining's l2: 1.55785e+06\tvalid_1's l2: 1.90171e+06\n",
      "[875]\ttraining's l2: 1.55768e+06\tvalid_1's l2: 1.90174e+06\n",
      "[876]\ttraining's l2: 1.55744e+06\tvalid_1's l2: 1.9017e+06\n",
      "[877]\ttraining's l2: 1.55714e+06\tvalid_1's l2: 1.90175e+06\n",
      "[878]\ttraining's l2: 1.55701e+06\tvalid_1's l2: 1.90181e+06\n",
      "[879]\ttraining's l2: 1.55674e+06\tvalid_1's l2: 1.90177e+06\n",
      "[880]\ttraining's l2: 1.55661e+06\tvalid_1's l2: 1.90186e+06\n",
      "[881]\ttraining's l2: 1.55628e+06\tvalid_1's l2: 1.90181e+06\n",
      "[882]\ttraining's l2: 1.55613e+06\tvalid_1's l2: 1.90184e+06\n",
      "[883]\ttraining's l2: 1.55592e+06\tvalid_1's l2: 1.90178e+06\n",
      "[884]\ttraining's l2: 1.55578e+06\tvalid_1's l2: 1.90171e+06\n",
      "[885]\ttraining's l2: 1.55559e+06\tvalid_1's l2: 1.9018e+06\n",
      "[886]\ttraining's l2: 1.55535e+06\tvalid_1's l2: 1.90169e+06\n",
      "[887]\ttraining's l2: 1.55502e+06\tvalid_1's l2: 1.90152e+06\n",
      "[888]\ttraining's l2: 1.55487e+06\tvalid_1's l2: 1.90157e+06\n",
      "[889]\ttraining's l2: 1.55472e+06\tvalid_1's l2: 1.90163e+06\n",
      "[890]\ttraining's l2: 1.55459e+06\tvalid_1's l2: 1.90158e+06\n",
      "[891]\ttraining's l2: 1.55441e+06\tvalid_1's l2: 1.90156e+06\n",
      "[892]\ttraining's l2: 1.55424e+06\tvalid_1's l2: 1.90144e+06\n",
      "[893]\ttraining's l2: 1.5541e+06\tvalid_1's l2: 1.90144e+06\n",
      "[894]\ttraining's l2: 1.55398e+06\tvalid_1's l2: 1.9014e+06\n",
      "[895]\ttraining's l2: 1.5539e+06\tvalid_1's l2: 1.90142e+06\n",
      "[896]\ttraining's l2: 1.55378e+06\tvalid_1's l2: 1.90143e+06\n",
      "[897]\ttraining's l2: 1.55326e+06\tvalid_1's l2: 1.90113e+06\n",
      "[898]\ttraining's l2: 1.5531e+06\tvalid_1's l2: 1.90113e+06\n",
      "[899]\ttraining's l2: 1.55269e+06\tvalid_1's l2: 1.9009e+06\n",
      "[900]\ttraining's l2: 1.55237e+06\tvalid_1's l2: 1.90098e+06\n",
      "[901]\ttraining's l2: 1.55208e+06\tvalid_1's l2: 1.90081e+06\n",
      "[902]\ttraining's l2: 1.55174e+06\tvalid_1's l2: 1.90077e+06\n",
      "[903]\ttraining's l2: 1.55154e+06\tvalid_1's l2: 1.90069e+06\n",
      "[904]\ttraining's l2: 1.55132e+06\tvalid_1's l2: 1.90069e+06\n",
      "[905]\ttraining's l2: 1.55122e+06\tvalid_1's l2: 1.90066e+06\n",
      "[906]\ttraining's l2: 1.55097e+06\tvalid_1's l2: 1.90061e+06\n",
      "[907]\ttraining's l2: 1.55063e+06\tvalid_1's l2: 1.90058e+06\n",
      "[908]\ttraining's l2: 1.55049e+06\tvalid_1's l2: 1.9006e+06\n",
      "[909]\ttraining's l2: 1.55031e+06\tvalid_1's l2: 1.90067e+06\n",
      "[910]\ttraining's l2: 1.54999e+06\tvalid_1's l2: 1.9006e+06\n",
      "[911]\ttraining's l2: 1.54963e+06\tvalid_1's l2: 1.90035e+06\n",
      "[912]\ttraining's l2: 1.54952e+06\tvalid_1's l2: 1.90026e+06\n",
      "[913]\ttraining's l2: 1.54938e+06\tvalid_1's l2: 1.90015e+06\n",
      "[914]\ttraining's l2: 1.54914e+06\tvalid_1's l2: 1.90009e+06\n",
      "[915]\ttraining's l2: 1.54893e+06\tvalid_1's l2: 1.90002e+06\n",
      "[916]\ttraining's l2: 1.54886e+06\tvalid_1's l2: 1.89998e+06\n",
      "[917]\ttraining's l2: 1.54857e+06\tvalid_1's l2: 1.89991e+06\n",
      "[918]\ttraining's l2: 1.54814e+06\tvalid_1's l2: 1.89968e+06\n",
      "[919]\ttraining's l2: 1.54777e+06\tvalid_1's l2: 1.89954e+06\n",
      "[920]\ttraining's l2: 1.54743e+06\tvalid_1's l2: 1.89956e+06\n",
      "[921]\ttraining's l2: 1.54729e+06\tvalid_1's l2: 1.89956e+06\n",
      "[922]\ttraining's l2: 1.54714e+06\tvalid_1's l2: 1.89964e+06\n",
      "[923]\ttraining's l2: 1.54701e+06\tvalid_1's l2: 1.89966e+06\n",
      "[924]\ttraining's l2: 1.54686e+06\tvalid_1's l2: 1.89968e+06\n",
      "[925]\ttraining's l2: 1.54654e+06\tvalid_1's l2: 1.89957e+06\n",
      "[926]\ttraining's l2: 1.54646e+06\tvalid_1's l2: 1.89955e+06\n",
      "[927]\ttraining's l2: 1.54599e+06\tvalid_1's l2: 1.89943e+06\n",
      "[928]\ttraining's l2: 1.5457e+06\tvalid_1's l2: 1.89941e+06\n",
      "[929]\ttraining's l2: 1.54554e+06\tvalid_1's l2: 1.89946e+06\n",
      "[930]\ttraining's l2: 1.54538e+06\tvalid_1's l2: 1.89943e+06\n",
      "[931]\ttraining's l2: 1.54514e+06\tvalid_1's l2: 1.89944e+06\n",
      "[932]\ttraining's l2: 1.54501e+06\tvalid_1's l2: 1.89938e+06\n",
      "[933]\ttraining's l2: 1.54491e+06\tvalid_1's l2: 1.89944e+06\n",
      "[934]\ttraining's l2: 1.54454e+06\tvalid_1's l2: 1.89934e+06\n",
      "[935]\ttraining's l2: 1.54421e+06\tvalid_1's l2: 1.89941e+06\n",
      "[936]\ttraining's l2: 1.54409e+06\tvalid_1's l2: 1.89948e+06\n",
      "[937]\ttraining's l2: 1.54396e+06\tvalid_1's l2: 1.89949e+06\n",
      "[938]\ttraining's l2: 1.54368e+06\tvalid_1's l2: 1.89947e+06\n",
      "[939]\ttraining's l2: 1.54335e+06\tvalid_1's l2: 1.89936e+06\n",
      "[940]\ttraining's l2: 1.54318e+06\tvalid_1's l2: 1.89944e+06\n",
      "[941]\ttraining's l2: 1.54308e+06\tvalid_1's l2: 1.89946e+06\n",
      "[942]\ttraining's l2: 1.54271e+06\tvalid_1's l2: 1.8992e+06\n",
      "[943]\ttraining's l2: 1.54253e+06\tvalid_1's l2: 1.89915e+06\n",
      "[944]\ttraining's l2: 1.5423e+06\tvalid_1's l2: 1.89907e+06\n",
      "[945]\ttraining's l2: 1.54218e+06\tvalid_1's l2: 1.89904e+06\n",
      "[946]\ttraining's l2: 1.54207e+06\tvalid_1's l2: 1.89901e+06\n",
      "[947]\ttraining's l2: 1.54188e+06\tvalid_1's l2: 1.89907e+06\n",
      "[948]\ttraining's l2: 1.54179e+06\tvalid_1's l2: 1.89919e+06\n",
      "[949]\ttraining's l2: 1.54155e+06\tvalid_1's l2: 1.89907e+06\n",
      "[950]\ttraining's l2: 1.54142e+06\tvalid_1's l2: 1.89913e+06\n",
      "[951]\ttraining's l2: 1.54129e+06\tvalid_1's l2: 1.89916e+06\n",
      "[952]\ttraining's l2: 1.54112e+06\tvalid_1's l2: 1.89916e+06\n",
      "[953]\ttraining's l2: 1.54096e+06\tvalid_1's l2: 1.89908e+06\n",
      "[954]\ttraining's l2: 1.54077e+06\tvalid_1's l2: 1.89896e+06\n",
      "[955]\ttraining's l2: 1.54068e+06\tvalid_1's l2: 1.89889e+06\n",
      "[956]\ttraining's l2: 1.54056e+06\tvalid_1's l2: 1.89885e+06\n",
      "[957]\ttraining's l2: 1.54032e+06\tvalid_1's l2: 1.89904e+06\n",
      "[958]\ttraining's l2: 1.54014e+06\tvalid_1's l2: 1.89896e+06\n",
      "[959]\ttraining's l2: 1.53992e+06\tvalid_1's l2: 1.89891e+06\n",
      "[960]\ttraining's l2: 1.53982e+06\tvalid_1's l2: 1.89893e+06\n",
      "[961]\ttraining's l2: 1.5397e+06\tvalid_1's l2: 1.89897e+06\n",
      "[962]\ttraining's l2: 1.53961e+06\tvalid_1's l2: 1.89902e+06\n",
      "[963]\ttraining's l2: 1.53938e+06\tvalid_1's l2: 1.89896e+06\n",
      "[964]\ttraining's l2: 1.53926e+06\tvalid_1's l2: 1.89895e+06\n",
      "[965]\ttraining's l2: 1.53918e+06\tvalid_1's l2: 1.89903e+06\n",
      "[966]\ttraining's l2: 1.53893e+06\tvalid_1's l2: 1.89899e+06\n",
      "[967]\ttraining's l2: 1.53862e+06\tvalid_1's l2: 1.89891e+06\n",
      "[968]\ttraining's l2: 1.53836e+06\tvalid_1's l2: 1.89885e+06\n",
      "[969]\ttraining's l2: 1.53822e+06\tvalid_1's l2: 1.89878e+06\n",
      "[970]\ttraining's l2: 1.53807e+06\tvalid_1's l2: 1.89885e+06\n",
      "[971]\ttraining's l2: 1.53796e+06\tvalid_1's l2: 1.89886e+06\n",
      "[972]\ttraining's l2: 1.53785e+06\tvalid_1's l2: 1.89879e+06\n",
      "[973]\ttraining's l2: 1.53731e+06\tvalid_1's l2: 1.89853e+06\n",
      "[974]\ttraining's l2: 1.53715e+06\tvalid_1's l2: 1.8985e+06\n",
      "[975]\ttraining's l2: 1.53693e+06\tvalid_1's l2: 1.89857e+06\n",
      "[976]\ttraining's l2: 1.53681e+06\tvalid_1's l2: 1.89853e+06\n",
      "[977]\ttraining's l2: 1.5367e+06\tvalid_1's l2: 1.89846e+06\n",
      "[978]\ttraining's l2: 1.53655e+06\tvalid_1's l2: 1.89871e+06\n",
      "[979]\ttraining's l2: 1.53633e+06\tvalid_1's l2: 1.89871e+06\n",
      "[980]\ttraining's l2: 1.5361e+06\tvalid_1's l2: 1.89868e+06\n",
      "[981]\ttraining's l2: 1.53597e+06\tvalid_1's l2: 1.89876e+06\n",
      "[982]\ttraining's l2: 1.53592e+06\tvalid_1's l2: 1.89873e+06\n",
      "[983]\ttraining's l2: 1.53582e+06\tvalid_1's l2: 1.89871e+06\n",
      "[984]\ttraining's l2: 1.53551e+06\tvalid_1's l2: 1.89861e+06\n",
      "[985]\ttraining's l2: 1.53534e+06\tvalid_1's l2: 1.89864e+06\n",
      "[LightGBM] [Warning] No further splits with positive gain, best gain: -inf\n",
      "[986]\ttraining's l2: 1.53531e+06\tvalid_1's l2: 1.89858e+06\n",
      "[987]\ttraining's l2: 1.53518e+06\tvalid_1's l2: 1.89879e+06\n",
      "[988]\ttraining's l2: 1.53496e+06\tvalid_1's l2: 1.89878e+06\n",
      "[989]\ttraining's l2: 1.53486e+06\tvalid_1's l2: 1.89873e+06\n",
      "[990]\ttraining's l2: 1.53473e+06\tvalid_1's l2: 1.89882e+06\n",
      "[991]\ttraining's l2: 1.53445e+06\tvalid_1's l2: 1.89876e+06\n",
      "[992]\ttraining's l2: 1.5341e+06\tvalid_1's l2: 1.8986e+06\n",
      "[993]\ttraining's l2: 1.534e+06\tvalid_1's l2: 1.8985e+06\n",
      "[994]\ttraining's l2: 1.53388e+06\tvalid_1's l2: 1.89861e+06\n",
      "[995]\ttraining's l2: 1.5337e+06\tvalid_1's l2: 1.89859e+06\n",
      "[996]\ttraining's l2: 1.53351e+06\tvalid_1's l2: 1.89855e+06\n",
      "[997]\ttraining's l2: 1.53338e+06\tvalid_1's l2: 1.89855e+06\n",
      "[998]\ttraining's l2: 1.53327e+06\tvalid_1's l2: 1.89859e+06\n",
      "[999]\ttraining's l2: 1.53283e+06\tvalid_1's l2: 1.89835e+06\n",
      "[1000]\ttraining's l2: 1.53274e+06\tvalid_1's l2: 1.8983e+06\n",
      "CPU times: total: 29.7 s\n",
      "Wall time: 17.3 s\n"
     ]
    }
   ],
   "source": [
    "%%time\n",
    "# LightGBM\n",
    "start = time.time()\n",
    "\n",
    "lgb_train = lgb.Dataset(features_train_light, target_train_light)\n",
    "lgb_test = lgb.Dataset(features_test_light, target_test_light, reference=lgb_train)\n",
    "parameters_light = {'metric': 'l2', 'max_depth':10,\"random_state\": 42,\"learning_rate\":0.1}\n",
    "light = lgb.train(parameters_light,\n",
    "                  lgb_train,\n",
    "                  num_boost_round=1000,\n",
    "                  valid_sets=[lgb_train, lgb_test],\n",
    "                  verbose_eval=1)\n",
    "stop = time.time()\n",
    "\n",
    "training_time_light = stop - start"
   ]
  },
  {
   "cell_type": "code",
   "execution_count": 22,
   "metadata": {
    "scrolled": true
   },
   "outputs": [
    {
     "name": "stdout",
     "output_type": "stream",
     "text": [
      "[LightGBM] [Warning] Accuracy may be bad since you didn't explicitly set num_leaves OR 2^max_depth > num_leaves. (num_leaves=31).\n",
      "[LightGBM] [Warning] Accuracy may be bad since you didn't explicitly set num_leaves OR 2^max_depth > num_leaves. (num_leaves=31).\n"
     ]
    },
    {
     "name": "stderr",
     "output_type": "stream",
     "text": [
      "C:\\Users\\Admin\\anaconda3\\lib\\site-packages\\sklearn\\model_selection\\_split.py:676: UserWarning: The least populated class in y has only 1 members, which is less than n_splits=5.\n",
      "  warnings.warn(\n"
     ]
    },
    {
     "name": "stdout",
     "output_type": "stream",
     "text": [
      "[LightGBM] [Warning] Accuracy may be bad since you didn't explicitly set num_leaves OR 2^max_depth > num_leaves. (num_leaves=31).\n",
      "[LightGBM] [Warning] Accuracy may be bad since you didn't explicitly set num_leaves OR 2^max_depth > num_leaves. (num_leaves=31).\n",
      "[LightGBM] [Warning] Auto-choosing row-wise multi-threading, the overhead of testing was 0.011011 seconds.\n",
      "You can set `force_row_wise=true` to remove the overhead.\n",
      "And if memory is not enough, you can set `force_col_wise=true`.\n",
      "[LightGBM] [Info] Total Bins 610\n",
      "[LightGBM] [Info] Number of data points in the train set: 170748, number of used features: 9\n",
      "[LightGBM] [Warning] Accuracy may be bad since you didn't explicitly set num_leaves OR 2^max_depth > num_leaves. (num_leaves=31).\n",
      "[LightGBM] [Warning] Accuracy may be bad since you didn't explicitly set num_leaves OR 2^max_depth > num_leaves. (num_leaves=31).\n",
      "[LightGBM] [Warning] Accuracy may be bad since you didn't explicitly set num_leaves OR 2^max_depth > num_leaves. (num_leaves=31).\n",
      "[LightGBM] [Warning] Auto-choosing row-wise multi-threading, the overhead of testing was 0.011092 seconds.\n",
      "You can set `force_row_wise=true` to remove the overhead.\n",
      "And if memory is not enough, you can set `force_col_wise=true`.\n",
      "[LightGBM] [Info] Total Bins 610\n",
      "[LightGBM] [Info] Number of data points in the train set: 170748, number of used features: 9\n",
      "[LightGBM] [Warning] Accuracy may be bad since you didn't explicitly set num_leaves OR 2^max_depth > num_leaves. (num_leaves=31).\n",
      "[LightGBM] [Warning] Accuracy may be bad since you didn't explicitly set num_leaves OR 2^max_depth > num_leaves. (num_leaves=31).\n",
      "[LightGBM] [Warning] Accuracy may be bad since you didn't explicitly set num_leaves OR 2^max_depth > num_leaves. (num_leaves=31).\n",
      "[LightGBM] [Warning] Auto-choosing row-wise multi-threading, the overhead of testing was 0.011537 seconds.\n",
      "You can set `force_row_wise=true` to remove the overhead.\n",
      "And if memory is not enough, you can set `force_col_wise=true`.\n",
      "[LightGBM] [Info] Total Bins 610\n",
      "[LightGBM] [Info] Number of data points in the train set: 170748, number of used features: 9\n",
      "[LightGBM] [Warning] Accuracy may be bad since you didn't explicitly set num_leaves OR 2^max_depth > num_leaves. (num_leaves=31).\n",
      "[LightGBM] [Warning] Accuracy may be bad since you didn't explicitly set num_leaves OR 2^max_depth > num_leaves. (num_leaves=31).\n",
      "[LightGBM] [Warning] Accuracy may be bad since you didn't explicitly set num_leaves OR 2^max_depth > num_leaves. (num_leaves=31).\n",
      "[LightGBM] [Warning] Auto-choosing row-wise multi-threading, the overhead of testing was 0.019163 seconds.\n",
      "You can set `force_row_wise=true` to remove the overhead.\n",
      "And if memory is not enough, you can set `force_col_wise=true`.\n",
      "[LightGBM] [Info] Total Bins 610\n",
      "[LightGBM] [Info] Number of data points in the train set: 170748, number of used features: 9\n",
      "[LightGBM] [Warning] Accuracy may be bad since you didn't explicitly set num_leaves OR 2^max_depth > num_leaves. (num_leaves=31).\n",
      "[LightGBM] [Warning] Accuracy may be bad since you didn't explicitly set num_leaves OR 2^max_depth > num_leaves. (num_leaves=31).\n",
      "[LightGBM] [Warning] Accuracy may be bad since you didn't explicitly set num_leaves OR 2^max_depth > num_leaves. (num_leaves=31).\n",
      "[LightGBM] [Warning] Auto-choosing row-wise multi-threading, the overhead of testing was 0.016477 seconds.\n",
      "You can set `force_row_wise=true` to remove the overhead.\n",
      "And if memory is not enough, you can set `force_col_wise=true`.\n",
      "[LightGBM] [Info] Total Bins 610\n",
      "[LightGBM] [Info] Number of data points in the train set: 170748, number of used features: 9\n",
      "[LightGBM] [Warning] Accuracy may be bad since you didn't explicitly set num_leaves OR 2^max_depth > num_leaves. (num_leaves=31).\n",
      "[LightGBM] [Info] Start training from score 3983.524516\n",
      "[LightGBM] [Info] Start training from score 3982.854979\n",
      "[LightGBM] [Info] Start training from score 3983.763974\n",
      "[LightGBM] [Info] Start training from score 3982.833913\n",
      "[LightGBM] [Info] Start training from score 3983.331401\n"
     ]
    }
   ],
   "source": [
    "cv_res = lgb.cv(parameters_light, \n",
    "                lgb_train, \n",
    "                nfold=5)\n",
    "best_score_light = min(cv_res['l2-mean'])**0.5"
   ]
  },
  {
   "cell_type": "code",
   "execution_count": 29,
   "metadata": {},
   "outputs": [
    {
     "name": "stdout",
     "output_type": "stream",
     "text": [
      "RMSE модели LightGBM - 1434.6275887627517.\n"
     ]
    }
   ],
   "source": [
    "print(f'RMSE модели LightGBM - {best_score_light}.')\n",
    "#Точносто модели удовлетворяет условию задания"
   ]
  },
  {
   "cell_type": "markdown",
   "metadata": {},
   "source": [
    "## Анализ моделей\n",
    "\n",
    "Посчитаем ошибку моделей и время предсказания."
   ]
  },
  {
   "cell_type": "code",
   "execution_count": 30,
   "metadata": {},
   "outputs": [
    {
     "name": "stdout",
     "output_type": "stream",
     "text": [
      "CPU times: total: 14 s\n",
      "Wall time: 7.55 s\n"
     ]
    }
   ],
   "source": [
    "%%time\n",
    "start = time.time()\n",
    "meow.predict(features_train)\n",
    "stop = time.time()\n",
    "\n",
    "predict_time_cat = stop - start"
   ]
  },
  {
   "cell_type": "code",
   "execution_count": 31,
   "metadata": {},
   "outputs": [
    {
     "name": "stdout",
     "output_type": "stream",
     "text": [
      "CPU times: total: 719 ms\n",
      "Wall time: 795 ms\n"
     ]
    }
   ],
   "source": [
    "%%time\n",
    "start = time.time()\n",
    "rf.predict(features_train_ord)\n",
    "stop = time.time()\n",
    "\n",
    "predict_time_rf = stop - start"
   ]
  },
  {
   "cell_type": "code",
   "execution_count": 32,
   "metadata": {},
   "outputs": [
    {
     "name": "stdout",
     "output_type": "stream",
     "text": [
      "CPU times: total: 1min 25s\n",
      "Wall time: 53.9 s\n"
     ]
    }
   ],
   "source": [
    "%%time\n",
    "start = time.time()\n",
    "light.predict(features_train_light)\n",
    "stop = time.time()\n",
    "\n",
    "predict_time_light = stop - start"
   ]
  },
  {
   "cell_type": "code",
   "execution_count": 41,
   "metadata": {},
   "outputs": [
    {
     "data": {
      "text/html": [
       "<div>\n",
       "<style scoped>\n",
       "    .dataframe tbody tr th:only-of-type {\n",
       "        vertical-align: middle;\n",
       "    }\n",
       "\n",
       "    .dataframe tbody tr th {\n",
       "        vertical-align: top;\n",
       "    }\n",
       "\n",
       "    .dataframe thead th {\n",
       "        text-align: right;\n",
       "    }\n",
       "</style>\n",
       "<table border=\"1\" class=\"dataframe\">\n",
       "  <thead>\n",
       "    <tr style=\"text-align: right;\">\n",
       "      <th></th>\n",
       "      <th>RMSE на кросс-валидации, евро</th>\n",
       "      <th>Время обучения модели, сек</th>\n",
       "      <th>Время предсказания модели, сек</th>\n",
       "    </tr>\n",
       "  </thead>\n",
       "  <tbody>\n",
       "    <tr>\n",
       "      <th>CatBoost</th>\n",
       "      <td>1200.000000</td>\n",
       "      <td>923.059497</td>\n",
       "      <td>7.548349</td>\n",
       "    </tr>\n",
       "    <tr>\n",
       "      <th>RandomForestRegressor</th>\n",
       "      <td>1512.416114</td>\n",
       "      <td>10.308611</td>\n",
       "      <td>0.795262</td>\n",
       "    </tr>\n",
       "    <tr>\n",
       "      <th>LightGBM</th>\n",
       "      <td>1434.627589</td>\n",
       "      <td>17.287566</td>\n",
       "      <td>53.932500</td>\n",
       "    </tr>\n",
       "  </tbody>\n",
       "</table>\n",
       "</div>"
      ],
      "text/plain": [
       "                       RMSE на кросс-валидации, евро  \\\n",
       "CatBoost                                 1200.000000   \n",
       "RandomForestRegressor                    1512.416114   \n",
       "LightGBM                                 1434.627589   \n",
       "\n",
       "                       Время обучения модели, сек  \\\n",
       "CatBoost                               923.059497   \n",
       "RandomForestRegressor                   10.308611   \n",
       "LightGBM                                17.287566   \n",
       "\n",
       "                       Время предсказания модели, сек  \n",
       "CatBoost                                     7.548349  \n",
       "RandomForestRegressor                        0.795262  \n",
       "LightGBM                                    53.932500  "
      ]
     },
     "execution_count": 41,
     "metadata": {},
     "output_type": "execute_result"
    }
   ],
   "source": [
    "#Сведем результаты в таблицу\n",
    "index = ['CatBoost',\n",
    "         'RandomForestRegressor',\n",
    "         'LightGBM']\n",
    "data = {'RMSE на кросс-валидации, евро':[best_score,\n",
    "                                          scores_rf,\n",
    "                                          best_score_light],\n",
    "        'Время обучения модели, сек':[training_time_cat,\n",
    "                                     training_time_rf,\n",
    "                                     training_time_light],\n",
    "        'Время предсказания модели, сек':[predict_time_cat,\n",
    "                                          predict_time_rf,\n",
    "                                          predict_time_light]}\n",
    "\n",
    "scores_models = pd.DataFrame(data=data, index=index)\n",
    "scores_models"
   ]
  },
  {
   "cell_type": "markdown",
   "metadata": {},
   "source": [
    "### Вывод по анализу моделей:\n",
    "\n",
    "* **RandomForest** обучается быстрее всех, но ошибка у этой модели самая высокая. \n",
    "* Наименьшая ошибка у модели **Catboost**. Но время обучения самое высокое. \n",
    "* **LightGBM** обучается примерно столько же, сколько и RandomForest. Однако ошибка у этой модели несколько больше, чем у **CatBoost**. К тому же время предсказания этой поледи самое высокое.\n",
    "\n",
    "Учитывая критерии заказчика, наиболее подходящей моделью является **LightGBM**."
   ]
  },
  {
   "cell_type": "markdown",
   "metadata": {},
   "source": [
    "## Тестирование лучшей модели"
   ]
  },
  {
   "cell_type": "code",
   "execution_count": 42,
   "metadata": {},
   "outputs": [
    {
     "name": "stdout",
     "output_type": "stream",
     "text": [
      "RMSE LightGBM на тестовой выборке: 1377.7892284232305\n"
     ]
    }
   ],
   "source": [
    "#Проверим ошибку лучшей модели на тестовой выборке\n",
    "print(\"RMSE LightGBM на тестовой выборке:\",(mean_squared_error(target_test_light,light.predict(features_test_light),squared=False)))"
   ]
  },
  {
   "cell_type": "markdown",
   "metadata": {},
   "source": [
    "## Выводы\n",
    "\n",
    "Загружены данные и проведена предобработка.\n",
    "Выполнено сравнение моделей с использованием различных наборов гиперпараметров.\n",
    "Выбрана лучшая модель по результатам метрики RMSE и времени обучения.\n",
    "Для общей оценки по трем параметрам был создан относительный рейтинг. \n",
    "\n",
    "\n",
    "Оптимальной моделью, удовлетворяющей параметрам заказчика, можно считать LightGBM, благодаря сочетанию скорости обучения и точности на подготовленных данных. Модель CatBoostRegressor могла бы быть лучше, одна ко время обучения модели оставляет желать лучшего."
   ]
  }
 ],
 "metadata": {
  "ExecuteTimeLog": [
   {
    "duration": 440,
    "start_time": "2023-03-24T13:42:58.359Z"
   },
   {
    "duration": 1411,
    "start_time": "2023-03-24T13:44:19.803Z"
   },
   {
    "duration": 94,
    "start_time": "2023-03-24T13:44:30.762Z"
   },
   {
    "duration": 30,
    "start_time": "2023-03-24T13:44:36.722Z"
   },
   {
    "duration": 199,
    "start_time": "2023-03-24T13:44:46.590Z"
   },
   {
    "duration": 152,
    "start_time": "2023-03-24T13:45:01.366Z"
   },
   {
    "duration": 165,
    "start_time": "2023-03-24T13:45:11.385Z"
   },
   {
    "duration": 108,
    "start_time": "2023-03-24T13:45:19.715Z"
   },
   {
    "duration": 164,
    "start_time": "2023-03-24T13:45:22.514Z"
   },
   {
    "duration": 158,
    "start_time": "2023-03-24T13:45:28.296Z"
   },
   {
    "duration": 148,
    "start_time": "2023-03-24T13:45:55.065Z"
   },
   {
    "duration": 199,
    "start_time": "2023-03-24T13:46:00.468Z"
   },
   {
    "duration": 116,
    "start_time": "2023-03-24T13:46:29.665Z"
   },
   {
    "duration": 11,
    "start_time": "2023-03-24T14:03:26.690Z"
   },
   {
    "duration": 1111,
    "start_time": "2023-03-24T14:03:30.788Z"
   },
   {
    "duration": 8030,
    "start_time": "2023-03-24T14:03:34.574Z"
   },
   {
    "duration": 129,
    "start_time": "2023-03-24T14:08:13.027Z"
   },
   {
    "duration": 189,
    "start_time": "2023-03-24T14:08:28.791Z"
   },
   {
    "duration": 199,
    "start_time": "2023-03-24T14:30:45.274Z"
   },
   {
    "duration": 203,
    "start_time": "2023-03-24T14:33:13.549Z"
   },
   {
    "duration": 51,
    "start_time": "2023-03-24T14:33:39.415Z"
   },
   {
    "duration": 507,
    "start_time": "2023-03-24T14:33:49.550Z"
   },
   {
    "duration": 1447,
    "start_time": "2023-03-24T14:34:06.484Z"
   },
   {
    "duration": 24,
    "start_time": "2023-03-24T14:36:50.650Z"
   },
   {
    "duration": 269,
    "start_time": "2023-03-24T14:36:55.614Z"
   },
   {
    "duration": 280,
    "start_time": "2023-03-24T15:02:13.064Z"
   },
   {
    "duration": 186,
    "start_time": "2023-03-24T15:03:10.016Z"
   },
   {
    "duration": 33,
    "start_time": "2023-03-24T15:04:39.188Z"
   },
   {
    "duration": 32,
    "start_time": "2023-03-24T15:04:47.962Z"
   },
   {
    "duration": 4072,
    "start_time": "2023-03-24T15:08:34.951Z"
   },
   {
    "duration": 571,
    "start_time": "2023-03-24T15:09:22.749Z"
   },
   {
    "duration": 13,
    "start_time": "2023-03-24T15:09:38.171Z"
   },
   {
    "duration": 10,
    "start_time": "2023-03-24T15:09:41.572Z"
   },
   {
    "duration": 561,
    "start_time": "2023-03-24T15:12:21.520Z"
   },
   {
    "duration": 592,
    "start_time": "2023-03-24T15:14:23.102Z"
   },
   {
    "duration": 620,
    "start_time": "2023-03-24T15:15:38.628Z"
   },
   {
    "duration": 790,
    "start_time": "2023-03-24T15:15:44.118Z"
   },
   {
    "duration": 709,
    "start_time": "2023-03-24T15:15:53.690Z"
   },
   {
    "duration": 778,
    "start_time": "2023-03-24T15:16:07.716Z"
   },
   {
    "duration": 1087,
    "start_time": "2023-03-24T15:16:15.584Z"
   },
   {
    "duration": 1491,
    "start_time": "2023-03-27T16:52:49.359Z"
   },
   {
    "duration": 1366,
    "start_time": "2023-03-27T16:52:51.390Z"
   },
   {
    "duration": 18,
    "start_time": "2023-03-27T16:52:54.147Z"
   },
   {
    "duration": 156,
    "start_time": "2023-03-27T16:52:57.092Z"
   },
   {
    "duration": 104,
    "start_time": "2023-03-27T16:53:05.518Z"
   },
   {
    "duration": 136,
    "start_time": "2023-03-27T16:53:11.875Z"
   },
   {
    "duration": 25,
    "start_time": "2023-03-27T16:53:17.328Z"
   },
   {
    "duration": 4565,
    "start_time": "2023-03-27T16:53:20.434Z"
   },
   {
    "duration": 185,
    "start_time": "2023-03-27T16:55:00.093Z"
   },
   {
    "duration": 244,
    "start_time": "2023-03-27T16:55:03.434Z"
   },
   {
    "duration": 3,
    "start_time": "2023-03-27T16:55:16.460Z"
   },
   {
    "duration": 1011,
    "start_time": "2023-03-27T16:55:17.888Z"
   },
   {
    "duration": 14,
    "start_time": "2023-03-27T16:55:19.457Z"
   },
   {
    "duration": 183,
    "start_time": "2023-03-27T16:55:22.077Z"
   },
   {
    "duration": 134,
    "start_time": "2023-03-27T16:55:24.197Z"
   },
   {
    "duration": 7638,
    "start_time": "2023-03-27T16:55:35.138Z"
   },
   {
    "duration": 187,
    "start_time": "2023-03-27T16:55:57.038Z"
   },
   {
    "duration": 520,
    "start_time": "2023-03-27T16:55:59.050Z"
   },
   {
    "duration": 1233,
    "start_time": "2023-03-27T16:56:01.892Z"
   },
   {
    "duration": 32,
    "start_time": "2023-03-27T16:56:05.784Z"
   },
   {
    "duration": 11,
    "start_time": "2023-03-27T16:59:38.498Z"
   },
   {
    "duration": 19,
    "start_time": "2023-03-27T16:59:53.011Z"
   },
   {
    "duration": 9,
    "start_time": "2023-03-27T16:59:59.147Z"
   },
   {
    "duration": 9,
    "start_time": "2023-03-27T17:00:10.388Z"
   },
   {
    "duration": 168,
    "start_time": "2023-03-27T17:00:44.987Z"
   },
   {
    "duration": 811,
    "start_time": "2023-03-27T17:01:21.151Z"
   },
   {
    "duration": 1093,
    "start_time": "2023-03-27T17:01:39.475Z"
   },
   {
    "duration": 996,
    "start_time": "2023-03-27T17:01:52.400Z"
   },
   {
    "duration": 1083,
    "start_time": "2023-03-27T17:02:01.385Z"
   },
   {
    "duration": 1063,
    "start_time": "2023-03-27T17:02:12.012Z"
   },
   {
    "duration": 1160,
    "start_time": "2023-03-27T17:02:22.677Z"
   },
   {
    "duration": 22,
    "start_time": "2023-03-27T17:04:18.737Z"
   },
   {
    "duration": 10,
    "start_time": "2023-03-27T17:04:23.984Z"
   },
   {
    "duration": 150,
    "start_time": "2023-03-27T17:04:55.628Z"
   },
   {
    "duration": 139,
    "start_time": "2023-03-27T17:05:23.841Z"
   },
   {
    "duration": 49,
    "start_time": "2023-03-27T17:05:37.918Z"
   },
   {
    "duration": 179,
    "start_time": "2023-03-27T17:05:43.888Z"
   },
   {
    "duration": 12,
    "start_time": "2023-03-27T17:06:09.585Z"
   },
   {
    "duration": 15,
    "start_time": "2023-03-27T17:06:12.630Z"
   },
   {
    "duration": 19,
    "start_time": "2023-03-27T17:06:31.714Z"
   },
   {
    "duration": 97,
    "start_time": "2023-03-27T17:06:44.452Z"
   },
   {
    "duration": 127,
    "start_time": "2023-03-27T17:06:57.712Z"
   },
   {
    "duration": 104,
    "start_time": "2023-03-27T17:07:05.543Z"
   },
   {
    "duration": 153,
    "start_time": "2023-03-27T17:07:32.589Z"
   },
   {
    "duration": 165,
    "start_time": "2023-03-27T17:07:38.694Z"
   },
   {
    "duration": 136,
    "start_time": "2023-03-27T17:07:43.932Z"
   },
   {
    "duration": 107,
    "start_time": "2023-03-27T17:08:00.422Z"
   },
   {
    "duration": 116,
    "start_time": "2023-03-27T17:08:08.885Z"
   },
   {
    "duration": 114,
    "start_time": "2023-03-27T17:08:14.888Z"
   },
   {
    "duration": 160,
    "start_time": "2023-03-27T17:08:25.803Z"
   },
   {
    "duration": 118,
    "start_time": "2023-03-27T17:09:38.244Z"
   },
   {
    "duration": 1312,
    "start_time": "2023-03-27T17:09:46.528Z"
   },
   {
    "duration": 1071,
    "start_time": "2023-03-27T17:09:53.687Z"
   },
   {
    "duration": 13,
    "start_time": "2023-03-27T17:10:02.051Z"
   },
   {
    "duration": 11,
    "start_time": "2023-03-27T17:10:06.486Z"
   },
   {
    "duration": 284,
    "start_time": "2023-03-27T17:10:17.583Z"
   },
   {
    "duration": 780,
    "start_time": "2023-03-27T17:10:24.400Z"
   },
   {
    "duration": 2993,
    "start_time": "2023-03-27T17:10:29.948Z"
   },
   {
    "duration": 460,
    "start_time": "2023-03-27T17:10:44.351Z"
   },
   {
    "duration": 661,
    "start_time": "2023-03-27T17:10:50.081Z"
   },
   {
    "duration": 163,
    "start_time": "2023-03-27T17:11:04.814Z"
   },
   {
    "duration": 237,
    "start_time": "2023-03-27T17:11:09.323Z"
   },
   {
    "duration": 1373,
    "start_time": "2023-03-28T18:23:41.360Z"
   },
   {
    "duration": 1175,
    "start_time": "2023-03-28T18:23:42.735Z"
   },
   {
    "duration": 16,
    "start_time": "2023-03-28T18:23:43.912Z"
   },
   {
    "duration": 136,
    "start_time": "2023-03-28T18:23:43.929Z"
   },
   {
    "duration": 112,
    "start_time": "2023-03-28T18:23:44.067Z"
   },
   {
    "duration": 136,
    "start_time": "2023-03-28T18:23:44.181Z"
   },
   {
    "duration": 5334,
    "start_time": "2023-03-28T18:23:44.318Z"
   },
   {
    "duration": 182,
    "start_time": "2023-03-28T18:23:49.654Z"
   },
   {
    "duration": 464,
    "start_time": "2023-03-28T18:23:49.838Z"
   },
   {
    "duration": 945,
    "start_time": "2023-03-28T18:23:50.303Z"
   },
   {
    "duration": 25,
    "start_time": "2023-03-28T18:23:51.250Z"
   },
   {
    "duration": 771,
    "start_time": "2023-03-28T18:23:51.277Z"
   },
   {
    "duration": 121,
    "start_time": "2023-03-28T18:36:11.403Z"
   },
   {
    "duration": 51,
    "start_time": "2023-03-28T18:36:21.065Z"
   },
   {
    "duration": 7,
    "start_time": "2023-03-28T19:35:56.009Z"
   },
   {
    "duration": 19,
    "start_time": "2023-03-28T19:40:16.867Z"
   },
   {
    "duration": 780,
    "start_time": "2023-03-28T19:40:29.544Z"
   },
   {
    "duration": 146,
    "start_time": "2023-03-28T19:40:36.683Z"
   },
   {
    "duration": 388,
    "start_time": "2023-03-28T19:40:38.729Z"
   },
   {
    "duration": 859,
    "start_time": "2023-03-28T19:40:40.767Z"
   },
   {
    "duration": 33,
    "start_time": "2023-03-28T19:40:55.761Z"
   },
   {
    "duration": 659,
    "start_time": "2023-03-28T19:40:58.507Z"
   },
   {
    "duration": 427,
    "start_time": "2023-03-28T19:41:27.310Z"
   },
   {
    "duration": 521,
    "start_time": "2023-03-28T19:42:20.818Z"
   },
   {
    "duration": 776,
    "start_time": "2023-03-28T19:42:26.559Z"
   },
   {
    "duration": 444,
    "start_time": "2023-03-28T19:42:29.774Z"
   },
   {
    "duration": 441,
    "start_time": "2023-03-28T19:42:36.733Z"
   },
   {
    "duration": 38,
    "start_time": "2023-03-28T19:43:17.429Z"
   },
   {
    "duration": 40,
    "start_time": "2023-03-28T19:43:27.715Z"
   },
   {
    "duration": 20,
    "start_time": "2023-03-28T19:45:05.972Z"
   },
   {
    "duration": 8,
    "start_time": "2023-03-28T19:45:18.977Z"
   },
   {
    "duration": 8,
    "start_time": "2023-03-28T19:45:32.593Z"
   },
   {
    "duration": 25,
    "start_time": "2023-03-28T19:45:42.176Z"
   },
   {
    "duration": 4,
    "start_time": "2023-03-28T19:45:52.507Z"
   },
   {
    "duration": 23,
    "start_time": "2023-03-28T19:48:39.565Z"
   },
   {
    "duration": 2,
    "start_time": "2023-03-28T19:50:57.153Z"
   },
   {
    "duration": 39,
    "start_time": "2023-03-28T19:51:27.082Z"
   },
   {
    "duration": 3,
    "start_time": "2023-03-28T19:51:31.546Z"
   },
   {
    "duration": 66,
    "start_time": "2023-03-28T19:53:05.119Z"
   },
   {
    "duration": 69,
    "start_time": "2023-03-28T19:55:32.339Z"
   },
   {
    "duration": 66,
    "start_time": "2023-03-28T19:55:39.468Z"
   },
   {
    "duration": 4,
    "start_time": "2023-03-28T19:56:25.625Z"
   },
   {
    "duration": 65,
    "start_time": "2023-03-28T19:56:41.510Z"
   },
   {
    "duration": 63,
    "start_time": "2023-03-28T19:56:46.002Z"
   },
   {
    "duration": 60,
    "start_time": "2023-03-28T19:56:46.514Z"
   },
   {
    "duration": 59,
    "start_time": "2023-03-28T19:56:46.982Z"
   },
   {
    "duration": 73,
    "start_time": "2023-03-28T19:56:47.375Z"
   },
   {
    "duration": 67,
    "start_time": "2023-03-28T19:56:47.813Z"
   },
   {
    "duration": 64,
    "start_time": "2023-03-28T19:56:48.247Z"
   },
   {
    "duration": 64,
    "start_time": "2023-03-28T19:56:48.640Z"
   },
   {
    "duration": 61,
    "start_time": "2023-03-28T19:56:49.041Z"
   },
   {
    "duration": 62,
    "start_time": "2023-03-28T19:56:49.299Z"
   },
   {
    "duration": 70,
    "start_time": "2023-03-28T19:56:50.720Z"
   },
   {
    "duration": 3,
    "start_time": "2023-03-28T19:56:53.733Z"
   },
   {
    "duration": 29,
    "start_time": "2023-03-28T19:58:22.097Z"
   },
   {
    "duration": 28,
    "start_time": "2023-03-28T20:01:49.951Z"
   },
   {
    "duration": 28,
    "start_time": "2023-03-28T20:02:10.532Z"
   },
   {
    "duration": 28,
    "start_time": "2023-03-28T20:02:18.584Z"
   },
   {
    "duration": 27,
    "start_time": "2023-03-28T20:02:30.726Z"
   },
   {
    "duration": 29,
    "start_time": "2023-03-28T20:03:09.015Z"
   },
   {
    "duration": 105,
    "start_time": "2023-03-28T20:05:35.629Z"
   },
   {
    "duration": 19,
    "start_time": "2023-03-28T20:05:42.309Z"
   },
   {
    "duration": 1138,
    "start_time": "2023-03-28T20:06:21.952Z"
   },
   {
    "duration": 783,
    "start_time": "2023-03-28T20:06:23.092Z"
   },
   {
    "duration": 20,
    "start_time": "2023-03-28T20:06:23.877Z"
   },
   {
    "duration": 141,
    "start_time": "2023-03-28T20:06:23.899Z"
   },
   {
    "duration": 101,
    "start_time": "2023-03-28T20:06:24.041Z"
   },
   {
    "duration": 132,
    "start_time": "2023-03-28T20:06:24.144Z"
   },
   {
    "duration": 4882,
    "start_time": "2023-03-28T20:06:24.277Z"
   },
   {
    "duration": 307,
    "start_time": "2023-03-28T20:06:29.161Z"
   },
   {
    "duration": 442,
    "start_time": "2023-03-28T20:06:29.470Z"
   },
   {
    "duration": 938,
    "start_time": "2023-03-28T20:06:29.914Z"
   },
   {
    "duration": 36,
    "start_time": "2023-03-28T20:06:30.853Z"
   },
   {
    "duration": 450,
    "start_time": "2023-03-28T20:06:30.891Z"
   },
   {
    "duration": 2,
    "start_time": "2023-03-28T20:06:31.343Z"
   },
   {
    "duration": 20,
    "start_time": "2023-03-28T20:06:31.346Z"
   },
   {
    "duration": 106,
    "start_time": "2023-03-28T20:06:31.368Z"
   },
   {
    "duration": 4,
    "start_time": "2023-03-28T20:07:00.466Z"
   },
   {
    "duration": 643,
    "start_time": "2023-03-28T21:01:10.879Z"
   },
   {
    "duration": 1771,
    "start_time": "2023-04-11T14:26:39.364Z"
   },
   {
    "duration": 3445,
    "start_time": "2023-04-11T14:26:41.138Z"
   },
   {
    "duration": 20,
    "start_time": "2023-04-11T14:26:44.586Z"
   },
   {
    "duration": 143,
    "start_time": "2023-04-11T14:36:14.722Z"
   },
   {
    "duration": 116,
    "start_time": "2023-04-11T14:36:17.063Z"
   },
   {
    "duration": 135,
    "start_time": "2023-04-11T14:36:18.680Z"
   },
   {
    "duration": 6379,
    "start_time": "2023-04-11T14:36:20.467Z"
   },
   {
    "duration": 330,
    "start_time": "2023-04-11T14:36:28.935Z"
   },
   {
    "duration": 391,
    "start_time": "2023-04-11T14:36:31.839Z"
   },
   {
    "duration": 465,
    "start_time": "2023-04-11T14:36:33.608Z"
   },
   {
    "duration": 1163,
    "start_time": "2023-04-11T14:36:35.104Z"
   },
   {
    "duration": 41,
    "start_time": "2023-04-11T14:36:36.853Z"
   },
   {
    "duration": 3,
    "start_time": "2023-04-11T14:36:50.870Z"
   },
   {
    "duration": 5,
    "start_time": "2023-04-11T14:36:53.012Z"
   },
   {
    "duration": 128,
    "start_time": "2023-04-11T14:36:54.304Z"
   },
   {
    "duration": 34,
    "start_time": "2023-04-11T14:39:14.869Z"
   },
   {
    "duration": 987,
    "start_time": "2023-04-11T14:41:32.939Z"
   },
   {
    "duration": 230,
    "start_time": "2023-04-11T14:41:37.437Z"
   },
   {
    "duration": 265,
    "start_time": "2023-04-11T14:47:40.361Z"
   },
   {
    "duration": 29,
    "start_time": "2023-04-11T14:47:44.896Z"
   },
   {
    "duration": 145,
    "start_time": "2023-04-11T14:47:59.521Z"
   },
   {
    "duration": 9,
    "start_time": "2023-04-11T14:48:30.703Z"
   },
   {
    "duration": 31,
    "start_time": "2023-04-11T14:48:39.683Z"
   },
   {
    "duration": 242,
    "start_time": "2023-04-11T14:48:53.203Z"
   },
   {
    "duration": 5,
    "start_time": "2023-04-11T14:49:07.209Z"
   },
   {
    "duration": 165,
    "start_time": "2023-04-11T14:49:08.368Z"
   },
   {
    "duration": 49,
    "start_time": "2023-04-11T14:49:14.067Z"
   },
   {
    "duration": 40,
    "start_time": "2023-04-11T14:49:15.628Z"
   },
   {
    "duration": 976,
    "start_time": "2023-04-11T14:49:31.396Z"
   },
   {
    "duration": 115,
    "start_time": "2023-04-11T14:50:40.987Z"
   },
   {
    "duration": 33,
    "start_time": "2023-04-11T14:50:55.790Z"
   },
   {
    "duration": 46,
    "start_time": "2023-04-11T14:52:02.735Z"
   },
   {
    "duration": 158,
    "start_time": "2023-04-11T14:52:05.864Z"
   },
   {
    "duration": 38,
    "start_time": "2023-04-11T14:52:08.920Z"
   },
   {
    "duration": 48,
    "start_time": "2023-04-11T14:52:10.075Z"
   },
   {
    "duration": 50,
    "start_time": "2023-04-11T14:52:32.525Z"
   },
   {
    "duration": 34,
    "start_time": "2023-04-11T14:52:38.167Z"
   },
   {
    "duration": 78,
    "start_time": "2023-04-11T14:52:54.808Z"
   },
   {
    "duration": 57,
    "start_time": "2023-04-11T14:53:00.938Z"
   },
   {
    "duration": 272,
    "start_time": "2023-04-11T14:53:17.705Z"
   },
   {
    "duration": 484,
    "start_time": "2023-04-11T14:53:19.154Z"
   },
   {
    "duration": 1120,
    "start_time": "2023-04-11T14:53:20.788Z"
   },
   {
    "duration": 46,
    "start_time": "2023-04-11T14:53:25.038Z"
   },
   {
    "duration": 559,
    "start_time": "2023-04-11T14:53:26.971Z"
   },
   {
    "duration": 3,
    "start_time": "2023-04-11T14:53:29.691Z"
   },
   {
    "duration": 5,
    "start_time": "2023-04-11T14:53:31.024Z"
   },
   {
    "duration": 109,
    "start_time": "2023-04-11T14:53:32.017Z"
   },
   {
    "duration": 49,
    "start_time": "2023-04-11T14:53:37.699Z"
   },
   {
    "duration": 972,
    "start_time": "2023-04-11T14:53:49.659Z"
   },
   {
    "duration": 914,
    "start_time": "2023-04-11T14:54:18.236Z"
   },
   {
    "duration": 1191,
    "start_time": "2023-04-11T14:55:15.679Z"
   },
   {
    "duration": 1004,
    "start_time": "2023-04-11T14:55:37.113Z"
   },
   {
    "duration": 117,
    "start_time": "2023-04-11T14:56:06.964Z"
   },
   {
    "duration": 1525,
    "start_time": "2023-04-11T18:59:37.779Z"
   },
   {
    "duration": 3228,
    "start_time": "2023-04-11T18:59:41.494Z"
   },
   {
    "duration": 156,
    "start_time": "2023-04-11T18:59:49.070Z"
   },
   {
    "duration": 5959,
    "start_time": "2023-04-11T18:59:52.487Z"
   },
   {
    "duration": 376,
    "start_time": "2023-04-11T18:59:58.447Z"
   },
   {
    "duration": 521,
    "start_time": "2023-04-11T19:00:00.900Z"
   },
   {
    "duration": 1036,
    "start_time": "2023-04-11T19:00:02.483Z"
   },
   {
    "duration": 35,
    "start_time": "2023-04-11T19:00:04.898Z"
   },
   {
    "duration": 521,
    "start_time": "2023-04-11T19:00:07.666Z"
   },
   {
    "duration": 2,
    "start_time": "2023-04-11T19:00:10.737Z"
   },
   {
    "duration": 4,
    "start_time": "2023-04-11T19:00:11.579Z"
   },
   {
    "duration": 95,
    "start_time": "2023-04-11T19:00:12.611Z"
   },
   {
    "duration": 749,
    "start_time": "2023-04-11T19:09:20.024Z"
   },
   {
    "duration": 135,
    "start_time": "2023-04-11T19:09:24.480Z"
   },
   {
    "duration": 1482,
    "start_time": "2023-04-12T13:26:10.588Z"
   },
   {
    "duration": 1276,
    "start_time": "2023-04-12T13:26:12.072Z"
   },
   {
    "duration": 20,
    "start_time": "2023-04-12T13:26:13.350Z"
   },
   {
    "duration": 141,
    "start_time": "2023-04-12T13:26:13.372Z"
   },
   {
    "duration": 111,
    "start_time": "2023-04-12T13:26:13.515Z"
   },
   {
    "duration": 124,
    "start_time": "2023-04-12T13:26:13.628Z"
   },
   {
    "duration": 6121,
    "start_time": "2023-04-12T13:26:13.754Z"
   },
   {
    "duration": 292,
    "start_time": "2023-04-12T13:26:19.877Z"
   },
   {
    "duration": 510,
    "start_time": "2023-04-12T13:26:20.171Z"
   },
   {
    "duration": 1046,
    "start_time": "2023-04-12T13:26:20.683Z"
   },
   {
    "duration": 24,
    "start_time": "2023-04-12T13:26:21.731Z"
   },
   {
    "duration": 578,
    "start_time": "2023-04-12T13:26:21.757Z"
   },
   {
    "duration": 3,
    "start_time": "2023-04-12T13:26:22.337Z"
   },
   {
    "duration": 11,
    "start_time": "2023-04-12T13:26:22.343Z"
   },
   {
    "duration": 105,
    "start_time": "2023-04-12T13:26:22.357Z"
   },
   {
    "duration": 798,
    "start_time": "2023-04-12T13:26:22.464Z"
   },
   {
    "duration": 141,
    "start_time": "2023-04-12T13:26:23.264Z"
   },
   {
    "duration": 6,
    "start_time": "2023-04-12T13:26:23.411Z"
   },
   {
    "duration": 5,
    "start_time": "2023-04-12T13:48:29.589Z"
   },
   {
    "duration": 130,
    "start_time": "2023-04-12T14:17:04.546Z"
   },
   {
    "duration": 350,
    "start_time": "2023-04-12T14:17:23.110Z"
   },
   {
    "duration": 646,
    "start_time": "2023-04-12T14:17:27.338Z"
   },
   {
    "duration": 25,
    "start_time": "2023-04-12T14:24:20.660Z"
   },
   {
    "duration": 21,
    "start_time": "2023-04-12T14:25:20.529Z"
   },
   {
    "duration": 16,
    "start_time": "2023-04-12T14:26:49.322Z"
   },
   {
    "duration": 12,
    "start_time": "2023-04-12T14:27:11.590Z"
   },
   {
    "duration": 100,
    "start_time": "2023-04-12T14:27:42.002Z"
   },
   {
    "duration": 3,
    "start_time": "2023-04-12T14:27:59.264Z"
   },
   {
    "duration": 130,
    "start_time": "2023-04-12T14:28:48.439Z"
   },
   {
    "duration": 1748,
    "start_time": "2023-04-13T08:47:32.506Z"
   },
   {
    "duration": 1114,
    "start_time": "2023-04-13T08:47:34.256Z"
   },
   {
    "duration": 16,
    "start_time": "2023-04-13T08:47:35.372Z"
   },
   {
    "duration": 138,
    "start_time": "2023-04-13T08:47:35.390Z"
   },
   {
    "duration": 142,
    "start_time": "2023-04-13T08:47:35.530Z"
   },
   {
    "duration": 136,
    "start_time": "2023-04-13T08:47:35.673Z"
   },
   {
    "duration": 5541,
    "start_time": "2023-04-13T08:47:35.811Z"
   },
   {
    "duration": 275,
    "start_time": "2023-04-13T08:47:41.354Z"
   },
   {
    "duration": 456,
    "start_time": "2023-04-13T08:47:41.631Z"
   },
   {
    "duration": 1069,
    "start_time": "2023-04-13T08:47:42.088Z"
   },
   {
    "duration": 35,
    "start_time": "2023-04-13T08:47:43.159Z"
   },
   {
    "duration": 532,
    "start_time": "2023-04-13T08:47:43.196Z"
   },
   {
    "duration": 3,
    "start_time": "2023-04-13T08:47:43.730Z"
   },
   {
    "duration": 21,
    "start_time": "2023-04-13T08:47:43.736Z"
   },
   {
    "duration": 88,
    "start_time": "2023-04-13T08:47:43.759Z"
   },
   {
    "duration": 725,
    "start_time": "2023-04-13T08:47:43.849Z"
   },
   {
    "duration": 122,
    "start_time": "2023-04-13T08:47:44.576Z"
   },
   {
    "duration": 584,
    "start_time": "2023-04-13T08:47:44.700Z"
   },
   {
    "duration": 3083363,
    "start_time": "2023-04-13T08:47:45.286Z"
   },
   {
    "duration": 4,
    "start_time": "2023-04-13T09:52:39.709Z"
   },
   {
    "duration": 5,
    "start_time": "2023-04-13T09:53:06.418Z"
   },
   {
    "duration": 358749,
    "start_time": "2023-04-13T09:55:46.741Z"
   },
   {
    "duration": 111,
    "start_time": "2023-04-13T13:30:36.443Z"
   },
   {
    "duration": 52,
    "start_time": "2023-04-13T13:32:00.632Z"
   },
   {
    "duration": 19,
    "start_time": "2023-04-13T13:32:12.388Z"
   },
   {
    "duration": 3,
    "start_time": "2023-04-13T13:32:38.113Z"
   },
   {
    "duration": 19,
    "start_time": "2023-04-13T13:32:43.626Z"
   },
   {
    "duration": 757683,
    "start_time": "2023-04-13T13:32:54.074Z"
   },
   {
    "duration": 4,
    "start_time": "2023-04-13T13:46:25.263Z"
   },
   {
    "duration": 48,
    "start_time": "2023-04-13T13:49:09.748Z"
   },
   {
    "duration": 40,
    "start_time": "2023-04-13T13:49:22.948Z"
   },
   {
    "duration": 22944,
    "start_time": "2023-04-13T13:49:36.193Z"
   },
   {
    "duration": 96,
    "start_time": "2023-04-13T13:57:20.393Z"
   },
   {
    "duration": 28,
    "start_time": "2023-04-13T13:57:46.245Z"
   },
   {
    "duration": 62199,
    "start_time": "2023-04-13T13:59:26.802Z"
   },
   {
    "duration": 98,
    "start_time": "2023-04-13T14:45:35.870Z"
   },
   {
    "duration": 4,
    "start_time": "2023-04-13T14:46:01.355Z"
   },
   {
    "duration": 3773,
    "start_time": "2023-04-13T14:46:08.455Z"
   },
   {
    "duration": 191,
    "start_time": "2023-04-13T14:46:12.229Z"
   },
   {
    "duration": 9810,
    "start_time": "2023-04-13T14:46:13.777Z"
   },
   {
    "duration": 1550,
    "start_time": "2023-04-14T12:59:57.021Z"
   },
   {
    "duration": 988,
    "start_time": "2023-04-14T12:59:59.129Z"
   },
   {
    "duration": 238,
    "start_time": "2023-04-14T13:00:05.465Z"
   },
   {
    "duration": 371,
    "start_time": "2023-04-14T13:00:09.617Z"
   },
   {
    "duration": 884,
    "start_time": "2023-04-14T13:00:11.180Z"
   },
   {
    "duration": 34,
    "start_time": "2023-04-14T13:00:15.796Z"
   },
   {
    "duration": 598,
    "start_time": "2023-04-14T13:00:22.138Z"
   },
   {
    "duration": 2,
    "start_time": "2023-04-14T13:00:24.801Z"
   },
   {
    "duration": 3,
    "start_time": "2023-04-14T13:00:25.930Z"
   },
   {
    "duration": 83,
    "start_time": "2023-04-14T13:00:27.660Z"
   },
   {
    "duration": 1630,
    "start_time": "2023-04-15T10:50:43.317Z"
   },
   {
    "duration": 6,
    "start_time": "2023-04-15T10:52:12.479Z"
   },
   {
    "duration": 2822,
    "start_time": "2023-04-15T10:58:05.611Z"
   },
   {
    "duration": 108,
    "start_time": "2023-04-15T10:58:12.697Z"
   },
   {
    "duration": 242,
    "start_time": "2023-04-15T10:58:18.242Z"
   },
   {
    "duration": 387,
    "start_time": "2023-04-15T10:58:51.005Z"
   },
   {
    "duration": 803,
    "start_time": "2023-04-15T10:58:53.321Z"
   },
   {
    "duration": 31,
    "start_time": "2023-04-15T10:58:57.466Z"
   },
   {
    "duration": 415,
    "start_time": "2023-04-15T10:59:00.103Z"
   },
   {
    "duration": 3,
    "start_time": "2023-04-15T10:59:02.759Z"
   },
   {
    "duration": 4,
    "start_time": "2023-04-15T10:59:04.613Z"
   },
   {
    "duration": 75,
    "start_time": "2023-04-15T10:59:08.689Z"
   },
   {
    "duration": 4,
    "start_time": "2023-04-15T11:00:27.520Z"
   },
   {
    "duration": 13,
    "start_time": "2023-04-15T11:05:02.914Z"
   },
   {
    "duration": 172,
    "start_time": "2023-04-15T11:08:07.493Z"
   },
   {
    "duration": 100,
    "start_time": "2023-04-15T11:08:36.718Z"
   },
   {
    "duration": 87,
    "start_time": "2023-04-15T11:08:39.971Z"
   },
   {
    "duration": 52,
    "start_time": "2023-04-15T11:08:44.151Z"
   },
   {
    "duration": 3,
    "start_time": "2023-04-15T11:09:37.490Z"
   },
   {
    "duration": 54,
    "start_time": "2023-04-15T11:09:45.103Z"
   },
   {
    "duration": 17,
    "start_time": "2023-04-15T11:10:00.210Z"
   },
   {
    "duration": 52,
    "start_time": "2023-04-15T11:10:30.447Z"
   },
   {
    "duration": 20,
    "start_time": "2023-04-15T11:11:13.837Z"
   },
   {
    "duration": 54,
    "start_time": "2023-04-15T11:13:48.372Z"
   },
   {
    "duration": 73,
    "start_time": "2023-04-15T11:13:50.590Z"
   },
   {
    "duration": 773,
    "start_time": "2023-04-15T11:15:01.783Z"
   },
   {
    "duration": 257820,
    "start_time": "2023-04-15T11:16:17.575Z"
   },
   {
    "duration": 4,
    "start_time": "2023-04-15T11:21:35.195Z"
   },
   {
    "duration": 3,
    "start_time": "2023-04-15T11:22:11.166Z"
   },
   {
    "duration": 8,
    "start_time": "2023-04-15T11:28:01.553Z"
   },
   {
    "duration": 194,
    "start_time": "2023-04-15T11:28:05.816Z"
   },
   {
    "duration": 302,
    "start_time": "2023-04-15T11:28:30.438Z"
   },
   {
    "duration": 4,
    "start_time": "2023-04-15T11:31:30.631Z"
   },
   {
    "duration": 18,
    "start_time": "2023-04-15T11:31:33.139Z"
   },
   {
    "duration": 17,
    "start_time": "2023-04-15T11:34:43.094Z"
   },
   {
    "duration": 290,
    "start_time": "2023-04-15T11:35:53.979Z"
   },
   {
    "duration": 57,
    "start_time": "2023-04-15T11:36:03.567Z"
   },
   {
    "duration": 4225,
    "start_time": "2023-04-15T11:36:17.398Z"
   },
   {
    "duration": 290,
    "start_time": "2023-04-15T11:36:21.945Z"
   },
   {
    "duration": 10,
    "start_time": "2023-04-15T11:46:33.994Z"
   },
   {
    "duration": 643,
    "start_time": "2023-04-15T11:47:10.381Z"
   },
   {
    "duration": 4127,
    "start_time": "2023-04-15T11:48:07.204Z"
   },
   {
    "duration": 4,
    "start_time": "2023-04-15T11:48:15.494Z"
   },
   {
    "duration": 687,
    "start_time": "2023-04-15T11:48:34.978Z"
   },
   {
    "duration": 256341,
    "start_time": "2023-04-15T11:52:36.696Z"
   },
   {
    "duration": 5,
    "start_time": "2023-04-15T12:02:16.112Z"
   },
   {
    "duration": 3717,
    "start_time": "2023-04-15T12:02:18.598Z"
   },
   {
    "duration": 690,
    "start_time": "2023-04-15T12:02:25.772Z"
   },
   {
    "duration": 17,
    "start_time": "2023-04-15T12:02:52.904Z"
   },
   {
    "duration": 5,
    "start_time": "2023-04-15T12:03:03.108Z"
   },
   {
    "duration": 770,
    "start_time": "2023-04-15T12:03:25.573Z"
   },
   {
    "duration": 19,
    "start_time": "2023-04-15T12:03:31.639Z"
   },
   {
    "duration": 3,
    "start_time": "2023-04-15T12:03:58.330Z"
   },
   {
    "duration": 4,
    "start_time": "2023-04-15T12:04:03.626Z"
   },
   {
    "duration": 23343,
    "start_time": "2023-04-15T12:04:23.512Z"
   },
   {
    "duration": 22611,
    "start_time": "2023-04-15T12:05:38.787Z"
   },
   {
    "duration": 23285,
    "start_time": "2023-04-15T12:06:08.244Z"
   },
   {
    "duration": 22823,
    "start_time": "2023-04-15T12:06:58.967Z"
   },
   {
    "duration": 24053,
    "start_time": "2023-04-15T12:08:06.304Z"
   },
   {
    "duration": 3,
    "start_time": "2023-04-15T12:10:02.767Z"
   },
   {
    "duration": 47,
    "start_time": "2023-04-15T12:11:12.194Z"
   },
   {
    "duration": 3771,
    "start_time": "2023-04-15T12:11:59.274Z"
   },
   {
    "duration": 680,
    "start_time": "2023-04-15T12:13:33.512Z"
   },
   {
    "duration": 198,
    "start_time": "2023-04-15T12:13:37.435Z"
   },
   {
    "duration": 296,
    "start_time": "2023-04-15T12:13:39.356Z"
   },
   {
    "duration": 742,
    "start_time": "2023-04-15T12:13:40.566Z"
   },
   {
    "duration": 31,
    "start_time": "2023-04-15T12:13:42.703Z"
   },
   {
    "duration": 400,
    "start_time": "2023-04-15T12:13:44.424Z"
   },
   {
    "duration": 2,
    "start_time": "2023-04-15T12:13:46.741Z"
   },
   {
    "duration": 3,
    "start_time": "2023-04-15T12:13:48.101Z"
   },
   {
    "duration": 74,
    "start_time": "2023-04-15T12:13:49.971Z"
   },
   {
    "duration": 96,
    "start_time": "2023-04-15T12:13:55.423Z"
   },
   {
    "duration": 71,
    "start_time": "2023-04-15T12:13:58.279Z"
   },
   {
    "duration": 836,
    "start_time": "2023-04-15T12:14:05.406Z"
   },
   {
    "duration": 2835244,
    "start_time": "2023-04-15T12:14:23.009Z"
   },
   {
    "duration": 4,
    "start_time": "2023-04-15T13:01:38.255Z"
   },
   {
    "duration": 333067,
    "start_time": "2023-04-15T13:05:51.128Z"
   },
   {
    "duration": 4,
    "start_time": "2023-04-15T13:12:09.599Z"
   },
   {
    "duration": 4,
    "start_time": "2023-04-15T13:12:16.699Z"
   },
   {
    "duration": 4,
    "start_time": "2023-04-15T13:12:19.652Z"
   },
   {
    "duration": 1482,
    "start_time": "2023-04-15T13:12:27.766Z"
   },
   {
    "duration": 3057,
    "start_time": "2023-04-15T13:18:27.966Z"
   },
   {
    "duration": 3,
    "start_time": "2023-04-15T13:19:52.204Z"
   },
   {
    "duration": 1725211,
    "start_time": "2023-04-15T13:22:39.625Z"
   },
   {
    "duration": 1567,
    "start_time": "2023-04-15T13:59:09.703Z"
   },
   {
    "duration": 806,
    "start_time": "2023-04-15T13:59:11.271Z"
   },
   {
    "duration": 23,
    "start_time": "2023-04-15T13:59:12.079Z"
   },
   {
    "duration": 136,
    "start_time": "2023-04-15T13:59:12.106Z"
   },
   {
    "duration": 103,
    "start_time": "2023-04-15T13:59:12.244Z"
   },
   {
    "duration": 134,
    "start_time": "2023-04-15T13:59:12.348Z"
   },
   {
    "duration": 4917,
    "start_time": "2023-04-15T13:59:12.484Z"
   },
   {
    "duration": 239,
    "start_time": "2023-04-15T13:59:17.403Z"
   },
   {
    "duration": 417,
    "start_time": "2023-04-15T13:59:17.644Z"
   },
   {
    "duration": 823,
    "start_time": "2023-04-15T13:59:18.064Z"
   },
   {
    "duration": 25,
    "start_time": "2023-04-15T13:59:18.889Z"
   },
   {
    "duration": 426,
    "start_time": "2023-04-15T13:59:18.915Z"
   },
   {
    "duration": 3,
    "start_time": "2023-04-15T13:59:19.342Z"
   },
   {
    "duration": 10,
    "start_time": "2023-04-15T13:59:19.346Z"
   },
   {
    "duration": 95,
    "start_time": "2023-04-15T13:59:19.358Z"
   },
   {
    "duration": 188,
    "start_time": "2023-04-15T13:59:19.454Z"
   },
   {
    "duration": 97,
    "start_time": "2023-04-15T13:59:19.643Z"
   },
   {
    "duration": 842,
    "start_time": "2023-04-15T13:59:19.742Z"
   },
   {
    "duration": 1811,
    "start_time": "2023-04-15T18:31:42.714Z"
   },
   {
    "duration": 3819,
    "start_time": "2023-04-15T18:31:44.528Z"
   },
   {
    "duration": 417,
    "start_time": "2023-04-15T18:31:48.349Z"
   },
   {
    "duration": 520,
    "start_time": "2023-04-15T18:31:49.249Z"
   },
   {
    "duration": 484,
    "start_time": "2023-04-15T18:31:50.376Z"
   },
   {
    "duration": 1076,
    "start_time": "2023-04-15T18:31:51.875Z"
   },
   {
    "duration": 48,
    "start_time": "2023-04-15T18:31:54.078Z"
   },
   {
    "duration": 572,
    "start_time": "2023-04-15T18:31:55.455Z"
   },
   {
    "duration": 4,
    "start_time": "2023-04-15T18:31:57.721Z"
   },
   {
    "duration": 4,
    "start_time": "2023-04-15T18:31:58.612Z"
   },
   {
    "duration": 80,
    "start_time": "2023-04-15T18:31:59.532Z"
   },
   {
    "duration": 144,
    "start_time": "2023-04-15T18:32:03.024Z"
   },
   {
    "duration": 123,
    "start_time": "2023-04-15T18:32:05.037Z"
   },
   {
    "duration": 1064,
    "start_time": "2023-04-15T18:32:06.719Z"
   },
   {
    "duration": 439568,
    "start_time": "2023-04-15T18:32:36.514Z"
   },
   {
    "duration": 436,
    "start_time": "2023-04-15T18:39:56.089Z"
   },
   {
    "duration": 1958692,
    "start_time": "2023-04-15T18:40:03.439Z"
   },
   {
    "duration": 29,
    "start_time": "2023-04-15T19:15:02.418Z"
   },
   {
    "duration": 7,
    "start_time": "2023-04-15T19:15:18.919Z"
   },
   {
    "duration": 81,
    "start_time": "2023-04-15T19:22:44.567Z"
   },
   {
    "duration": 63,
    "start_time": "2023-04-15T19:23:10.313Z"
   },
   {
    "duration": 7,
    "start_time": "2023-04-15T19:23:40.014Z"
   },
   {
    "duration": 6,
    "start_time": "2023-04-15T19:23:51.092Z"
   },
   {
    "duration": 3,
    "start_time": "2023-04-15T19:23:57.155Z"
   },
   {
    "duration": 3,
    "start_time": "2023-04-15T19:24:06.441Z"
   },
   {
    "duration": 294011,
    "start_time": "2023-04-15T19:24:20.648Z"
   },
   {
    "duration": 4,
    "start_time": "2023-04-15T19:31:56.220Z"
   },
   {
    "duration": 4161,
    "start_time": "2023-04-15T19:32:02.670Z"
   },
   {
    "duration": 26299,
    "start_time": "2023-04-15T19:32:19.574Z"
   },
   {
    "duration": 25703,
    "start_time": "2023-04-15T19:33:19.824Z"
   },
   {
    "duration": 26137,
    "start_time": "2023-04-15T19:33:57.815Z"
   },
   {
    "duration": 29177,
    "start_time": "2023-04-15T19:34:50.811Z"
   },
   {
    "duration": 13,
    "start_time": "2023-04-15T19:40:23.617Z"
   },
   {
    "duration": 8995,
    "start_time": "2023-04-15T19:46:57.503Z"
   },
   {
    "duration": 972008,
    "start_time": "2023-04-15T19:47:14.169Z"
   },
   {
    "duration": 108,
    "start_time": "2023-04-15T20:03:36.948Z"
   },
   {
    "duration": 20,
    "start_time": "2023-04-15T20:04:01.649Z"
   },
   {
    "duration": 37,
    "start_time": "2023-04-15T20:04:15.081Z"
   },
   {
    "duration": 27,
    "start_time": "2023-04-15T20:04:19.721Z"
   },
   {
    "duration": 18,
    "start_time": "2023-04-15T20:04:25.639Z"
   },
   {
    "duration": 28,
    "start_time": "2023-04-15T20:04:38.223Z"
   },
   {
    "duration": 17,
    "start_time": "2023-04-15T20:04:44.183Z"
   },
   {
    "duration": 36,
    "start_time": "2023-04-15T20:04:55.770Z"
   },
   {
    "duration": 76403,
    "start_time": "2023-04-15T20:05:57.869Z"
   },
   {
    "duration": 120,
    "start_time": "2023-04-15T20:08:11.460Z"
   },
   {
    "duration": 109,
    "start_time": "2023-04-15T20:08:19.898Z"
   },
   {
    "duration": 312742,
    "start_time": "2023-04-15T20:08:42.230Z"
   },
   {
    "duration": 4,
    "start_time": "2023-04-15T20:14:02.512Z"
   },
   {
    "duration": 890,
    "start_time": "2023-04-15T20:14:04.625Z"
   },
   {
    "duration": 288,
    "start_time": "2023-04-15T20:14:11.253Z"
   },
   {
    "duration": 488,
    "start_time": "2023-04-15T20:14:13.650Z"
   },
   {
    "duration": 952,
    "start_time": "2023-04-15T20:14:15.108Z"
   },
   {
    "duration": 48,
    "start_time": "2023-04-15T20:14:17.081Z"
   },
   {
    "duration": 466,
    "start_time": "2023-04-15T20:14:18.587Z"
   },
   {
    "duration": 3,
    "start_time": "2023-04-15T20:14:21.479Z"
   },
   {
    "duration": 3,
    "start_time": "2023-04-15T20:14:22.463Z"
   },
   {
    "duration": 113,
    "start_time": "2023-04-15T20:14:23.558Z"
   },
   {
    "duration": 130,
    "start_time": "2023-04-15T20:14:28.353Z"
   },
   {
    "duration": 110,
    "start_time": "2023-04-15T20:14:39.264Z"
   },
   {
    "duration": 1079,
    "start_time": "2023-04-15T20:14:44.739Z"
   },
   {
    "duration": 414883,
    "start_time": "2023-04-15T20:14:54.714Z"
   },
   {
    "duration": 155019,
    "start_time": "2023-04-15T20:21:51.452Z"
   },
   {
    "duration": 102613,
    "start_time": "2023-04-15T20:24:52.959Z"
   },
   {
    "duration": 32446,
    "start_time": "2023-04-15T20:26:41.744Z"
   }
  ],
  "kernelspec": {
   "display_name": "Python 3 (ipykernel)",
   "language": "python",
   "name": "python3"
  },
  "language_info": {
   "codemirror_mode": {
    "name": "ipython",
    "version": 3
   },
   "file_extension": ".py",
   "mimetype": "text/x-python",
   "name": "python",
   "nbconvert_exporter": "python",
   "pygments_lexer": "ipython3",
   "version": "3.10.9"
  },
  "toc": {
   "base_numbering": 1,
   "nav_menu": {},
   "number_sections": true,
   "sideBar": true,
   "skip_h1_title": true,
   "title_cell": "Table of Contents",
   "title_sidebar": "Contents",
   "toc_cell": false,
   "toc_position": {},
   "toc_section_display": true,
   "toc_window_display": false
  }
 },
 "nbformat": 4,
 "nbformat_minor": 2
}
